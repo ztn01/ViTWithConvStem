{
 "cells": [
  {
   "cell_type": "code",
   "execution_count": null,
   "metadata": {},
   "outputs": [],
   "source": [
    "from datasets import load_dataset\n",
    "dataset = load_dataset(\"keremberke/chest-xray-classification\",'full')\n",
    "dataset.save_to_disk(\"./chest_xray_clasnsificatio\")"
   ]
  },
  {
   "cell_type": "code",
   "execution_count": null,
   "metadata": {},
   "outputs": [
    {
     "data": {
      "application/vnd.jupyter.widget-view+json": {
       "model_id": "722f5ba0b14443718f9f609d634453b3",
       "version_major": 2,
       "version_minor": 0
      },
      "text/plain": [
       "Downloading builder script:   0%|          | 0.00/4.20k [00:00<?, ?B/s]"
      ]
     },
     "metadata": {},
     "output_type": "display_data"
    },
    {
     "name": "stderr",
     "output_type": "stream",
     "text": [
      "C:\\Users\\19811\\AppData\\Local\\Temp\\ipykernel_8308\\1335099057.py:75: FutureWarning: `tokenizer` is deprecated and will be removed in version 5.0.0 for `Trainer.__init__`. Use `processing_class` instead.\n",
      "  trainer = Trainer(\n",
      "\u001b[34m\u001b[1mwandb\u001b[0m: \u001b[33mWARNING\u001b[0m The `run_name` is currently set to the same value as `TrainingArguments.output_dir`. If this was not intended, please specify a different run name by setting the `TrainingArguments.run_name` parameter.\n",
      "wandb: Using wandb-core as the SDK backend. Please refer to https://wandb.me/wandb-core for more information.\n",
      "wandb: Logging into wandb.ai. (Learn how to deploy a W&B server locally: https://wandb.me/wandb-server)\n",
      "wandb: You can find your API key in your browser here: https://wandb.ai/authorize\n",
      "wandb: Paste an API key from your profile and hit enter, or press ctrl+c to quit:wandb: Paste an API key from your profile and hit enter, or press ctrl+c to quit:wandb: Appending key for api.wandb.ai to your netrc file: C:\\Users\\19811\\_netrc\n"
     ]
    },
    {
     "data": {
      "application/vnd.jupyter.widget-view+json": {
       "model_id": "315dc3005a5b42ad96999026dbbf812b",
       "version_major": 2,
       "version_minor": 0
      },
      "text/plain": [
       "VBox(children=(Label(value='Waiting for wandb.init()...\\r'), FloatProgress(value=0.011277777777286247, max=1.0…"
      ]
     },
     "metadata": {},
     "output_type": "display_data"
    },
    {
     "data": {
      "text/html": [
       "Tracking run with wandb version 0.18.5"
      ],
      "text/plain": [
       "<IPython.core.display.HTML object>"
      ]
     },
     "metadata": {},
     "output_type": "display_data"
    },
    {
     "data": {
      "text/html": [
       "Run data is saved locally in <code>c:\\Users\\19811\\Desktop\\Master\\ECE592\\proj\\wandb\\run-20241116_174056-06jwlrp5</code>"
      ],
      "text/plain": [
       "<IPython.core.display.HTML object>"
      ]
     },
     "metadata": {},
     "output_type": "display_data"
    },
    {
     "data": {
      "text/html": [
       "Syncing run <strong><a href='https://wandb.ai/tzeng5-nc-state-university/huggingface/runs/06jwlrp5' target=\"_blank\">./vit_model</a></strong> to <a href='https://wandb.ai/tzeng5-nc-state-university/huggingface' target=\"_blank\">Weights & Biases</a> (<a href='https://wandb.me/run' target=\"_blank\">docs</a>)<br/>"
      ],
      "text/plain": [
       "<IPython.core.display.HTML object>"
      ]
     },
     "metadata": {},
     "output_type": "display_data"
    },
    {
     "data": {
      "text/html": [
       " View project at <a href='https://wandb.ai/tzeng5-nc-state-university/huggingface' target=\"_blank\">https://wandb.ai/tzeng5-nc-state-university/huggingface</a>"
      ],
      "text/plain": [
       "<IPython.core.display.HTML object>"
      ]
     },
     "metadata": {},
     "output_type": "display_data"
    },
    {
     "data": {
      "text/html": [
       " View run at <a href='https://wandb.ai/tzeng5-nc-state-university/huggingface/runs/06jwlrp5' target=\"_blank\">https://wandb.ai/tzeng5-nc-state-university/huggingface/runs/06jwlrp5</a>"
      ],
      "text/plain": [
       "<IPython.core.display.HTML object>"
      ]
     },
     "metadata": {},
     "output_type": "display_data"
    },
    {
     "data": {
      "application/vnd.jupyter.widget-view+json": {
       "model_id": "d9b922d53dc240049cdc9651be67bf52",
       "version_major": 2,
       "version_minor": 0
      },
      "text/plain": [
       "  0%|          | 0/2550 [00:00<?, ?it/s]"
      ]
     },
     "metadata": {},
     "output_type": "display_data"
    },
    {
     "name": "stdout",
     "output_type": "stream",
     "text": [
      "{'loss': 1.2936, 'grad_norm': 23.22121238708496, 'learning_rate': 4.980392156862745e-05, 'epoch': 0.04}\n",
      "{'loss': 0.7692, 'grad_norm': 0.4044587314128876, 'learning_rate': 4.960784313725491e-05, 'epoch': 0.08}\n",
      "{'loss': 0.5978, 'grad_norm': 2.999021053314209, 'learning_rate': 4.9411764705882355e-05, 'epoch': 0.12}\n",
      "{'loss': 0.5879, 'grad_norm': 2.198652982711792, 'learning_rate': 4.9215686274509804e-05, 'epoch': 0.16}\n",
      "{'loss': 0.6272, 'grad_norm': 1.4779688119888306, 'learning_rate': 4.901960784313725e-05, 'epoch': 0.2}\n",
      "{'loss': 0.5429, 'grad_norm': 5.54686164855957, 'learning_rate': 4.882352941176471e-05, 'epoch': 0.24}\n",
      "{'loss': 0.5327, 'grad_norm': 7.827354431152344, 'learning_rate': 4.862745098039216e-05, 'epoch': 0.27}\n",
      "{'loss': 0.6011, 'grad_norm': 8.274473190307617, 'learning_rate': 4.843137254901961e-05, 'epoch': 0.31}\n",
      "{'loss': 0.6586, 'grad_norm': 9.161334037780762, 'learning_rate': 4.823529411764706e-05, 'epoch': 0.35}\n",
      "{'loss': 0.8176, 'grad_norm': 5.5970377922058105, 'learning_rate': 4.803921568627452e-05, 'epoch': 0.39}\n",
      "{'loss': 0.6658, 'grad_norm': 0.5395345091819763, 'learning_rate': 4.7843137254901966e-05, 'epoch': 0.43}\n",
      "{'loss': 0.6842, 'grad_norm': 2.5314061641693115, 'learning_rate': 4.7647058823529414e-05, 'epoch': 0.47}\n",
      "{'loss': 0.6105, 'grad_norm': 9.534253120422363, 'learning_rate': 4.745098039215686e-05, 'epoch': 0.51}\n",
      "{'loss': 0.6188, 'grad_norm': 10.843937873840332, 'learning_rate': 4.725490196078431e-05, 'epoch': 0.55}\n",
      "{'loss': 0.632, 'grad_norm': 8.061721801757812, 'learning_rate': 4.705882352941177e-05, 'epoch': 0.59}\n",
      "{'loss': 0.7817, 'grad_norm': 0.8972516655921936, 'learning_rate': 4.6862745098039216e-05, 'epoch': 0.63}\n",
      "{'loss': 0.5663, 'grad_norm': 5.418936252593994, 'learning_rate': 4.666666666666667e-05, 'epoch': 0.67}\n",
      "{'loss': 0.3967, 'grad_norm': 3.6615710258483887, 'learning_rate': 4.647058823529412e-05, 'epoch': 0.71}\n",
      "{'loss': 0.5641, 'grad_norm': 30.461463928222656, 'learning_rate': 4.6274509803921576e-05, 'epoch': 0.75}\n",
      "{'loss': 0.5092, 'grad_norm': 6.9273834228515625, 'learning_rate': 4.607843137254902e-05, 'epoch': 0.78}\n",
      "{'loss': 0.5554, 'grad_norm': 1.2473236322402954, 'learning_rate': 4.588235294117647e-05, 'epoch': 0.82}\n",
      "{'loss': 0.4185, 'grad_norm': 1.778749704360962, 'learning_rate': 4.568627450980392e-05, 'epoch': 0.86}\n",
      "{'loss': 0.4606, 'grad_norm': 4.669403553009033, 'learning_rate': 4.549019607843137e-05, 'epoch': 0.9}\n",
      "{'loss': 0.4052, 'grad_norm': 3.965719223022461, 'learning_rate': 4.5294117647058826e-05, 'epoch': 0.94}\n",
      "{'loss': 0.3638, 'grad_norm': 4.742045879364014, 'learning_rate': 4.5098039215686275e-05, 'epoch': 0.98}\n"
     ]
    },
    {
     "data": {
      "application/vnd.jupyter.widget-view+json": {
       "model_id": "0690858f591e4e21b62e98b4b80b1b34",
       "version_major": 2,
       "version_minor": 0
      },
      "text/plain": [
       "  0%|          | 0/73 [00:00<?, ?it/s]"
      ]
     },
     "metadata": {},
     "output_type": "display_data"
    },
    {
     "name": "stdout",
     "output_type": "stream",
     "text": [
      "{'eval_loss': 0.2792075276374817, 'eval_accuracy': 0.878969957081545, 'eval_runtime': 233.7612, 'eval_samples_per_second': 4.984, 'eval_steps_per_second': 0.312, 'epoch': 1.0}\n",
      "{'loss': 0.2869, 'grad_norm': 15.761570930480957, 'learning_rate': 4.490196078431373e-05, 'epoch': 1.02}\n",
      "{'loss': 0.4262, 'grad_norm': 15.251462936401367, 'learning_rate': 4.470588235294118e-05, 'epoch': 1.06}\n",
      "{'loss': 0.4244, 'grad_norm': 14.319478034973145, 'learning_rate': 4.450980392156863e-05, 'epoch': 1.1}\n",
      "{'loss': 0.3106, 'grad_norm': 8.241303443908691, 'learning_rate': 4.431372549019608e-05, 'epoch': 1.14}\n",
      "{'loss': 0.3482, 'grad_norm': 11.514594078063965, 'learning_rate': 4.411764705882353e-05, 'epoch': 1.18}\n",
      "{'loss': 0.5182, 'grad_norm': 15.224875450134277, 'learning_rate': 4.392156862745098e-05, 'epoch': 1.22}\n",
      "{'loss': 0.3725, 'grad_norm': 1.137607455253601, 'learning_rate': 4.3725490196078437e-05, 'epoch': 1.25}\n",
      "{'loss': 0.279, 'grad_norm': 3.010125160217285, 'learning_rate': 4.3529411764705885e-05, 'epoch': 1.29}\n",
      "{'loss': 0.4989, 'grad_norm': 16.15440559387207, 'learning_rate': 4.3333333333333334e-05, 'epoch': 1.33}\n",
      "{'loss': 0.3836, 'grad_norm': 3.0000064373016357, 'learning_rate': 4.313725490196079e-05, 'epoch': 1.37}\n",
      "{'loss': 0.3047, 'grad_norm': 1.2070307731628418, 'learning_rate': 4.294117647058823e-05, 'epoch': 1.41}\n",
      "{'loss': 0.2949, 'grad_norm': 1.4202216863632202, 'learning_rate': 4.274509803921569e-05, 'epoch': 1.45}\n",
      "{'loss': 0.2568, 'grad_norm': 7.238682746887207, 'learning_rate': 4.2549019607843136e-05, 'epoch': 1.49}\n",
      "{'loss': 0.441, 'grad_norm': 4.911732196807861, 'learning_rate': 4.235294117647059e-05, 'epoch': 1.53}\n",
      "{'loss': 0.3625, 'grad_norm': 1.883923053741455, 'learning_rate': 4.215686274509804e-05, 'epoch': 1.57}\n",
      "{'loss': 0.3941, 'grad_norm': 4.8068366050720215, 'learning_rate': 4.1960784313725496e-05, 'epoch': 1.61}\n",
      "{'loss': 0.3483, 'grad_norm': 7.096617221832275, 'learning_rate': 4.1764705882352944e-05, 'epoch': 1.65}\n",
      "{'loss': 0.2624, 'grad_norm': 5.207724571228027, 'learning_rate': 4.156862745098039e-05, 'epoch': 1.69}\n",
      "{'loss': 0.3111, 'grad_norm': 10.178236961364746, 'learning_rate': 4.137254901960784e-05, 'epoch': 1.73}\n",
      "{'loss': 0.4243, 'grad_norm': 1.1504958868026733, 'learning_rate': 4.11764705882353e-05, 'epoch': 1.76}\n",
      "{'loss': 0.388, 'grad_norm': 10.300592422485352, 'learning_rate': 4.0980392156862746e-05, 'epoch': 1.8}\n",
      "{'loss': 0.3215, 'grad_norm': 6.770224571228027, 'learning_rate': 4.0784313725490195e-05, 'epoch': 1.84}\n",
      "{'loss': 0.2782, 'grad_norm': 2.6334986686706543, 'learning_rate': 4.058823529411765e-05, 'epoch': 1.88}\n",
      "{'loss': 0.2158, 'grad_norm': 1.7012578248977661, 'learning_rate': 4.03921568627451e-05, 'epoch': 1.92}\n",
      "{'loss': 0.2984, 'grad_norm': 5.976123809814453, 'learning_rate': 4.0196078431372555e-05, 'epoch': 1.96}\n",
      "{'loss': 0.1903, 'grad_norm': 4.390810966491699, 'learning_rate': 4e-05, 'epoch': 2.0}\n"
     ]
    },
    {
     "data": {
      "application/vnd.jupyter.widget-view+json": {
       "model_id": "eb73c28ea3264cba937892b0f783860a",
       "version_major": 2,
       "version_minor": 0
      },
      "text/plain": [
       "  0%|          | 0/73 [00:00<?, ?it/s]"
      ]
     },
     "metadata": {},
     "output_type": "display_data"
    },
    {
     "name": "stdout",
     "output_type": "stream",
     "text": [
      "{'eval_loss': 0.2987922728061676, 'eval_accuracy': 0.9012875536480687, 'eval_runtime': 147.1938, 'eval_samples_per_second': 7.915, 'eval_steps_per_second': 0.496, 'epoch': 2.0}\n",
      "{'loss': 0.3358, 'grad_norm': 13.516194343566895, 'learning_rate': 3.980392156862745e-05, 'epoch': 2.04}\n",
      "{'loss': 0.3068, 'grad_norm': 10.614214897155762, 'learning_rate': 3.96078431372549e-05, 'epoch': 2.08}\n",
      "{'loss': 0.2537, 'grad_norm': 16.807022094726562, 'learning_rate': 3.9411764705882356e-05, 'epoch': 2.12}\n",
      "{'loss': 0.4174, 'grad_norm': 23.811050415039062, 'learning_rate': 3.9215686274509805e-05, 'epoch': 2.16}\n",
      "{'loss': 0.3191, 'grad_norm': 2.6947083473205566, 'learning_rate': 3.9019607843137254e-05, 'epoch': 2.2}\n",
      "{'loss': 0.3418, 'grad_norm': 8.204344749450684, 'learning_rate': 3.882352941176471e-05, 'epoch': 2.24}\n",
      "{'loss': 0.2481, 'grad_norm': 8.038412094116211, 'learning_rate': 3.862745098039216e-05, 'epoch': 2.27}\n",
      "{'loss': 0.2757, 'grad_norm': 1.4780242443084717, 'learning_rate': 3.8431372549019614e-05, 'epoch': 2.31}\n",
      "{'loss': 0.3991, 'grad_norm': 8.168168067932129, 'learning_rate': 3.8235294117647055e-05, 'epoch': 2.35}\n",
      "{'loss': 0.2841, 'grad_norm': 4.378020286560059, 'learning_rate': 3.803921568627451e-05, 'epoch': 2.39}\n",
      "{'loss': 0.3267, 'grad_norm': 3.622276782989502, 'learning_rate': 3.784313725490196e-05, 'epoch': 2.43}\n",
      "{'loss': 0.2936, 'grad_norm': 9.932599067687988, 'learning_rate': 3.7647058823529415e-05, 'epoch': 2.47}\n",
      "{'loss': 0.2313, 'grad_norm': 4.075334548950195, 'learning_rate': 3.7450980392156864e-05, 'epoch': 2.51}\n",
      "{'loss': 0.275, 'grad_norm': 14.80558967590332, 'learning_rate': 3.725490196078432e-05, 'epoch': 2.55}\n",
      "{'loss': 0.3433, 'grad_norm': 5.6757307052612305, 'learning_rate': 3.705882352941177e-05, 'epoch': 2.59}\n",
      "{'loss': 0.2842, 'grad_norm': 2.740734338760376, 'learning_rate': 3.686274509803922e-05, 'epoch': 2.63}\n",
      "{'loss': 0.3393, 'grad_norm': 7.388392448425293, 'learning_rate': 3.6666666666666666e-05, 'epoch': 2.67}\n",
      "{'loss': 0.329, 'grad_norm': 12.574256896972656, 'learning_rate': 3.6470588235294114e-05, 'epoch': 2.71}\n",
      "{'loss': 0.3697, 'grad_norm': 2.3093361854553223, 'learning_rate': 3.627450980392157e-05, 'epoch': 2.75}\n",
      "{'loss': 0.3582, 'grad_norm': 4.18232536315918, 'learning_rate': 3.607843137254902e-05, 'epoch': 2.78}\n",
      "{'loss': 0.2561, 'grad_norm': 1.4435441493988037, 'learning_rate': 3.5882352941176474e-05, 'epoch': 2.82}\n",
      "{'loss': 0.1932, 'grad_norm': 17.779951095581055, 'learning_rate': 3.568627450980392e-05, 'epoch': 2.86}\n",
      "{'loss': 0.3178, 'grad_norm': 3.3449547290802, 'learning_rate': 3.549019607843138e-05, 'epoch': 2.9}\n",
      "{'loss': 0.2416, 'grad_norm': 2.6177382469177246, 'learning_rate': 3.529411764705883e-05, 'epoch': 2.94}\n",
      "{'loss': 0.2372, 'grad_norm': 3.7564072608947754, 'learning_rate': 3.5098039215686276e-05, 'epoch': 2.98}\n"
     ]
    },
    {
     "data": {
      "application/vnd.jupyter.widget-view+json": {
       "model_id": "eb6d322cc90d4372bd14fe2d98eb3849",
       "version_major": 2,
       "version_minor": 0
      },
      "text/plain": [
       "  0%|          | 0/73 [00:00<?, ?it/s]"
      ]
     },
     "metadata": {},
     "output_type": "display_data"
    },
    {
     "name": "stdout",
     "output_type": "stream",
     "text": [
      "{'eval_loss': 0.2000889629125595, 'eval_accuracy': 0.9227467811158798, 'eval_runtime': 146.7425, 'eval_samples_per_second': 7.939, 'eval_steps_per_second': 0.497, 'epoch': 3.0}\n",
      "{'loss': 0.152, 'grad_norm': 2.9769539833068848, 'learning_rate': 3.4901960784313725e-05, 'epoch': 3.02}\n",
      "{'loss': 0.2879, 'grad_norm': 4.8267974853515625, 'learning_rate': 3.470588235294118e-05, 'epoch': 3.06}\n",
      "{'loss': 0.1729, 'grad_norm': 8.955961227416992, 'learning_rate': 3.450980392156863e-05, 'epoch': 3.1}\n",
      "{'loss': 0.3143, 'grad_norm': 9.25610637664795, 'learning_rate': 3.431372549019608e-05, 'epoch': 3.14}\n",
      "{'loss': 0.225, 'grad_norm': 7.599547863006592, 'learning_rate': 3.411764705882353e-05, 'epoch': 3.18}\n",
      "{'loss': 0.2226, 'grad_norm': 7.530545711517334, 'learning_rate': 3.392156862745098e-05, 'epoch': 3.22}\n",
      "{'loss': 0.163, 'grad_norm': 4.091729640960693, 'learning_rate': 3.372549019607844e-05, 'epoch': 3.25}\n",
      "{'loss': 0.2517, 'grad_norm': 0.8671070337295532, 'learning_rate': 3.352941176470588e-05, 'epoch': 3.29}\n",
      "{'loss': 0.2465, 'grad_norm': 2.2665820121765137, 'learning_rate': 3.3333333333333335e-05, 'epoch': 3.33}\n",
      "{'loss': 0.317, 'grad_norm': 3.542470932006836, 'learning_rate': 3.3137254901960784e-05, 'epoch': 3.37}\n",
      "{'loss': 0.1944, 'grad_norm': 6.56397819519043, 'learning_rate': 3.294117647058824e-05, 'epoch': 3.41}\n",
      "{'loss': 0.2741, 'grad_norm': 15.805035591125488, 'learning_rate': 3.274509803921569e-05, 'epoch': 3.45}\n",
      "{'loss': 0.5109, 'grad_norm': 17.142534255981445, 'learning_rate': 3.254901960784314e-05, 'epoch': 3.49}\n",
      "{'loss': 0.6043, 'grad_norm': 10.079771041870117, 'learning_rate': 3.235294117647059e-05, 'epoch': 3.53}\n",
      "{'loss': 0.1987, 'grad_norm': 5.73918342590332, 'learning_rate': 3.215686274509804e-05, 'epoch': 3.57}\n",
      "{'loss': 0.2848, 'grad_norm': 9.252081871032715, 'learning_rate': 3.196078431372549e-05, 'epoch': 3.61}\n",
      "{'loss': 0.3319, 'grad_norm': 20.749103546142578, 'learning_rate': 3.176470588235294e-05, 'epoch': 3.65}\n",
      "{'loss': 0.3909, 'grad_norm': 3.488306999206543, 'learning_rate': 3.1568627450980394e-05, 'epoch': 3.69}\n",
      "{'loss': 0.1782, 'grad_norm': 1.9313280582427979, 'learning_rate': 3.137254901960784e-05, 'epoch': 3.73}\n",
      "{'loss': 0.1233, 'grad_norm': 6.210925102233887, 'learning_rate': 3.11764705882353e-05, 'epoch': 3.76}\n",
      "{'loss': 0.3055, 'grad_norm': 7.193145275115967, 'learning_rate': 3.098039215686275e-05, 'epoch': 3.8}\n",
      "{'loss': 0.1395, 'grad_norm': 2.4062390327453613, 'learning_rate': 3.07843137254902e-05, 'epoch': 3.84}\n",
      "{'loss': 0.1693, 'grad_norm': 2.3904571533203125, 'learning_rate': 3.058823529411765e-05, 'epoch': 3.88}\n",
      "{'loss': 0.255, 'grad_norm': 14.909995079040527, 'learning_rate': 3.0392156862745097e-05, 'epoch': 3.92}\n",
      "{'loss': 0.1656, 'grad_norm': 1.2385532855987549, 'learning_rate': 3.019607843137255e-05, 'epoch': 3.96}\n",
      "{'loss': 0.2539, 'grad_norm': 5.070318698883057, 'learning_rate': 3e-05, 'epoch': 4.0}\n"
     ]
    },
    {
     "data": {
      "application/vnd.jupyter.widget-view+json": {
       "model_id": "991956a871f047619e8fa969e60e3b06",
       "version_major": 2,
       "version_minor": 0
      },
      "text/plain": [
       "  0%|          | 0/73 [00:00<?, ?it/s]"
      ]
     },
     "metadata": {},
     "output_type": "display_data"
    },
    {
     "name": "stdout",
     "output_type": "stream",
     "text": [
      "{'eval_loss': 0.2321254462003708, 'eval_accuracy': 0.9201716738197425, 'eval_runtime': 247.3281, 'eval_samples_per_second': 4.71, 'eval_steps_per_second': 0.295, 'epoch': 4.0}\n",
      "{'loss': 0.1285, 'grad_norm': 4.822474479675293, 'learning_rate': 2.9803921568627453e-05, 'epoch': 4.04}\n",
      "{'loss': 0.3053, 'grad_norm': 10.9007568359375, 'learning_rate': 2.9607843137254905e-05, 'epoch': 4.08}\n",
      "{'loss': 0.1908, 'grad_norm': 0.3530847728252411, 'learning_rate': 2.9411764705882354e-05, 'epoch': 4.12}\n",
      "{'loss': 0.1414, 'grad_norm': 6.022669792175293, 'learning_rate': 2.9215686274509806e-05, 'epoch': 4.16}\n",
      "{'loss': 0.1235, 'grad_norm': 0.2717658579349518, 'learning_rate': 2.9019607843137258e-05, 'epoch': 4.2}\n",
      "{'loss': 0.2748, 'grad_norm': 2.3142852783203125, 'learning_rate': 2.8823529411764703e-05, 'epoch': 4.24}\n",
      "{'loss': 0.208, 'grad_norm': 3.1117758750915527, 'learning_rate': 2.8627450980392155e-05, 'epoch': 4.27}\n",
      "{'loss': 0.2414, 'grad_norm': 4.461186408996582, 'learning_rate': 2.8431372549019608e-05, 'epoch': 4.31}\n",
      "{'loss': 0.1936, 'grad_norm': 5.642787456512451, 'learning_rate': 2.823529411764706e-05, 'epoch': 4.35}\n",
      "{'loss': 0.2377, 'grad_norm': 5.260824680328369, 'learning_rate': 2.8039215686274512e-05, 'epoch': 4.39}\n",
      "{'loss': 0.1776, 'grad_norm': 2.360198736190796, 'learning_rate': 2.7843137254901964e-05, 'epoch': 4.43}\n",
      "{'loss': 0.1924, 'grad_norm': 2.3513715267181396, 'learning_rate': 2.7647058823529416e-05, 'epoch': 4.47}\n",
      "{'loss': 0.1759, 'grad_norm': 8.632549285888672, 'learning_rate': 2.7450980392156865e-05, 'epoch': 4.51}\n",
      "{'loss': 0.1778, 'grad_norm': 2.1023316383361816, 'learning_rate': 2.7254901960784314e-05, 'epoch': 4.55}\n",
      "{'loss': 0.2515, 'grad_norm': 3.5679075717926025, 'learning_rate': 2.7058823529411766e-05, 'epoch': 4.59}\n",
      "{'loss': 0.1664, 'grad_norm': 7.905242443084717, 'learning_rate': 2.6862745098039214e-05, 'epoch': 4.63}\n",
      "{'loss': 0.3733, 'grad_norm': 8.176687240600586, 'learning_rate': 2.6666666666666667e-05, 'epoch': 4.67}\n",
      "{'loss': 0.2167, 'grad_norm': 5.021815299987793, 'learning_rate': 2.647058823529412e-05, 'epoch': 4.71}\n",
      "{'loss': 0.1712, 'grad_norm': 2.573352813720703, 'learning_rate': 2.627450980392157e-05, 'epoch': 4.75}\n",
      "{'loss': 0.1342, 'grad_norm': 4.6217756271362305, 'learning_rate': 2.6078431372549023e-05, 'epoch': 4.78}\n",
      "{'loss': 0.2889, 'grad_norm': 0.15859001874923706, 'learning_rate': 2.5882352941176475e-05, 'epoch': 4.82}\n",
      "{'loss': 0.2172, 'grad_norm': 7.929683208465576, 'learning_rate': 2.568627450980392e-05, 'epoch': 4.86}\n",
      "{'loss': 0.2256, 'grad_norm': 8.520318984985352, 'learning_rate': 2.5490196078431373e-05, 'epoch': 4.9}\n",
      "{'loss': 0.1729, 'grad_norm': 2.9995248317718506, 'learning_rate': 2.5294117647058825e-05, 'epoch': 4.94}\n",
      "{'loss': 0.2087, 'grad_norm': 6.84605598449707, 'learning_rate': 2.5098039215686277e-05, 'epoch': 4.98}\n"
     ]
    },
    {
     "data": {
      "application/vnd.jupyter.widget-view+json": {
       "model_id": "1beb3819759d41fab4dca1051fe83fe3",
       "version_major": 2,
       "version_minor": 0
      },
      "text/plain": [
       "  0%|          | 0/73 [00:00<?, ?it/s]"
      ]
     },
     "metadata": {},
     "output_type": "display_data"
    },
    {
     "name": "stdout",
     "output_type": "stream",
     "text": [
      "{'eval_loss': 0.24086377024650574, 'eval_accuracy': 0.9201716738197425, 'eval_runtime': 149.0203, 'eval_samples_per_second': 7.818, 'eval_steps_per_second': 0.49, 'epoch': 5.0}\n",
      "{'loss': 0.1566, 'grad_norm': 12.72549057006836, 'learning_rate': 2.4901960784313726e-05, 'epoch': 5.02}\n",
      "{'loss': 0.2349, 'grad_norm': 6.034121036529541, 'learning_rate': 2.4705882352941178e-05, 'epoch': 5.06}\n",
      "{'loss': 0.1335, 'grad_norm': 13.013909339904785, 'learning_rate': 2.4509803921568626e-05, 'epoch': 5.1}\n",
      "{'loss': 0.1498, 'grad_norm': 4.224095821380615, 'learning_rate': 2.431372549019608e-05, 'epoch': 5.14}\n",
      "{'loss': 0.2132, 'grad_norm': 12.922297477722168, 'learning_rate': 2.411764705882353e-05, 'epoch': 5.18}\n",
      "{'loss': 0.2218, 'grad_norm': 13.278406143188477, 'learning_rate': 2.3921568627450983e-05, 'epoch': 5.22}\n",
      "{'loss': 0.2502, 'grad_norm': 6.417782783508301, 'learning_rate': 2.372549019607843e-05, 'epoch': 5.25}\n",
      "{'loss': 0.1504, 'grad_norm': 4.598542213439941, 'learning_rate': 2.3529411764705884e-05, 'epoch': 5.29}\n",
      "{'loss': 0.1119, 'grad_norm': 8.406919479370117, 'learning_rate': 2.3333333333333336e-05, 'epoch': 5.33}\n",
      "{'loss': 0.1805, 'grad_norm': 8.90456771850586, 'learning_rate': 2.3137254901960788e-05, 'epoch': 5.37}\n",
      "{'loss': 0.1276, 'grad_norm': 10.4298677444458, 'learning_rate': 2.2941176470588237e-05, 'epoch': 5.41}\n",
      "{'loss': 0.0646, 'grad_norm': 5.352464199066162, 'learning_rate': 2.2745098039215685e-05, 'epoch': 5.45}\n",
      "{'loss': 0.2141, 'grad_norm': 7.190937519073486, 'learning_rate': 2.2549019607843138e-05, 'epoch': 5.49}\n",
      "{'loss': 0.2554, 'grad_norm': 0.323057621717453, 'learning_rate': 2.235294117647059e-05, 'epoch': 5.53}\n",
      "{'loss': 0.1382, 'grad_norm': 6.412540435791016, 'learning_rate': 2.215686274509804e-05, 'epoch': 5.57}\n",
      "{'loss': 0.2258, 'grad_norm': 13.739652633666992, 'learning_rate': 2.196078431372549e-05, 'epoch': 5.61}\n",
      "{'loss': 0.1624, 'grad_norm': 4.453871250152588, 'learning_rate': 2.1764705882352943e-05, 'epoch': 5.65}\n",
      "{'loss': 0.2187, 'grad_norm': 1.4580391645431519, 'learning_rate': 2.1568627450980395e-05, 'epoch': 5.69}\n",
      "{'loss': 0.1068, 'grad_norm': 4.915891647338867, 'learning_rate': 2.1372549019607844e-05, 'epoch': 5.73}\n",
      "{'loss': 0.1638, 'grad_norm': 4.705786228179932, 'learning_rate': 2.1176470588235296e-05, 'epoch': 5.76}\n",
      "{'loss': 0.1214, 'grad_norm': 0.8400051593780518, 'learning_rate': 2.0980392156862748e-05, 'epoch': 5.8}\n",
      "{'loss': 0.2991, 'grad_norm': 6.502616882324219, 'learning_rate': 2.0784313725490197e-05, 'epoch': 5.84}\n",
      "{'loss': 0.1525, 'grad_norm': 9.212117195129395, 'learning_rate': 2.058823529411765e-05, 'epoch': 5.88}\n",
      "{'loss': 0.1644, 'grad_norm': 6.481455326080322, 'learning_rate': 2.0392156862745097e-05, 'epoch': 5.92}\n",
      "{'loss': 0.196, 'grad_norm': 4.945247173309326, 'learning_rate': 2.019607843137255e-05, 'epoch': 5.96}\n",
      "{'loss': 0.2041, 'grad_norm': 4.554713249206543, 'learning_rate': 2e-05, 'epoch': 6.0}\n"
     ]
    },
    {
     "data": {
      "application/vnd.jupyter.widget-view+json": {
       "model_id": "b94eba1809ca4bf18b58709fe2286886",
       "version_major": 2,
       "version_minor": 0
      },
      "text/plain": [
       "  0%|          | 0/73 [00:00<?, ?it/s]"
      ]
     },
     "metadata": {},
     "output_type": "display_data"
    },
    {
     "name": "stdout",
     "output_type": "stream",
     "text": [
      "{'eval_loss': 0.17081515491008759, 'eval_accuracy': 0.9416309012875537, 'eval_runtime': 150.0562, 'eval_samples_per_second': 7.764, 'eval_steps_per_second': 0.486, 'epoch': 6.0}\n",
      "{'loss': 0.0928, 'grad_norm': 6.786096096038818, 'learning_rate': 1.980392156862745e-05, 'epoch': 6.04}\n",
      "{'loss': 0.1554, 'grad_norm': 11.25170612335205, 'learning_rate': 1.9607843137254903e-05, 'epoch': 6.08}\n",
      "{'loss': 0.0553, 'grad_norm': 7.1980390548706055, 'learning_rate': 1.9411764705882355e-05, 'epoch': 6.12}\n",
      "{'loss': 0.0135, 'grad_norm': 5.88771915435791, 'learning_rate': 1.9215686274509807e-05, 'epoch': 6.16}\n",
      "{'loss': 0.2331, 'grad_norm': 0.7407482862472534, 'learning_rate': 1.9019607843137255e-05, 'epoch': 6.2}\n",
      "{'loss': 0.2102, 'grad_norm': 2.0650699138641357, 'learning_rate': 1.8823529411764708e-05, 'epoch': 6.24}\n",
      "{'loss': 0.1855, 'grad_norm': 4.044532775878906, 'learning_rate': 1.862745098039216e-05, 'epoch': 6.27}\n",
      "{'loss': 0.1367, 'grad_norm': 2.246584177017212, 'learning_rate': 1.843137254901961e-05, 'epoch': 6.31}\n",
      "{'loss': 0.2346, 'grad_norm': 0.10642601549625397, 'learning_rate': 1.8235294117647057e-05, 'epoch': 6.35}\n",
      "{'loss': 0.0886, 'grad_norm': 20.13545799255371, 'learning_rate': 1.803921568627451e-05, 'epoch': 6.39}\n",
      "{'loss': 0.1506, 'grad_norm': 1.9757121801376343, 'learning_rate': 1.784313725490196e-05, 'epoch': 6.43}\n",
      "{'loss': 0.2146, 'grad_norm': 0.4178522825241089, 'learning_rate': 1.7647058823529414e-05, 'epoch': 6.47}\n",
      "{'loss': 0.1772, 'grad_norm': 6.949995517730713, 'learning_rate': 1.7450980392156862e-05, 'epoch': 6.51}\n",
      "{'loss': 0.1422, 'grad_norm': 7.499760627746582, 'learning_rate': 1.7254901960784314e-05, 'epoch': 6.55}\n",
      "{'loss': 0.1555, 'grad_norm': 1.955509066581726, 'learning_rate': 1.7058823529411767e-05, 'epoch': 6.59}\n",
      "{'loss': 0.1944, 'grad_norm': 5.617738246917725, 'learning_rate': 1.686274509803922e-05, 'epoch': 6.63}\n",
      "{'loss': 0.1299, 'grad_norm': 10.152512550354004, 'learning_rate': 1.6666666666666667e-05, 'epoch': 6.67}\n",
      "{'loss': 0.1481, 'grad_norm': 2.85675048828125, 'learning_rate': 1.647058823529412e-05, 'epoch': 6.71}\n",
      "{'loss': 0.1612, 'grad_norm': 8.022318840026855, 'learning_rate': 1.627450980392157e-05, 'epoch': 6.75}\n",
      "{'loss': 0.1653, 'grad_norm': 3.5002100467681885, 'learning_rate': 1.607843137254902e-05, 'epoch': 6.78}\n",
      "{'loss': 0.1931, 'grad_norm': 2.9620895385742188, 'learning_rate': 1.588235294117647e-05, 'epoch': 6.82}\n",
      "{'loss': 0.133, 'grad_norm': 2.8164355754852295, 'learning_rate': 1.568627450980392e-05, 'epoch': 6.86}\n",
      "{'loss': 0.1711, 'grad_norm': 5.261735439300537, 'learning_rate': 1.5490196078431373e-05, 'epoch': 6.9}\n",
      "{'loss': 0.1605, 'grad_norm': 5.721266746520996, 'learning_rate': 1.5294117647058826e-05, 'epoch': 6.94}\n",
      "{'loss': 0.231, 'grad_norm': 3.7453932762145996, 'learning_rate': 1.5098039215686274e-05, 'epoch': 6.98}\n"
     ]
    },
    {
     "data": {
      "application/vnd.jupyter.widget-view+json": {
       "model_id": "feb59b98874342379686ca1527289a3f",
       "version_major": 2,
       "version_minor": 0
      },
      "text/plain": [
       "  0%|          | 0/73 [00:00<?, ?it/s]"
      ]
     },
     "metadata": {},
     "output_type": "display_data"
    },
    {
     "name": "stdout",
     "output_type": "stream",
     "text": [
      "{'eval_loss': 0.17084607481956482, 'eval_accuracy': 0.9416309012875537, 'eval_runtime': 150.6362, 'eval_samples_per_second': 7.734, 'eval_steps_per_second': 0.485, 'epoch': 7.0}\n",
      "{'loss': 0.2365, 'grad_norm': 9.027932167053223, 'learning_rate': 1.4901960784313726e-05, 'epoch': 7.02}\n",
      "{'loss': 0.1425, 'grad_norm': 0.7207277417182922, 'learning_rate': 1.4705882352941177e-05, 'epoch': 7.06}\n",
      "{'loss': 0.103, 'grad_norm': 0.7626366019248962, 'learning_rate': 1.4509803921568629e-05, 'epoch': 7.1}\n",
      "{'loss': 0.0641, 'grad_norm': 7.861717700958252, 'learning_rate': 1.4313725490196078e-05, 'epoch': 7.14}\n",
      "{'loss': 0.1008, 'grad_norm': 10.903027534484863, 'learning_rate': 1.411764705882353e-05, 'epoch': 7.18}\n",
      "{'loss': 0.1598, 'grad_norm': 31.84517478942871, 'learning_rate': 1.3921568627450982e-05, 'epoch': 7.22}\n",
      "{'loss': 0.109, 'grad_norm': 3.7606818675994873, 'learning_rate': 1.3725490196078432e-05, 'epoch': 7.25}\n",
      "{'loss': 0.1736, 'grad_norm': 0.11190846562385559, 'learning_rate': 1.3529411764705883e-05, 'epoch': 7.29}\n",
      "{'loss': 0.183, 'grad_norm': 4.406773090362549, 'learning_rate': 1.3333333333333333e-05, 'epoch': 7.33}\n",
      "{'loss': 0.1451, 'grad_norm': 8.925483703613281, 'learning_rate': 1.3137254901960785e-05, 'epoch': 7.37}\n",
      "{'loss': 0.2308, 'grad_norm': 7.708272933959961, 'learning_rate': 1.2941176470588238e-05, 'epoch': 7.41}\n",
      "{'loss': 0.176, 'grad_norm': 8.00979995727539, 'learning_rate': 1.2745098039215686e-05, 'epoch': 7.45}\n",
      "{'loss': 0.1437, 'grad_norm': 6.956575393676758, 'learning_rate': 1.2549019607843138e-05, 'epoch': 7.49}\n",
      "{'loss': 0.0915, 'grad_norm': 0.5610898733139038, 'learning_rate': 1.2352941176470589e-05, 'epoch': 7.53}\n",
      "{'loss': 0.0891, 'grad_norm': 0.503661036491394, 'learning_rate': 1.215686274509804e-05, 'epoch': 7.57}\n",
      "{'loss': 0.1041, 'grad_norm': 7.869862079620361, 'learning_rate': 1.1960784313725491e-05, 'epoch': 7.61}\n",
      "{'loss': 0.1024, 'grad_norm': 8.943575859069824, 'learning_rate': 1.1764705882352942e-05, 'epoch': 7.65}\n",
      "{'loss': 0.1229, 'grad_norm': 5.3891825675964355, 'learning_rate': 1.1568627450980394e-05, 'epoch': 7.69}\n",
      "{'loss': 0.1617, 'grad_norm': 7.694720268249512, 'learning_rate': 1.1372549019607843e-05, 'epoch': 7.73}\n",
      "{'loss': 0.1222, 'grad_norm': 13.92755126953125, 'learning_rate': 1.1176470588235295e-05, 'epoch': 7.76}\n",
      "{'loss': 0.128, 'grad_norm': 0.7768195867538452, 'learning_rate': 1.0980392156862745e-05, 'epoch': 7.8}\n",
      "{'loss': 0.1323, 'grad_norm': 9.652668952941895, 'learning_rate': 1.0784313725490197e-05, 'epoch': 7.84}\n",
      "{'loss': 0.228, 'grad_norm': 7.125327110290527, 'learning_rate': 1.0588235294117648e-05, 'epoch': 7.88}\n",
      "{'loss': 0.0699, 'grad_norm': 2.9832451343536377, 'learning_rate': 1.0392156862745098e-05, 'epoch': 7.92}\n",
      "{'loss': 0.158, 'grad_norm': 0.5126587748527527, 'learning_rate': 1.0196078431372549e-05, 'epoch': 7.96}\n",
      "{'loss': 0.1223, 'grad_norm': 1.866178035736084, 'learning_rate': 1e-05, 'epoch': 8.0}\n"
     ]
    },
    {
     "data": {
      "application/vnd.jupyter.widget-view+json": {
       "model_id": "1243e87401204cfa9b2f416458d964b2",
       "version_major": 2,
       "version_minor": 0
      },
      "text/plain": [
       "  0%|          | 0/73 [00:00<?, ?it/s]"
      ]
     },
     "metadata": {},
     "output_type": "display_data"
    },
    {
     "name": "stdout",
     "output_type": "stream",
     "text": [
      "{'eval_loss': 0.19189943373203278, 'eval_accuracy': 0.934763948497854, 'eval_runtime': 182.6368, 'eval_samples_per_second': 6.379, 'eval_steps_per_second': 0.4, 'epoch': 8.0}\n",
      "{'loss': 0.216, 'grad_norm': 6.726747035980225, 'learning_rate': 9.803921568627451e-06, 'epoch': 8.04}\n",
      "{'loss': 0.0964, 'grad_norm': 0.8646385669708252, 'learning_rate': 9.607843137254903e-06, 'epoch': 8.08}\n",
      "{'loss': 0.0608, 'grad_norm': 0.6351845860481262, 'learning_rate': 9.411764705882354e-06, 'epoch': 8.12}\n",
      "{'loss': 0.1332, 'grad_norm': 6.478155612945557, 'learning_rate': 9.215686274509804e-06, 'epoch': 8.16}\n",
      "{'loss': 0.0401, 'grad_norm': 0.06587941199541092, 'learning_rate': 9.019607843137255e-06, 'epoch': 8.2}\n",
      "{'loss': 0.172, 'grad_norm': 3.740788459777832, 'learning_rate': 8.823529411764707e-06, 'epoch': 8.24}\n",
      "{'loss': 0.1814, 'grad_norm': 0.48280563950538635, 'learning_rate': 8.627450980392157e-06, 'epoch': 8.27}\n",
      "{'loss': 0.1314, 'grad_norm': 0.843451738357544, 'learning_rate': 8.43137254901961e-06, 'epoch': 8.31}\n",
      "{'loss': 0.1484, 'grad_norm': 12.190555572509766, 'learning_rate': 8.23529411764706e-06, 'epoch': 8.35}\n",
      "{'loss': 0.0593, 'grad_norm': 1.6921555995941162, 'learning_rate': 8.03921568627451e-06, 'epoch': 8.39}\n",
      "{'loss': 0.1096, 'grad_norm': 2.5120105743408203, 'learning_rate': 7.84313725490196e-06, 'epoch': 8.43}\n",
      "{'loss': 0.1391, 'grad_norm': 6.194589138031006, 'learning_rate': 7.647058823529413e-06, 'epoch': 8.47}\n",
      "{'loss': 0.2649, 'grad_norm': 4.577975273132324, 'learning_rate': 7.450980392156863e-06, 'epoch': 8.51}\n",
      "{'loss': 0.0824, 'grad_norm': 0.3700246214866638, 'learning_rate': 7.2549019607843145e-06, 'epoch': 8.55}\n",
      "{'loss': 0.2211, 'grad_norm': 15.177933692932129, 'learning_rate': 7.058823529411765e-06, 'epoch': 8.59}\n",
      "{'loss': 0.0952, 'grad_norm': 4.87335205078125, 'learning_rate': 6.862745098039216e-06, 'epoch': 8.63}\n",
      "{'loss': 0.0743, 'grad_norm': 1.189807653427124, 'learning_rate': 6.666666666666667e-06, 'epoch': 8.67}\n",
      "{'loss': 0.1133, 'grad_norm': 13.08321762084961, 'learning_rate': 6.470588235294119e-06, 'epoch': 8.71}\n",
      "{'loss': 0.1097, 'grad_norm': 8.604552268981934, 'learning_rate': 6.274509803921569e-06, 'epoch': 8.75}\n",
      "{'loss': 0.1454, 'grad_norm': 19.103553771972656, 'learning_rate': 6.07843137254902e-06, 'epoch': 8.78}\n",
      "{'loss': 0.0389, 'grad_norm': 0.5456556081771851, 'learning_rate': 5.882352941176471e-06, 'epoch': 8.82}\n",
      "{'loss': 0.0548, 'grad_norm': 9.110443115234375, 'learning_rate': 5.686274509803921e-06, 'epoch': 8.86}\n",
      "{'loss': 0.1172, 'grad_norm': 1.544572353363037, 'learning_rate': 5.490196078431373e-06, 'epoch': 8.9}\n",
      "{'loss': 0.1257, 'grad_norm': 0.08026093989610672, 'learning_rate': 5.294117647058824e-06, 'epoch': 8.94}\n",
      "{'loss': 0.1481, 'grad_norm': 5.773017883300781, 'learning_rate': 5.098039215686274e-06, 'epoch': 8.98}\n"
     ]
    },
    {
     "data": {
      "application/vnd.jupyter.widget-view+json": {
       "model_id": "82639508a4b4405e855dd2299c56bd2c",
       "version_major": 2,
       "version_minor": 0
      },
      "text/plain": [
       "  0%|          | 0/73 [00:00<?, ?it/s]"
      ]
     },
     "metadata": {},
     "output_type": "display_data"
    },
    {
     "name": "stdout",
     "output_type": "stream",
     "text": [
      "{'eval_loss': 0.20923149585723877, 'eval_accuracy': 0.9407725321888412, 'eval_runtime': 150.5163, 'eval_samples_per_second': 7.74, 'eval_steps_per_second': 0.485, 'epoch': 9.0}\n",
      "{'loss': 0.1528, 'grad_norm': 0.14838454127311707, 'learning_rate': 4.901960784313726e-06, 'epoch': 9.02}\n",
      "{'loss': 0.0413, 'grad_norm': 15.815964698791504, 'learning_rate': 4.705882352941177e-06, 'epoch': 9.06}\n",
      "{'loss': 0.1437, 'grad_norm': 7.116632461547852, 'learning_rate': 4.509803921568627e-06, 'epoch': 9.1}\n",
      "{'loss': 0.1142, 'grad_norm': 28.419443130493164, 'learning_rate': 4.313725490196079e-06, 'epoch': 9.14}\n",
      "{'loss': 0.0192, 'grad_norm': 0.368515282869339, 'learning_rate': 4.11764705882353e-06, 'epoch': 9.18}\n",
      "{'loss': 0.0649, 'grad_norm': 0.19300584495067596, 'learning_rate': 3.92156862745098e-06, 'epoch': 9.22}\n",
      "{'loss': 0.1388, 'grad_norm': 2.903005838394165, 'learning_rate': 3.7254901960784316e-06, 'epoch': 9.25}\n",
      "{'loss': 0.096, 'grad_norm': 14.219625473022461, 'learning_rate': 3.5294117647058825e-06, 'epoch': 9.29}\n",
      "{'loss': 0.1312, 'grad_norm': 0.30769285559654236, 'learning_rate': 3.3333333333333333e-06, 'epoch': 9.33}\n",
      "{'loss': 0.0927, 'grad_norm': 10.550286293029785, 'learning_rate': 3.1372549019607846e-06, 'epoch': 9.37}\n",
      "{'loss': 0.1244, 'grad_norm': 9.816534996032715, 'learning_rate': 2.9411764705882355e-06, 'epoch': 9.41}\n",
      "{'loss': 0.0634, 'grad_norm': 10.949228286743164, 'learning_rate': 2.7450980392156863e-06, 'epoch': 9.45}\n",
      "{'loss': 0.1793, 'grad_norm': 0.1319197714328766, 'learning_rate': 2.549019607843137e-06, 'epoch': 9.49}\n",
      "{'loss': 0.0522, 'grad_norm': 0.13471461832523346, 'learning_rate': 2.3529411764705885e-06, 'epoch': 9.53}\n",
      "{'loss': 0.1608, 'grad_norm': 0.25512468814849854, 'learning_rate': 2.1568627450980393e-06, 'epoch': 9.57}\n",
      "{'loss': 0.1574, 'grad_norm': 7.14050817489624, 'learning_rate': 1.96078431372549e-06, 'epoch': 9.61}\n",
      "{'loss': 0.1735, 'grad_norm': 0.39171233773231506, 'learning_rate': 1.7647058823529412e-06, 'epoch': 9.65}\n",
      "{'loss': 0.1222, 'grad_norm': 0.4923183023929596, 'learning_rate': 1.5686274509803923e-06, 'epoch': 9.69}\n",
      "{'loss': 0.0289, 'grad_norm': 3.2005841732025146, 'learning_rate': 1.3725490196078432e-06, 'epoch': 9.73}\n",
      "{'loss': 0.0558, 'grad_norm': 1.9336450099945068, 'learning_rate': 1.1764705882352942e-06, 'epoch': 9.76}\n",
      "{'loss': 0.0816, 'grad_norm': 0.27393126487731934, 'learning_rate': 9.80392156862745e-07, 'epoch': 9.8}\n",
      "{'loss': 0.1214, 'grad_norm': 15.062360763549805, 'learning_rate': 7.843137254901962e-07, 'epoch': 9.84}\n",
      "{'loss': 0.0497, 'grad_norm': 1.5719631910324097, 'learning_rate': 5.882352941176471e-07, 'epoch': 9.88}\n",
      "{'loss': 0.1151, 'grad_norm': 0.3787437379360199, 'learning_rate': 3.921568627450981e-07, 'epoch': 9.92}\n",
      "{'loss': 0.0682, 'grad_norm': 5.586460590362549, 'learning_rate': 1.9607843137254904e-07, 'epoch': 9.96}\n",
      "{'loss': 0.0738, 'grad_norm': 20.16534423828125, 'learning_rate': 0.0, 'epoch': 10.0}\n"
     ]
    },
    {
     "data": {
      "application/vnd.jupyter.widget-view+json": {
       "model_id": "1152d26b8441497889e91559fd42e01f",
       "version_major": 2,
       "version_minor": 0
      },
      "text/plain": [
       "  0%|          | 0/73 [00:00<?, ?it/s]"
      ]
     },
     "metadata": {},
     "output_type": "display_data"
    },
    {
     "name": "stdout",
     "output_type": "stream",
     "text": [
      "{'eval_loss': 0.20011577010154724, 'eval_accuracy': 0.944206008583691, 'eval_runtime': 208.2464, 'eval_samples_per_second': 5.594, 'eval_steps_per_second': 0.351, 'epoch': 10.0}\n",
      "{'train_runtime': 14666.295, 'train_samples_per_second': 2.78, 'train_steps_per_second': 0.174, 'train_loss': 0.24141756545094883, 'epoch': 10.0}\n"
     ]
    },
    {
     "data": {
      "application/vnd.jupyter.widget-view+json": {
       "model_id": "f8812c4786fc4a43a53e01914f31d9c8",
       "version_major": 2,
       "version_minor": 0
      },
      "text/plain": [
       "  0%|          | 0/37 [00:00<?, ?it/s]"
      ]
     },
     "metadata": {},
     "output_type": "display_data"
    },
    {
     "name": "stdout",
     "output_type": "stream",
     "text": [
      "Test Results: {'eval_loss': 0.23524129390716553, 'eval_accuracy': 0.9415807560137457, 'eval_runtime': 90.1285, 'eval_samples_per_second': 6.457, 'eval_steps_per_second': 0.411, 'epoch': 10.0}\n"
     ]
    }
   ],
   "source": [
    "import torch\n",
    "import accelerate\n",
    "from torch.utils.data import DataLoader\n",
    "from torchvision.transforms import (\n",
    "    Compose, Resize, ToTensor, Normalize\n",
    ")\n",
    "from transformers import ViTConfig, ViTForImageClassification, Trainer, TrainingArguments\n",
    "from datasets import DatasetDict\n",
    "\n",
    "# Load the dataset\n",
    "dataset = DatasetDict.load_from_disk(\"./chest_xray_clasnsificatio\")\n",
    "\n",
    "image_size = 224\n",
    "# Define a sequence of transformations for preprocessing images, including resizing, \n",
    "# converting to tensor, and normalizing pixel values\n",
    "transforms = Compose([\n",
    "    Resize((image_size, image_size)),\n",
    "    ToTensor(),\n",
    "    Normalize(mean=[0.5, 0.5, 0.5], std=[0.5, 0.5, 0.5])\n",
    "])\n",
    "\n",
    "# Function to preprocess data by applying transformations to images\n",
    "def preprocess_data(example):\n",
    "    example['pixel_values'] = transforms(example['image'])\n",
    "    return example\n",
    "\n",
    "# Apply the preprocessing function to all samples in the dataset\n",
    "dataset = dataset.map(preprocess_data, batched=False)\n",
    "\n",
    "# Remove unnecessary columns from the dataset\n",
    "dataset = dataset.remove_columns([\"image_file_path\", \"image\"])\n",
    "\n",
    "# Define a Vision Transformer (ViT) configuration with specific parameters\n",
    "config = ViTConfig(\n",
    "    image_size=image_size,\n",
    "    num_channels=3,\n",
    "    patch_size=16,\n",
    "    hidden_size=768,\n",
    "    num_hidden_layers=12,\n",
    "    num_attention_heads=12,\n",
    "    intermediate_size=3072,\n",
    "    num_labels=2\n",
    ")\n",
    "\n",
    "# Instantiate a Vision Transformer model for image classification using the specified configuration\n",
    "model = ViTForImageClassification(config)\n",
    "\n",
    "# Define training arguments for the Trainer, including batch size, epochs, and logging options\n",
    "training_args = TrainingArguments(\n",
    "    output_dir=\"./vit_model\",\n",
    "    evaluation_strategy=\"epoch\",\n",
    "    save_strategy=\"epoch\",\n",
    "    logging_dir=\"./logs\",\n",
    "    logging_steps=10,\n",
    "    per_device_train_batch_size=16,\n",
    "    per_device_eval_batch_size=16,\n",
    "    num_train_epochs=10,\n",
    "    learning_rate=5e-5,\n",
    "    weight_decay=0.01,\n",
    "    save_total_limit=2,\n",
    "    remove_unused_columns=False,\n",
    "    load_best_model_at_end=True,\n",
    "    metric_for_best_model=\"accuracy\",\n",
    "    push_to_hub=False\n",
    ")\n",
    "\n",
    "from evaluate import load\n",
    "\n",
    "# Load the 'accuracy' metric from the evaluation library\n",
    "metric = load(\"accuracy\")\n",
    "\n",
    "# Function to compute evaluation metrics during training and validation\n",
    "def compute_metrics(eval_pred):\n",
    "    logits, labels = eval_pred\n",
    "    predictions = torch.argmax(torch.tensor(logits), dim=-1)\n",
    "    return metric.compute(predictions=predictions.numpy(), references=labels)\n",
    "\n",
    "# Create a Trainer object for training and evaluating the model\n",
    "trainer = Trainer(\n",
    "    model=model,\n",
    "    args=training_args,\n",
    "    train_dataset=dataset[\"train\"],\n",
    "    eval_dataset=dataset[\"validation\"],\n",
    "    tokenizer=None,\n",
    "    compute_metrics=compute_metrics\n",
    ")\n",
    "\n",
    "# Train the model\n",
    "trainer.train()\n",
    "\n",
    "# Evaluate the model on the test dataset\n",
    "results = trainer.evaluate(dataset[\"test\"])\n",
    "print(\"Test Results:\", results)\n"
   ]
  },
  {
   "cell_type": "code",
   "execution_count": null,
   "metadata": {},
   "outputs": [
    {
     "name": "stdout",
     "output_type": "stream",
     "text": [
      "ViTForImageClassification(\n",
      "  (vit): ViTModel(\n",
      "    (embeddings): ViTEmbeddings(\n",
      "      (patch_embeddings): ViTPatchEmbeddings(\n",
      "        (projection): Conv2d(3, 768, kernel_size=(16, 16), stride=(16, 16))\n",
      "      )\n",
      "      (dropout): Dropout(p=0.0, inplace=False)\n",
      "    )\n",
      "    (encoder): ViTEncoder(\n",
      "      (layer): ModuleList(\n",
      "        (0-11): 12 x ViTLayer(\n",
      "          (attention): ViTSdpaAttention(\n",
      "            (attention): ViTSdpaSelfAttention(\n",
      "              (query): Linear(in_features=768, out_features=768, bias=True)\n",
      "              (key): Linear(in_features=768, out_features=768, bias=True)\n",
      "              (value): Linear(in_features=768, out_features=768, bias=True)\n",
      "              (dropout): Dropout(p=0.0, inplace=False)\n",
      "            )\n",
      "            (output): ViTSelfOutput(\n",
      "              (dense): Linear(in_features=768, out_features=768, bias=True)\n",
      "              (dropout): Dropout(p=0.0, inplace=False)\n",
      "            )\n",
      "          )\n",
      "          (intermediate): ViTIntermediate(\n",
      "            (dense): Linear(in_features=768, out_features=3072, bias=True)\n",
      "            (intermediate_act_fn): GELUActivation()\n",
      "          )\n",
      "          (output): ViTOutput(\n",
      "            (dense): Linear(in_features=3072, out_features=768, bias=True)\n",
      "            (dropout): Dropout(p=0.0, inplace=False)\n",
      "          )\n",
      "          (layernorm_before): LayerNorm((768,), eps=1e-12, elementwise_affine=True)\n",
      "          (layernorm_after): LayerNorm((768,), eps=1e-12, elementwise_affine=True)\n",
      "        )\n",
      "      )\n",
      "    )\n",
      "    (layernorm): LayerNorm((768,), eps=1e-12, elementwise_affine=True)\n",
      "  )\n",
      "  (classifier): Linear(in_features=768, out_features=2, bias=True)\n",
      ")\n"
     ]
    }
   ],
   "source": [
    "#save the model\n",
    "model.save_pretrained(\"./vit_model\")\n",
    "from transformers import ViTForImageClassification\n",
    "\n",
    "loaded_model = ViTForImageClassification.from_pretrained(\"./vit_model\")\n",
    "\n",
    "print(loaded_model)"
   ]
  }
 ],
 "metadata": {
  "kernelspec": {
   "display_name": "Python 3",
   "language": "python",
   "name": "python3"
  },
  "language_info": {
   "codemirror_mode": {
    "name": "ipython",
    "version": 3
   },
   "file_extension": ".py",
   "mimetype": "text/x-python",
   "name": "python",
   "nbconvert_exporter": "python",
   "pygments_lexer": "ipython3",
   "version": "3.11.9"
  }
 },
 "nbformat": 4,
 "nbformat_minor": 2
}
