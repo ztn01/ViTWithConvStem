{
 "cells": [
  {
   "cell_type": "code",
   "execution_count": null,
   "metadata": {},
   "outputs": [],
   "source": [
    "from datasets import load_dataset\n",
    "dataset = load_dataset(\"keremberke/chest-xray-classification\",'full')\n",
    "dataset.save_to_disk(\"./chest_xray_clasnsificatio\")"
   ]
  },
  {
   "cell_type": "code",
   "execution_count": null,
   "metadata": {},
   "outputs": [
    {
     "data": {
      "application/vnd.jupyter.widget-view+json": {
       "model_id": "f2279d41f5854adea565856bc92285e1",
       "version_major": 2,
       "version_minor": 0
      },
      "text/plain": [
       "Filter:   0%|          | 0/1165 [00:00<?, ? examples/s]"
      ]
     },
     "metadata": {},
     "output_type": "display_data"
    },
    {
     "data": {
      "application/vnd.jupyter.widget-view+json": {
       "model_id": "e97e1349c3624373a93dc7dc14db07de",
       "version_major": 2,
       "version_minor": 0
      },
      "text/plain": [
       "Filter:   0%|          | 0/1165 [00:00<?, ? examples/s]"
      ]
     },
     "metadata": {},
     "output_type": "display_data"
    },
    {
     "data": {
      "application/vnd.jupyter.widget-view+json": {
       "model_id": "2e9abaaaaeec4fd2b5bace9d9f23a128",
       "version_major": 2,
       "version_minor": 0
      },
      "text/plain": [
       "Filter:   0%|          | 0/582 [00:00<?, ? examples/s]"
      ]
     },
     "metadata": {},
     "output_type": "display_data"
    },
    {
     "data": {
      "application/vnd.jupyter.widget-view+json": {
       "model_id": "a58c31c5c8e24c6083dfb26441dec2ca",
       "version_major": 2,
       "version_minor": 0
      },
      "text/plain": [
       "Filter:   0%|          | 0/582 [00:00<?, ? examples/s]"
      ]
     },
     "metadata": {},
     "output_type": "display_data"
    },
    {
     "name": "stdout",
     "output_type": "stream",
     "text": [
      "DatasetDict({\n",
      "    train: Dataset({\n",
      "        features: ['image_file_path', 'image', 'labels'],\n",
      "        num_rows: 200\n",
      "    })\n",
      "    validation: Dataset({\n",
      "        features: ['image_file_path', 'image', 'labels'],\n",
      "        num_rows: 200\n",
      "    })\n",
      "    test: Dataset({\n",
      "        features: ['image_file_path', 'image', 'labels'],\n",
      "        num_rows: 200\n",
      "    })\n",
      "})\n"
     ]
    }
   ],
   "source": [
    "from datasets import DatasetDict, concatenate_datasets\n",
    "\n",
    "dataset = DatasetDict.load_from_disk(\"./chest_xray_clasnsificatio\")\n",
    "\n",
    "def select_samples(dataset, label_value, num_samples):\n",
    "    filtered = dataset.filter(lambda example: example['labels'] == label_value)\n",
    "    return filtered.select(range(min(num_samples, len(filtered))))\n",
    "\n",
    "def create_balanced_subset(dataset, num_samples=100):\n",
    "    balanced_dataset = {}\n",
    "    for split in dataset.keys():\n",
    "        label_0_samples = select_samples(dataset[split], label_value=0, num_samples=num_samples)\n",
    "        label_1_samples = select_samples(dataset[split], label_value=1, num_samples=num_samples)\n",
    "        balanced_dataset[split] = concatenate_datasets([label_0_samples, label_1_samples])\n",
    "    return DatasetDict(balanced_dataset)\n",
    "\n",
    "balanced_dataset = create_balanced_subset(dataset, num_samples=100)\n",
    "\n",
    "print(balanced_dataset)\n"
   ]
  },
  {
   "cell_type": "code",
   "execution_count": null,
   "metadata": {},
   "outputs": [
    {
     "data": {
      "application/vnd.jupyter.widget-view+json": {
       "model_id": "e3c1b4c8f0564f62b57fba0f89611d17",
       "version_major": 2,
       "version_minor": 0
      },
      "text/plain": [
       "Map:   0%|          | 0/200 [00:00<?, ? examples/s]"
      ]
     },
     "metadata": {},
     "output_type": "display_data"
    },
    {
     "data": {
      "application/vnd.jupyter.widget-view+json": {
       "model_id": "24083312516b4a268ef6749c4bc19e21",
       "version_major": 2,
       "version_minor": 0
      },
      "text/plain": [
       "Map:   0%|          | 0/200 [00:00<?, ? examples/s]"
      ]
     },
     "metadata": {},
     "output_type": "display_data"
    },
    {
     "data": {
      "application/vnd.jupyter.widget-view+json": {
       "model_id": "0c7c0b3047984ca1aa0f2144317d7f70",
       "version_major": 2,
       "version_minor": 0
      },
      "text/plain": [
       "Map:   0%|          | 0/200 [00:00<?, ? examples/s]"
      ]
     },
     "metadata": {},
     "output_type": "display_data"
    },
    {
     "name": "stdout",
     "output_type": "stream",
     "text": [
      "DatasetDict({\n",
      "    train: Dataset({\n",
      "        features: ['labels', 'pixel_values'],\n",
      "        num_rows: 200\n",
      "    })\n",
      "    validation: Dataset({\n",
      "        features: ['labels', 'pixel_values'],\n",
      "        num_rows: 200\n",
      "    })\n",
      "    test: Dataset({\n",
      "        features: ['labels', 'pixel_values'],\n",
      "        num_rows: 200\n",
      "    })\n",
      "})\n"
     ]
    }
   ],
   "source": [
    "import torch\n",
    "import torch.nn as nn\n",
    "import accelerate\n",
    "from torch.utils.data import DataLoader\n",
    "from torchvision.transforms import (\n",
    "    Compose, Resize, ToTensor, Normalize\n",
    ")\n",
    "from transformers import ViTModel,ViTConfig, ViTForImageClassification, Trainer, TrainingArguments\n",
    "from datasets import DatasetDict\n",
    "dataset=balanced_dataset\n",
    "image_size = 224\n",
    "transforms = Compose([\n",
    "    Resize((image_size, image_size)),\n",
    "    ToTensor(),\n",
    "    Normalize(mean=[0.5, 0.5, 0.5], std=[0.5, 0.5, 0.5])\n",
    "])\n",
    "\n",
    "def preprocess_data(example):\n",
    "    example['pixel_values'] = transforms(example['image'])\n",
    "    return example\n",
    "\n",
    "dataset = dataset.map(preprocess_data, batched=False)\n",
    "\n",
    "dataset = dataset.remove_columns([\"image_file_path\", \"image\"])\n",
    "\n",
    "print(dataset)"
   ]
  },
  {
   "cell_type": "code",
   "execution_count": null,
   "metadata": {},
   "outputs": [
    {
     "name": "stderr",
     "output_type": "stream",
     "text": [
      "C:\\Users\\19811\\AppData\\Local\\Packages\\PythonSoftwareFoundation.Python.3.11_qbz5n2kfra8p0\\LocalCache\\local-packages\\Python311\\site-packages\\transformers\\training_args.py:1568: FutureWarning: `evaluation_strategy` is deprecated and will be removed in version 4.46 of 🤗 Transformers. Use `eval_strategy` instead\n",
      "  warnings.warn(\n",
      "C:\\Users\\19811\\AppData\\Local\\Temp\\ipykernel_20636\\2240434196.py:115: FutureWarning: `tokenizer` is deprecated and will be removed in version 5.0.0 for `Trainer.__init__`. Use `processing_class` instead.\n",
      "  trainer = Trainer(\n"
     ]
    },
    {
     "data": {
      "application/vnd.jupyter.widget-view+json": {
       "model_id": "bda32d818ab646699a1a756a93e0b4b4",
       "version_major": 2,
       "version_minor": 0
      },
      "text/plain": [
       "  0%|          | 0/130 [00:00<?, ?it/s]"
      ]
     },
     "metadata": {},
     "output_type": "display_data"
    },
    {
     "name": "stdout",
     "output_type": "stream",
     "text": [
      "{'loss': 1.1706, 'grad_norm': 4.27631950378418, 'learning_rate': 4.615384615384616e-05, 'epoch': 0.77}\n"
     ]
    },
    {
     "data": {
      "application/vnd.jupyter.widget-view+json": {
       "model_id": "e88a06ccfff04a96adbef16f254e3769",
       "version_major": 2,
       "version_minor": 0
      },
      "text/plain": [
       "  0%|          | 0/13 [00:00<?, ?it/s]"
      ]
     },
     "metadata": {},
     "output_type": "display_data"
    },
    {
     "name": "stdout",
     "output_type": "stream",
     "text": [
      "{'eval_loss': 0.7703848481178284, 'eval_accuracy': 0.5, 'eval_runtime': 28.7309, 'eval_samples_per_second': 6.961, 'eval_steps_per_second': 0.452, 'epoch': 1.0}\n",
      "{'loss': 0.7787, 'grad_norm': 12.118109703063965, 'learning_rate': 4.230769230769231e-05, 'epoch': 1.54}\n"
     ]
    },
    {
     "data": {
      "application/vnd.jupyter.widget-view+json": {
       "model_id": "93cb07bf92534f8e9d41afbc267525c8",
       "version_major": 2,
       "version_minor": 0
      },
      "text/plain": [
       "  0%|          | 0/13 [00:00<?, ?it/s]"
      ]
     },
     "metadata": {},
     "output_type": "display_data"
    },
    {
     "name": "stdout",
     "output_type": "stream",
     "text": [
      "{'eval_loss': 0.6984092593193054, 'eval_accuracy': 0.57, 'eval_runtime': 28.6261, 'eval_samples_per_second': 6.987, 'eval_steps_per_second': 0.454, 'epoch': 2.0}\n",
      "{'loss': 0.7181, 'grad_norm': 4.928044319152832, 'learning_rate': 3.846153846153846e-05, 'epoch': 2.31}\n"
     ]
    },
    {
     "data": {
      "application/vnd.jupyter.widget-view+json": {
       "model_id": "be73a4ff109e40f68039865b12aa599a",
       "version_major": 2,
       "version_minor": 0
      },
      "text/plain": [
       "  0%|          | 0/13 [00:00<?, ?it/s]"
      ]
     },
     "metadata": {},
     "output_type": "display_data"
    },
    {
     "name": "stdout",
     "output_type": "stream",
     "text": [
      "{'eval_loss': 0.659909725189209, 'eval_accuracy': 0.54, 'eval_runtime': 29.387, 'eval_samples_per_second': 6.806, 'eval_steps_per_second': 0.442, 'epoch': 3.0}\n",
      "{'loss': 0.6674, 'grad_norm': 12.840006828308105, 'learning_rate': 3.461538461538462e-05, 'epoch': 3.08}\n",
      "{'loss': 0.6399, 'grad_norm': 19.348966598510742, 'learning_rate': 3.0769230769230774e-05, 'epoch': 3.85}\n"
     ]
    },
    {
     "data": {
      "application/vnd.jupyter.widget-view+json": {
       "model_id": "98fdd02578fa4b209bd362a1e89c7da0",
       "version_major": 2,
       "version_minor": 0
      },
      "text/plain": [
       "  0%|          | 0/13 [00:00<?, ?it/s]"
      ]
     },
     "metadata": {},
     "output_type": "display_data"
    },
    {
     "name": "stdout",
     "output_type": "stream",
     "text": [
      "{'eval_loss': 0.514397382736206, 'eval_accuracy': 0.765, 'eval_runtime': 30.4489, 'eval_samples_per_second': 6.568, 'eval_steps_per_second': 0.427, 'epoch': 4.0}\n",
      "{'loss': 0.7666, 'grad_norm': 11.542110443115234, 'learning_rate': 2.6923076923076923e-05, 'epoch': 4.62}\n"
     ]
    },
    {
     "data": {
      "application/vnd.jupyter.widget-view+json": {
       "model_id": "2e1f81a4858c4db2bf21fc3774cb21bd",
       "version_major": 2,
       "version_minor": 0
      },
      "text/plain": [
       "  0%|          | 0/13 [00:00<?, ?it/s]"
      ]
     },
     "metadata": {},
     "output_type": "display_data"
    },
    {
     "name": "stdout",
     "output_type": "stream",
     "text": [
      "{'eval_loss': 0.5182923674583435, 'eval_accuracy': 0.76, 'eval_runtime': 29.0403, 'eval_samples_per_second': 6.887, 'eval_steps_per_second': 0.448, 'epoch': 5.0}\n",
      "{'loss': 0.4801, 'grad_norm': 15.616353988647461, 'learning_rate': 2.307692307692308e-05, 'epoch': 5.38}\n"
     ]
    },
    {
     "data": {
      "application/vnd.jupyter.widget-view+json": {
       "model_id": "21868cfba0314eb3a9a65224f4d399f8",
       "version_major": 2,
       "version_minor": 0
      },
      "text/plain": [
       "  0%|          | 0/13 [00:00<?, ?it/s]"
      ]
     },
     "metadata": {},
     "output_type": "display_data"
    },
    {
     "name": "stdout",
     "output_type": "stream",
     "text": [
      "{'eval_loss': 0.5544602274894714, 'eval_accuracy': 0.77, 'eval_runtime': 28.7717, 'eval_samples_per_second': 6.951, 'eval_steps_per_second': 0.452, 'epoch': 6.0}\n",
      "{'loss': 0.3812, 'grad_norm': 19.119531631469727, 'learning_rate': 1.923076923076923e-05, 'epoch': 6.15}\n",
      "{'loss': 0.2709, 'grad_norm': 4.7736124992370605, 'learning_rate': 1.5384615384615387e-05, 'epoch': 6.92}\n"
     ]
    },
    {
     "data": {
      "application/vnd.jupyter.widget-view+json": {
       "model_id": "99879db89b2048f7a03c99e32206670b",
       "version_major": 2,
       "version_minor": 0
      },
      "text/plain": [
       "  0%|          | 0/13 [00:00<?, ?it/s]"
      ]
     },
     "metadata": {},
     "output_type": "display_data"
    },
    {
     "name": "stdout",
     "output_type": "stream",
     "text": [
      "{'eval_loss': 0.9060876369476318, 'eval_accuracy': 0.76, 'eval_runtime': 29.3644, 'eval_samples_per_second': 6.811, 'eval_steps_per_second': 0.443, 'epoch': 7.0}\n",
      "{'loss': 0.2451, 'grad_norm': 11.232674598693848, 'learning_rate': 1.153846153846154e-05, 'epoch': 7.69}\n"
     ]
    },
    {
     "data": {
      "application/vnd.jupyter.widget-view+json": {
       "model_id": "ca74551ec1594293812209037b7937ab",
       "version_major": 2,
       "version_minor": 0
      },
      "text/plain": [
       "  0%|          | 0/13 [00:00<?, ?it/s]"
      ]
     },
     "metadata": {},
     "output_type": "display_data"
    },
    {
     "name": "stdout",
     "output_type": "stream",
     "text": [
      "{'eval_loss': 0.6265371441841125, 'eval_accuracy': 0.81, 'eval_runtime': 29.2492, 'eval_samples_per_second': 6.838, 'eval_steps_per_second': 0.444, 'epoch': 8.0}\n",
      "{'loss': 0.3545, 'grad_norm': 2.2830491065979004, 'learning_rate': 7.692307692307694e-06, 'epoch': 8.46}\n"
     ]
    },
    {
     "data": {
      "application/vnd.jupyter.widget-view+json": {
       "model_id": "7135cac401be4cba82c09707ac4b9de6",
       "version_major": 2,
       "version_minor": 0
      },
      "text/plain": [
       "  0%|          | 0/13 [00:00<?, ?it/s]"
      ]
     },
     "metadata": {},
     "output_type": "display_data"
    },
    {
     "name": "stdout",
     "output_type": "stream",
     "text": [
      "{'eval_loss': 0.6674125790596008, 'eval_accuracy': 0.78, 'eval_runtime': 29.1973, 'eval_samples_per_second': 6.85, 'eval_steps_per_second': 0.445, 'epoch': 9.0}\n",
      "{'loss': 0.1964, 'grad_norm': 21.13983917236328, 'learning_rate': 3.846153846153847e-06, 'epoch': 9.23}\n",
      "{'loss': 0.2211, 'grad_norm': 25.287439346313477, 'learning_rate': 0.0, 'epoch': 10.0}\n"
     ]
    },
    {
     "data": {
      "application/vnd.jupyter.widget-view+json": {
       "model_id": "1b45712fac7b4774a92eafbee6fd44eb",
       "version_major": 2,
       "version_minor": 0
      },
      "text/plain": [
       "  0%|          | 0/13 [00:00<?, ?it/s]"
      ]
     },
     "metadata": {},
     "output_type": "display_data"
    },
    {
     "name": "stdout",
     "output_type": "stream",
     "text": [
      "{'eval_loss': 0.4938441514968872, 'eval_accuracy': 0.84, 'eval_runtime': 29.3959, 'eval_samples_per_second': 6.804, 'eval_steps_per_second': 0.442, 'epoch': 10.0}\n",
      "{'train_runtime': 942.5098, 'train_samples_per_second': 2.122, 'train_steps_per_second': 0.138, 'train_loss': 0.5300321899927579, 'epoch': 10.0}\n"
     ]
    },
    {
     "data": {
      "application/vnd.jupyter.widget-view+json": {
       "model_id": "b255ec3c870c47fb82b864ffc5805a99",
       "version_major": 2,
       "version_minor": 0
      },
      "text/plain": [
       "  0%|          | 0/13 [00:00<?, ?it/s]"
      ]
     },
     "metadata": {},
     "output_type": "display_data"
    },
    {
     "name": "stdout",
     "output_type": "stream",
     "text": [
      "Test Results: {'eval_loss': 0.716962993144989, 'eval_accuracy': 0.805, 'eval_runtime': 28.9942, 'eval_samples_per_second': 6.898, 'eval_steps_per_second': 0.448, 'epoch': 10.0}\n"
     ]
    }
   ],
   "source": [
    "import torch\n",
    "import torch.nn as nn\n",
    "from transformers import ViTConfig, ViTForImageClassification\n",
    "from transformers import Trainer, TrainingArguments\n",
    "from datasets import DatasetDict\n",
    "\n",
    "\n",
    "class ConvStem(nn.Module):\n",
    "    def __init__(self, in_channels, out_channels, kernel_size=7, stride=2, padding=3, output_size=None):\n",
    "        super(ConvStem, self).__init__()\n",
    "        self.conv1 = nn.Conv2d(in_channels, out_channels, kernel_size, stride, padding)\n",
    "        self.bn1 = nn.BatchNorm2d(out_channels)\n",
    "        self.relu = nn.ReLU()\n",
    "\n",
    "        self.conv2 = nn.Conv2d(out_channels, out_channels, kernel_size=3, stride=1, padding=1)\n",
    "        self.bn2 = nn.BatchNorm2d(out_channels)\n",
    "\n",
    "        self.pool = nn.MaxPool2d(kernel_size=3, stride=2, padding=1)\n",
    "        self.output_size = output_size \n",
    "\n",
    "    def forward(self, x):\n",
    "        x = self.conv1(x)\n",
    "        x = self.bn1(x)\n",
    "        x = self.relu(x)\n",
    "\n",
    "        x = self.conv2(x)\n",
    "        x = self.bn2(x)\n",
    "        x = self.relu(x)\n",
    "\n",
    "        x = self.pool(x)\n",
    "        if self.output_size:\n",
    "            x = nn.functional.interpolate(x, size=self.output_size, mode='bilinear', align_corners=False)\n",
    "        return x\n",
    "\n",
    "\n",
    "class ViTWithConvStem(nn.Module):\n",
    "    def __init__(self, config, conv_out_channels=64):\n",
    "        super().__init__()\n",
    "        patch_size = config.patch_size\n",
    "        image_size = config.image_size\n",
    "        aligned_size = (image_size // patch_size) * patch_size\n",
    "\n",
    "        self.conv_stem = ConvStem(\n",
    "            in_channels=config.num_channels,\n",
    "            out_channels=conv_out_channels,\n",
    "            kernel_size=7,\n",
    "            stride=2,\n",
    "            padding=3,\n",
    "            output_size=(aligned_size, aligned_size), \n",
    "        )\n",
    "        self.vit = ViTForImageClassification(config)\n",
    "\n",
    "    def forward(self, pixel_values, labels=None):\n",
    "        x = self.conv_stem(pixel_values)\n",
    "\n",
    "        batch_size, channels, height, width = x.shape\n",
    "        patch_size = self.vit.config.patch_size\n",
    "\n",
    "        x = x.unfold(2, patch_size, patch_size).unfold(3, patch_size, patch_size)\n",
    "        x = x.permute(0, 2, 3, 1, 4, 5).contiguous()\n",
    "        x = x.view(batch_size, -1, patch_size * patch_size * channels)\n",
    "\n",
    "        outputs = self.vit(pixel_values=pixel_values, labels=labels)\n",
    "        return outputs\n",
    "\n",
    "\n",
    "config = ViTConfig(\n",
    "    image_size=224,\n",
    "    num_channels=3,\n",
    "    patch_size=16,\n",
    "    hidden_size=768,\n",
    "    num_hidden_layers=12,\n",
    "    num_attention_heads=12,\n",
    "    intermediate_size=3072,\n",
    "    num_labels=2\n",
    ")\n",
    "\n",
    "\n",
    "model = ViTWithConvStem(config)\n",
    "\n",
    "training_args = TrainingArguments(\n",
    "    output_dir=\"./vit_model_1201\",\n",
    "    evaluation_strategy=\"epoch\",\n",
    "    save_strategy=\"epoch\",\n",
    "    logging_dir=\"./logs\",\n",
    "    logging_steps=10,\n",
    "    per_device_train_batch_size=16,\n",
    "    per_device_eval_batch_size=16,\n",
    "    num_train_epochs=10,\n",
    "    learning_rate=5e-5,\n",
    "    weight_decay=0.01,\n",
    "    save_total_limit=2,\n",
    "    remove_unused_columns=False,\n",
    "    load_best_model_at_end=True,\n",
    "    metric_for_best_model=\"accuracy\",\n",
    "    push_to_hub=False\n",
    ")\n",
    "\n",
    "from evaluate import load\n",
    "metric = load(\"accuracy\")\n",
    "\n",
    "def compute_metrics(eval_pred):\n",
    "    logits, labels = eval_pred\n",
    "    predictions = torch.argmax(torch.tensor(logits), dim=-1)\n",
    "    return metric.compute(predictions=predictions.numpy(), references=labels)\n",
    "\n",
    "trainer = Trainer(\n",
    "    model=model,\n",
    "    args=training_args,\n",
    "    train_dataset=dataset[\"train\"],\n",
    "    eval_dataset=dataset[\"validation\"],\n",
    "    tokenizer=None,\n",
    "    compute_metrics=compute_metrics,\n",
    ")\n",
    "\n",
    "trainer.train()\n",
    "results = trainer.evaluate(dataset[\"test\"])\n",
    "print(\"Test Results:\", results)\n"
   ]
  },
  {
   "cell_type": "code",
   "execution_count": 8,
   "metadata": {},
   "outputs": [
    {
     "name": "stderr",
     "output_type": "stream",
     "text": [
      "C:\\Users\\19811\\AppData\\Local\\Packages\\PythonSoftwareFoundation.Python.3.11_qbz5n2kfra8p0\\LocalCache\\local-packages\\Python311\\site-packages\\transformers\\training_args.py:1568: FutureWarning: `evaluation_strategy` is deprecated and will be removed in version 4.46 of 🤗 Transformers. Use `eval_strategy` instead\n",
      "  warnings.warn(\n",
      "C:\\Users\\19811\\AppData\\Local\\Temp\\ipykernel_20636\\1662128200.py:25: FutureWarning: `tokenizer` is deprecated and will be removed in version 5.0.0 for `Trainer.__init__`. Use `processing_class` instead.\n",
      "  trainer = Trainer(\n"
     ]
    },
    {
     "data": {
      "application/vnd.jupyter.widget-view+json": {
       "model_id": "77bb6b52d5ac4df2b64d918e3b8c707e",
       "version_major": 2,
       "version_minor": 0
      },
      "text/plain": [
       "  0%|          | 0/195 [00:00<?, ?it/s]"
      ]
     },
     "metadata": {},
     "output_type": "display_data"
    },
    {
     "name": "stdout",
     "output_type": "stream",
     "text": [
      "{'loss': 0.2072, 'grad_norm': 3.23065447807312, 'learning_rate': 3.7948717948717945e-06, 'epoch': 0.77}\n"
     ]
    },
    {
     "data": {
      "application/vnd.jupyter.widget-view+json": {
       "model_id": "3cf6c4519bde4aec84f0bce45654a6a4",
       "version_major": 2,
       "version_minor": 0
      },
      "text/plain": [
       "  0%|          | 0/13 [00:00<?, ?it/s]"
      ]
     },
     "metadata": {},
     "output_type": "display_data"
    },
    {
     "name": "stdout",
     "output_type": "stream",
     "text": [
      "{'eval_loss': 0.4808088541030884, 'eval_accuracy': 0.84, 'eval_runtime': 29.1606, 'eval_samples_per_second': 6.859, 'eval_steps_per_second': 0.446, 'epoch': 1.0}\n",
      "{'loss': 0.1822, 'grad_norm': 7.942155838012695, 'learning_rate': 3.5897435897435896e-06, 'epoch': 1.54}\n"
     ]
    },
    {
     "data": {
      "application/vnd.jupyter.widget-view+json": {
       "model_id": "b9676b5279aa4147bfaf67ecf2440f67",
       "version_major": 2,
       "version_minor": 0
      },
      "text/plain": [
       "  0%|          | 0/13 [00:00<?, ?it/s]"
      ]
     },
     "metadata": {},
     "output_type": "display_data"
    },
    {
     "name": "stdout",
     "output_type": "stream",
     "text": [
      "{'eval_loss': 0.6042740345001221, 'eval_accuracy': 0.82, 'eval_runtime': 28.9353, 'eval_samples_per_second': 6.912, 'eval_steps_per_second': 0.449, 'epoch': 2.0}\n",
      "{'loss': 0.119, 'grad_norm': 1.5368516445159912, 'learning_rate': 3.3846153846153843e-06, 'epoch': 2.31}\n"
     ]
    },
    {
     "data": {
      "application/vnd.jupyter.widget-view+json": {
       "model_id": "1cd249aa461f4131acd801c3cdb98399",
       "version_major": 2,
       "version_minor": 0
      },
      "text/plain": [
       "  0%|          | 0/13 [00:00<?, ?it/s]"
      ]
     },
     "metadata": {},
     "output_type": "display_data"
    },
    {
     "name": "stdout",
     "output_type": "stream",
     "text": [
      "{'eval_loss': 0.6628224849700928, 'eval_accuracy': 0.82, 'eval_runtime': 28.1608, 'eval_samples_per_second': 7.102, 'eval_steps_per_second': 0.462, 'epoch': 3.0}\n",
      "{'loss': 0.1951, 'grad_norm': 1.374727487564087, 'learning_rate': 3.179487179487179e-06, 'epoch': 3.08}\n",
      "{'loss': 0.199, 'grad_norm': 20.743125915527344, 'learning_rate': 2.974358974358974e-06, 'epoch': 3.85}\n"
     ]
    },
    {
     "data": {
      "application/vnd.jupyter.widget-view+json": {
       "model_id": "3dca400ec1224ace833268969bb51833",
       "version_major": 2,
       "version_minor": 0
      },
      "text/plain": [
       "  0%|          | 0/13 [00:00<?, ?it/s]"
      ]
     },
     "metadata": {},
     "output_type": "display_data"
    },
    {
     "name": "stdout",
     "output_type": "stream",
     "text": [
      "{'eval_loss': 0.5558016300201416, 'eval_accuracy': 0.86, 'eval_runtime': 28.5721, 'eval_samples_per_second': 7.0, 'eval_steps_per_second': 0.455, 'epoch': 4.0}\n",
      "{'loss': 0.1692, 'grad_norm': 15.532220840454102, 'learning_rate': 2.769230769230769e-06, 'epoch': 4.62}\n"
     ]
    },
    {
     "data": {
      "application/vnd.jupyter.widget-view+json": {
       "model_id": "44ed3df7a725497bb9261e9cdad17278",
       "version_major": 2,
       "version_minor": 0
      },
      "text/plain": [
       "  0%|          | 0/13 [00:00<?, ?it/s]"
      ]
     },
     "metadata": {},
     "output_type": "display_data"
    },
    {
     "name": "stdout",
     "output_type": "stream",
     "text": [
      "{'eval_loss': 0.7302120327949524, 'eval_accuracy': 0.83, 'eval_runtime': 28.6722, 'eval_samples_per_second': 6.975, 'eval_steps_per_second': 0.453, 'epoch': 5.0}\n",
      "{'loss': 0.162, 'grad_norm': 13.735671043395996, 'learning_rate': 2.5641025641025644e-06, 'epoch': 5.38}\n"
     ]
    },
    {
     "data": {
      "application/vnd.jupyter.widget-view+json": {
       "model_id": "88ff0ed530f94bbfb41ca84b638868e0",
       "version_major": 2,
       "version_minor": 0
      },
      "text/plain": [
       "  0%|          | 0/13 [00:00<?, ?it/s]"
      ]
     },
     "metadata": {},
     "output_type": "display_data"
    },
    {
     "name": "stdout",
     "output_type": "stream",
     "text": [
      "{'eval_loss': 0.5948677062988281, 'eval_accuracy': 0.855, 'eval_runtime': 28.3314, 'eval_samples_per_second': 7.059, 'eval_steps_per_second': 0.459, 'epoch': 6.0}\n",
      "{'loss': 0.1151, 'grad_norm': 14.335393905639648, 'learning_rate': 2.358974358974359e-06, 'epoch': 6.15}\n",
      "{'loss': 0.1367, 'grad_norm': 2.18445086479187, 'learning_rate': 2.1538461538461538e-06, 'epoch': 6.92}\n"
     ]
    },
    {
     "data": {
      "application/vnd.jupyter.widget-view+json": {
       "model_id": "008b5b2519e84d1486e92fc2df4e8fa5",
       "version_major": 2,
       "version_minor": 0
      },
      "text/plain": [
       "  0%|          | 0/13 [00:00<?, ?it/s]"
      ]
     },
     "metadata": {},
     "output_type": "display_data"
    },
    {
     "name": "stdout",
     "output_type": "stream",
     "text": [
      "{'eval_loss': 0.6589303016662598, 'eval_accuracy': 0.845, 'eval_runtime': 29.1401, 'eval_samples_per_second': 6.863, 'eval_steps_per_second': 0.446, 'epoch': 7.0}\n",
      "{'train_runtime': 656.003, 'train_samples_per_second': 4.573, 'train_steps_per_second': 0.297, 'train_loss': 0.1633449954768786, 'epoch': 7.0}\n"
     ]
    },
    {
     "data": {
      "application/vnd.jupyter.widget-view+json": {
       "model_id": "a1e7ac90a4d2408992120205d66a00e7",
       "version_major": 2,
       "version_minor": 0
      },
      "text/plain": [
       "  0%|          | 0/13 [00:00<?, ?it/s]"
      ]
     },
     "metadata": {},
     "output_type": "display_data"
    },
    {
     "name": "stdout",
     "output_type": "stream",
     "text": [
      "Test Results: {'eval_loss': 0.8433399200439453, 'eval_accuracy': 0.815, 'eval_runtime': 28.5323, 'eval_samples_per_second': 7.01, 'eval_steps_per_second': 0.456, 'epoch': 7.0}\n"
     ]
    }
   ],
   "source": [
    "from transformers import EarlyStoppingCallback\n",
    "\n",
    "early_stopping = EarlyStoppingCallback(early_stopping_patience=3)\n",
    "\n",
    "training_args = TrainingArguments(\n",
    "    output_dir=\"./vit_model_1201\",\n",
    "    evaluation_strategy=\"epoch\",\n",
    "    save_strategy=\"epoch\",\n",
    "    logging_dir=\"./logs\",\n",
    "    logging_steps=10,\n",
    "    per_device_train_batch_size=16,\n",
    "    per_device_eval_batch_size=16,\n",
    "    num_train_epochs=15,\n",
    "    learning_rate=4e-6,\n",
    "    weight_decay=0.01,\n",
    "    save_total_limit=2,\n",
    "    remove_unused_columns=False,\n",
    "    load_best_model_at_end=True,\n",
    "    metric_for_best_model=\"accuracy\",\n",
    "    push_to_hub=False\n",
    ")\n",
    "\n",
    "\n",
    "\n",
    "trainer = Trainer(\n",
    "    model=model,\n",
    "    args=training_args,\n",
    "    train_dataset=dataset[\"train\"],\n",
    "    eval_dataset=dataset[\"validation\"],\n",
    "    tokenizer=None,\n",
    "    compute_metrics=compute_metrics,\n",
    "    callbacks=[early_stopping],\n",
    ")\n",
    "\n",
    "trainer.train()\n",
    "results = trainer.evaluate(dataset[\"test\"])\n",
    "print(\"Test Results:\", results)"
   ]
  },
  {
   "cell_type": "code",
   "execution_count": null,
   "metadata": {},
   "outputs": [
    {
     "name": "stdout",
     "output_type": "stream",
     "text": [
      "DatasetDict({\n",
      "    train: Dataset({\n",
      "        features: ['labels', 'pixel_values'],\n",
      "        num_rows: 4077\n",
      "    })\n",
      "    validation: Dataset({\n",
      "        features: ['labels', 'pixel_values'],\n",
      "        num_rows: 1165\n",
      "    })\n",
      "    test: Dataset({\n",
      "        features: ['labels', 'pixel_values'],\n",
      "        num_rows: 582\n",
      "    })\n",
      "})\n"
     ]
    }
   ],
   "source": [
    "dataset = DatasetDict.load_from_disk(\"./chest_xray_clasnsificatio\")\n",
    "\n",
    "image_size = 224\n",
    "transforms = Compose([\n",
    "    Resize((image_size, image_size)),\n",
    "    ToTensor(),\n",
    "    Normalize(mean=[0.5, 0.5, 0.5], std=[0.5, 0.5, 0.5])\n",
    "])\n",
    "\n",
    "def preprocess_data(example):\n",
    "    example['pixel_values'] = transforms(example['image'])\n",
    "    return example\n",
    "\n",
    "dataset = dataset.map(preprocess_data, batched=False)\n",
    "\n",
    "dataset = dataset.remove_columns([\"image_file_path\", \"image\"])\n",
    "\n",
    "print(dataset)"
   ]
  },
  {
   "cell_type": "code",
   "execution_count": 10,
   "metadata": {},
   "outputs": [
    {
     "name": "stderr",
     "output_type": "stream",
     "text": [
      "C:\\Users\\19811\\AppData\\Local\\Temp\\ipykernel_20636\\4158758695.py:1: FutureWarning: `tokenizer` is deprecated and will be removed in version 5.0.0 for `Trainer.__init__`. Use `processing_class` instead.\n",
      "  trainer = Trainer(\n"
     ]
    },
    {
     "data": {
      "application/vnd.jupyter.widget-view+json": {
       "model_id": "0e6b2acf51ce4d21bfebc1042c1a9345",
       "version_major": 2,
       "version_minor": 0
      },
      "text/plain": [
       "  0%|          | 0/3825 [00:00<?, ?it/s]"
      ]
     },
     "metadata": {},
     "output_type": "display_data"
    },
    {
     "name": "stdout",
     "output_type": "stream",
     "text": [
      "{'loss': 0.5214, 'grad_norm': 10.320158004760742, 'learning_rate': 3.989542483660131e-06, 'epoch': 0.04}\n",
      "{'loss': 0.457, 'grad_norm': 13.489970207214355, 'learning_rate': 3.979084967320261e-06, 'epoch': 0.08}\n",
      "{'loss': 0.3261, 'grad_norm': 5.10440731048584, 'learning_rate': 3.968627450980392e-06, 'epoch': 0.12}\n",
      "{'loss': 0.2952, 'grad_norm': 4.566559791564941, 'learning_rate': 3.958169934640523e-06, 'epoch': 0.16}\n",
      "{'loss': 0.4452, 'grad_norm': 8.832679748535156, 'learning_rate': 3.947712418300654e-06, 'epoch': 0.2}\n",
      "{'loss': 0.2808, 'grad_norm': 14.268045425415039, 'learning_rate': 3.937254901960784e-06, 'epoch': 0.24}\n",
      "{'loss': 0.3413, 'grad_norm': 3.437281608581543, 'learning_rate': 3.9267973856209145e-06, 'epoch': 0.27}\n",
      "{'loss': 0.3436, 'grad_norm': 3.749412775039673, 'learning_rate': 3.916339869281045e-06, 'epoch': 0.31}\n",
      "{'loss': 0.3351, 'grad_norm': 4.614947319030762, 'learning_rate': 3.905882352941176e-06, 'epoch': 0.35}\n",
      "{'loss': 0.3635, 'grad_norm': 6.122328758239746, 'learning_rate': 3.895424836601307e-06, 'epoch': 0.39}\n",
      "{'loss': 0.3509, 'grad_norm': 16.507354736328125, 'learning_rate': 3.884967320261438e-06, 'epoch': 0.43}\n",
      "{'loss': 0.3493, 'grad_norm': 4.075596809387207, 'learning_rate': 3.8745098039215685e-06, 'epoch': 0.47}\n",
      "{'loss': 0.2775, 'grad_norm': 6.2467241287231445, 'learning_rate': 3.864052287581699e-06, 'epoch': 0.51}\n",
      "{'loss': 0.2588, 'grad_norm': 2.659947633743286, 'learning_rate': 3.85359477124183e-06, 'epoch': 0.55}\n",
      "{'loss': 0.2878, 'grad_norm': 15.131394386291504, 'learning_rate': 3.843137254901961e-06, 'epoch': 0.59}\n",
      "{'loss': 0.3449, 'grad_norm': 15.973287582397461, 'learning_rate': 3.832679738562092e-06, 'epoch': 0.63}\n",
      "{'loss': 0.3058, 'grad_norm': 2.93894624710083, 'learning_rate': 3.8222222222222224e-06, 'epoch': 0.67}\n",
      "{'loss': 0.3221, 'grad_norm': 6.438601970672607, 'learning_rate': 3.8117647058823524e-06, 'epoch': 0.71}\n",
      "{'loss': 0.3642, 'grad_norm': 24.86960220336914, 'learning_rate': 3.801307189542483e-06, 'epoch': 0.75}\n",
      "{'loss': 0.3393, 'grad_norm': 4.946920871734619, 'learning_rate': 3.790849673202614e-06, 'epoch': 0.78}\n",
      "{'loss': 0.3014, 'grad_norm': 4.970076084136963, 'learning_rate': 3.7803921568627447e-06, 'epoch': 0.82}\n",
      "{'loss': 0.3243, 'grad_norm': 5.002337455749512, 'learning_rate': 3.7699346405228755e-06, 'epoch': 0.86}\n",
      "{'loss': 0.3583, 'grad_norm': 6.716876029968262, 'learning_rate': 3.7594771241830063e-06, 'epoch': 0.9}\n",
      "{'loss': 0.2499, 'grad_norm': 5.14548921585083, 'learning_rate': 3.749019607843137e-06, 'epoch': 0.94}\n",
      "{'loss': 0.3423, 'grad_norm': 6.488315105438232, 'learning_rate': 3.738562091503268e-06, 'epoch': 0.98}\n"
     ]
    },
    {
     "data": {
      "application/vnd.jupyter.widget-view+json": {
       "model_id": "fa92f75d213042e797aef9a9db58c0ba",
       "version_major": 2,
       "version_minor": 0
      },
      "text/plain": [
       "  0%|          | 0/73 [00:00<?, ?it/s]"
      ]
     },
     "metadata": {},
     "output_type": "display_data"
    },
    {
     "name": "stdout",
     "output_type": "stream",
     "text": [
      "{'eval_loss': 0.2900601327419281, 'eval_accuracy': 0.8755364806866953, 'eval_runtime': 166.9877, 'eval_samples_per_second': 6.977, 'eval_steps_per_second': 0.437, 'epoch': 1.0}\n",
      "{'loss': 0.2952, 'grad_norm': 10.296650886535645, 'learning_rate': 3.7281045751633987e-06, 'epoch': 1.02}\n",
      "{'loss': 0.2965, 'grad_norm': 2.2865076065063477, 'learning_rate': 3.7176470588235295e-06, 'epoch': 1.06}\n",
      "{'loss': 0.4124, 'grad_norm': 24.955238342285156, 'learning_rate': 3.7071895424836603e-06, 'epoch': 1.1}\n",
      "{'loss': 0.2849, 'grad_norm': 6.959079265594482, 'learning_rate': 3.696732026143791e-06, 'epoch': 1.14}\n",
      "{'loss': 0.2876, 'grad_norm': 11.02238655090332, 'learning_rate': 3.686274509803921e-06, 'epoch': 1.18}\n",
      "{'loss': 0.3225, 'grad_norm': 10.804498672485352, 'learning_rate': 3.675816993464052e-06, 'epoch': 1.22}\n",
      "{'loss': 0.3173, 'grad_norm': 13.52967643737793, 'learning_rate': 3.6653594771241826e-06, 'epoch': 1.25}\n",
      "{'loss': 0.2775, 'grad_norm': 16.68783187866211, 'learning_rate': 3.6549019607843134e-06, 'epoch': 1.29}\n",
      "{'loss': 0.2423, 'grad_norm': 4.146178245544434, 'learning_rate': 3.644444444444444e-06, 'epoch': 1.33}\n",
      "{'loss': 0.2836, 'grad_norm': 7.338682651519775, 'learning_rate': 3.633986928104575e-06, 'epoch': 1.37}\n",
      "{'loss': 0.3036, 'grad_norm': 5.726260185241699, 'learning_rate': 3.6235294117647058e-06, 'epoch': 1.41}\n",
      "{'loss': 0.2776, 'grad_norm': 1.7278330326080322, 'learning_rate': 3.6130718954248366e-06, 'epoch': 1.45}\n",
      "{'loss': 0.2206, 'grad_norm': 4.601077079772949, 'learning_rate': 3.6026143790849674e-06, 'epoch': 1.49}\n",
      "{'loss': 0.3348, 'grad_norm': 12.469619750976562, 'learning_rate': 3.592156862745098e-06, 'epoch': 1.53}\n",
      "{'loss': 0.3429, 'grad_norm': 16.262075424194336, 'learning_rate': 3.581699346405229e-06, 'epoch': 1.57}\n",
      "{'loss': 0.3273, 'grad_norm': 14.907812118530273, 'learning_rate': 3.5712418300653593e-06, 'epoch': 1.61}\n",
      "{'loss': 0.3075, 'grad_norm': 10.667052268981934, 'learning_rate': 3.5607843137254897e-06, 'epoch': 1.65}\n",
      "{'loss': 0.2333, 'grad_norm': 10.167646408081055, 'learning_rate': 3.5503267973856205e-06, 'epoch': 1.69}\n",
      "{'loss': 0.2416, 'grad_norm': 4.949619770050049, 'learning_rate': 3.5398692810457513e-06, 'epoch': 1.73}\n",
      "{'loss': 0.2351, 'grad_norm': 18.193012237548828, 'learning_rate': 3.529411764705882e-06, 'epoch': 1.76}\n",
      "{'loss': 0.2849, 'grad_norm': 11.65664291381836, 'learning_rate': 3.518954248366013e-06, 'epoch': 1.8}\n",
      "{'loss': 0.2602, 'grad_norm': 3.255239725112915, 'learning_rate': 3.5084967320261436e-06, 'epoch': 1.84}\n",
      "{'loss': 0.2815, 'grad_norm': 3.323306083679199, 'learning_rate': 3.4980392156862744e-06, 'epoch': 1.88}\n",
      "{'loss': 0.2001, 'grad_norm': 4.500533103942871, 'learning_rate': 3.487581699346405e-06, 'epoch': 1.92}\n",
      "{'loss': 0.2422, 'grad_norm': 13.399496078491211, 'learning_rate': 3.477124183006536e-06, 'epoch': 1.96}\n",
      "{'loss': 0.1474, 'grad_norm': 3.671023368835449, 'learning_rate': 3.466666666666667e-06, 'epoch': 2.0}\n"
     ]
    },
    {
     "data": {
      "application/vnd.jupyter.widget-view+json": {
       "model_id": "ca7c1b4253b348668ac3b254d4013b5f",
       "version_major": 2,
       "version_minor": 0
      },
      "text/plain": [
       "  0%|          | 0/73 [00:00<?, ?it/s]"
      ]
     },
     "metadata": {},
     "output_type": "display_data"
    },
    {
     "name": "stdout",
     "output_type": "stream",
     "text": [
      "{'eval_loss': 0.2475915402173996, 'eval_accuracy': 0.8969957081545065, 'eval_runtime': 168.3556, 'eval_samples_per_second': 6.92, 'eval_steps_per_second': 0.434, 'epoch': 2.0}\n",
      "{'loss': 0.2754, 'grad_norm': 4.914225101470947, 'learning_rate': 3.4562091503267976e-06, 'epoch': 2.04}\n",
      "{'loss': 0.2733, 'grad_norm': 5.5080437660217285, 'learning_rate': 3.445751633986928e-06, 'epoch': 2.08}\n",
      "{'loss': 0.2625, 'grad_norm': 18.395261764526367, 'learning_rate': 3.4352941176470583e-06, 'epoch': 2.12}\n",
      "{'loss': 0.3188, 'grad_norm': 27.508745193481445, 'learning_rate': 3.424836601307189e-06, 'epoch': 2.16}\n",
      "{'loss': 0.2197, 'grad_norm': 4.140567302703857, 'learning_rate': 3.41437908496732e-06, 'epoch': 2.2}\n",
      "{'loss': 0.3062, 'grad_norm': 8.938861846923828, 'learning_rate': 3.4039215686274507e-06, 'epoch': 2.24}\n",
      "{'loss': 0.1869, 'grad_norm': 3.8084447383880615, 'learning_rate': 3.3934640522875815e-06, 'epoch': 2.27}\n",
      "{'loss': 0.2153, 'grad_norm': 10.288230895996094, 'learning_rate': 3.3830065359477123e-06, 'epoch': 2.31}\n",
      "{'loss': 0.3374, 'grad_norm': 11.40164566040039, 'learning_rate': 3.372549019607843e-06, 'epoch': 2.35}\n",
      "{'loss': 0.2902, 'grad_norm': 4.307088375091553, 'learning_rate': 3.362091503267974e-06, 'epoch': 2.39}\n",
      "{'loss': 0.3353, 'grad_norm': 11.509584426879883, 'learning_rate': 3.3516339869281047e-06, 'epoch': 2.43}\n",
      "{'loss': 0.287, 'grad_norm': 17.97446060180664, 'learning_rate': 3.3411764705882354e-06, 'epoch': 2.47}\n",
      "{'loss': 0.2537, 'grad_norm': 16.96065902709961, 'learning_rate': 3.330718954248366e-06, 'epoch': 2.51}\n",
      "{'loss': 0.1787, 'grad_norm': 11.273868560791016, 'learning_rate': 3.3202614379084966e-06, 'epoch': 2.55}\n",
      "{'loss': 0.3254, 'grad_norm': 4.382056713104248, 'learning_rate': 3.309803921568627e-06, 'epoch': 2.59}\n",
      "{'loss': 0.3252, 'grad_norm': 12.178372383117676, 'learning_rate': 3.2993464052287578e-06, 'epoch': 2.63}\n",
      "{'loss': 0.3159, 'grad_norm': 5.975948333740234, 'learning_rate': 3.2888888888888886e-06, 'epoch': 2.67}\n",
      "{'loss': 0.2721, 'grad_norm': 27.19953155517578, 'learning_rate': 3.2784313725490193e-06, 'epoch': 2.71}\n",
      "{'loss': 0.2853, 'grad_norm': 9.449028015136719, 'learning_rate': 3.26797385620915e-06, 'epoch': 2.75}\n",
      "{'loss': 0.2221, 'grad_norm': 5.011091709136963, 'learning_rate': 3.257516339869281e-06, 'epoch': 2.78}\n",
      "{'loss': 0.1707, 'grad_norm': 3.9573161602020264, 'learning_rate': 3.2470588235294117e-06, 'epoch': 2.82}\n",
      "{'loss': 0.1778, 'grad_norm': 11.726414680480957, 'learning_rate': 3.2366013071895425e-06, 'epoch': 2.86}\n",
      "{'loss': 0.1972, 'grad_norm': 9.022237777709961, 'learning_rate': 3.2261437908496733e-06, 'epoch': 2.9}\n",
      "{'loss': 0.2525, 'grad_norm': 19.790756225585938, 'learning_rate': 3.215686274509804e-06, 'epoch': 2.94}\n",
      "{'loss': 0.2537, 'grad_norm': 11.206316947937012, 'learning_rate': 3.2052287581699345e-06, 'epoch': 2.98}\n"
     ]
    },
    {
     "data": {
      "application/vnd.jupyter.widget-view+json": {
       "model_id": "a3177ec51d54492ea2089f3691038c9d",
       "version_major": 2,
       "version_minor": 0
      },
      "text/plain": [
       "  0%|          | 0/73 [00:00<?, ?it/s]"
      ]
     },
     "metadata": {},
     "output_type": "display_data"
    },
    {
     "name": "stdout",
     "output_type": "stream",
     "text": [
      "{'eval_loss': 0.22645214200019836, 'eval_accuracy': 0.911587982832618, 'eval_runtime': 169.0437, 'eval_samples_per_second': 6.892, 'eval_steps_per_second': 0.432, 'epoch': 3.0}\n",
      "{'loss': 0.1329, 'grad_norm': 2.8249239921569824, 'learning_rate': 3.1947712418300653e-06, 'epoch': 3.02}\n",
      "{'loss': 0.285, 'grad_norm': 11.341493606567383, 'learning_rate': 3.1843137254901956e-06, 'epoch': 3.06}\n",
      "{'loss': 0.2095, 'grad_norm': 5.133615493774414, 'learning_rate': 3.1738562091503264e-06, 'epoch': 3.1}\n",
      "{'loss': 0.354, 'grad_norm': 19.815032958984375, 'learning_rate': 3.163398692810457e-06, 'epoch': 3.14}\n",
      "{'loss': 0.2497, 'grad_norm': 16.99631118774414, 'learning_rate': 3.152941176470588e-06, 'epoch': 3.18}\n",
      "{'loss': 0.2195, 'grad_norm': 7.619422435760498, 'learning_rate': 3.1424836601307188e-06, 'epoch': 3.22}\n",
      "{'loss': 0.2157, 'grad_norm': 6.248483180999756, 'learning_rate': 3.1320261437908496e-06, 'epoch': 3.25}\n",
      "{'loss': 0.2653, 'grad_norm': 3.9977824687957764, 'learning_rate': 3.1215686274509804e-06, 'epoch': 3.29}\n",
      "{'loss': 0.2363, 'grad_norm': 4.988977432250977, 'learning_rate': 3.111111111111111e-06, 'epoch': 3.33}\n",
      "{'loss': 0.2852, 'grad_norm': 11.6657133102417, 'learning_rate': 3.100653594771242e-06, 'epoch': 3.37}\n",
      "{'loss': 0.2305, 'grad_norm': 4.677424430847168, 'learning_rate': 3.0901960784313727e-06, 'epoch': 3.41}\n",
      "{'loss': 0.2116, 'grad_norm': 28.274213790893555, 'learning_rate': 3.079738562091503e-06, 'epoch': 3.45}\n",
      "{'loss': 0.2605, 'grad_norm': 15.235424995422363, 'learning_rate': 3.069281045751634e-06, 'epoch': 3.49}\n",
      "{'loss': 0.3815, 'grad_norm': 7.958702564239502, 'learning_rate': 3.0588235294117643e-06, 'epoch': 3.53}\n",
      "{'loss': 0.1787, 'grad_norm': 3.1988444328308105, 'learning_rate': 3.048366013071895e-06, 'epoch': 3.57}\n",
      "{'loss': 0.225, 'grad_norm': 10.02787971496582, 'learning_rate': 3.037908496732026e-06, 'epoch': 3.61}\n",
      "{'loss': 0.2438, 'grad_norm': 3.7540080547332764, 'learning_rate': 3.0274509803921566e-06, 'epoch': 3.65}\n",
      "{'loss': 0.3049, 'grad_norm': 6.308132171630859, 'learning_rate': 3.0169934640522874e-06, 'epoch': 3.69}\n",
      "{'loss': 0.1777, 'grad_norm': 12.318415641784668, 'learning_rate': 3.0065359477124182e-06, 'epoch': 3.73}\n",
      "{'loss': 0.2034, 'grad_norm': 8.554614067077637, 'learning_rate': 2.996078431372549e-06, 'epoch': 3.76}\n",
      "{'loss': 0.2799, 'grad_norm': 5.862722873687744, 'learning_rate': 2.98562091503268e-06, 'epoch': 3.8}\n",
      "{'loss': 0.1585, 'grad_norm': 2.107455015182495, 'learning_rate': 2.9751633986928106e-06, 'epoch': 3.84}\n",
      "{'loss': 0.1674, 'grad_norm': 16.09377098083496, 'learning_rate': 2.964705882352941e-06, 'epoch': 3.88}\n",
      "{'loss': 0.3018, 'grad_norm': 9.915876388549805, 'learning_rate': 2.9542483660130718e-06, 'epoch': 3.92}\n",
      "{'loss': 0.1724, 'grad_norm': 8.72222900390625, 'learning_rate': 2.9437908496732026e-06, 'epoch': 3.96}\n",
      "{'loss': 0.2521, 'grad_norm': 8.22347354888916, 'learning_rate': 2.933333333333333e-06, 'epoch': 4.0}\n"
     ]
    },
    {
     "data": {
      "application/vnd.jupyter.widget-view+json": {
       "model_id": "e18364d528df4f85be764471382d02eb",
       "version_major": 2,
       "version_minor": 0
      },
      "text/plain": [
       "  0%|          | 0/73 [00:00<?, ?it/s]"
      ]
     },
     "metadata": {},
     "output_type": "display_data"
    },
    {
     "name": "stdout",
     "output_type": "stream",
     "text": [
      "{'eval_loss': 0.22256095707416534, 'eval_accuracy': 0.9064377682403434, 'eval_runtime': 170.0531, 'eval_samples_per_second': 6.851, 'eval_steps_per_second': 0.429, 'epoch': 4.0}\n",
      "{'loss': 0.225, 'grad_norm': 21.615137100219727, 'learning_rate': 2.9228758169934637e-06, 'epoch': 4.04}\n",
      "{'loss': 0.2013, 'grad_norm': 11.737386703491211, 'learning_rate': 2.9124183006535945e-06, 'epoch': 4.08}\n",
      "{'loss': 0.2494, 'grad_norm': 8.04926586151123, 'learning_rate': 2.9019607843137253e-06, 'epoch': 4.12}\n",
      "{'loss': 0.1915, 'grad_norm': 13.797473907470703, 'learning_rate': 2.891503267973856e-06, 'epoch': 4.16}\n",
      "{'loss': 0.1942, 'grad_norm': 3.067655086517334, 'learning_rate': 2.881045751633987e-06, 'epoch': 4.2}\n",
      "{'loss': 0.2055, 'grad_norm': 23.865129470825195, 'learning_rate': 2.8705882352941177e-06, 'epoch': 4.24}\n",
      "{'loss': 0.1772, 'grad_norm': 8.667461395263672, 'learning_rate': 2.8601307189542485e-06, 'epoch': 4.27}\n",
      "{'loss': 0.2389, 'grad_norm': 9.793421745300293, 'learning_rate': 2.8496732026143792e-06, 'epoch': 4.31}\n",
      "{'loss': 0.2507, 'grad_norm': 20.420452117919922, 'learning_rate': 2.8392156862745096e-06, 'epoch': 4.35}\n",
      "{'loss': 0.294, 'grad_norm': 11.135689735412598, 'learning_rate': 2.8287581699346404e-06, 'epoch': 4.39}\n",
      "{'loss': 0.2082, 'grad_norm': 8.608725547790527, 'learning_rate': 2.818300653594771e-06, 'epoch': 4.43}\n",
      "{'loss': 0.2053, 'grad_norm': 35.689388275146484, 'learning_rate': 2.8078431372549016e-06, 'epoch': 4.47}\n",
      "{'loss': 0.1773, 'grad_norm': 14.074493408203125, 'learning_rate': 2.7973856209150324e-06, 'epoch': 4.51}\n",
      "{'loss': 0.1704, 'grad_norm': 15.31456184387207, 'learning_rate': 2.786928104575163e-06, 'epoch': 4.55}\n",
      "{'loss': 0.2274, 'grad_norm': 7.0454936027526855, 'learning_rate': 2.776470588235294e-06, 'epoch': 4.59}\n",
      "{'loss': 0.1336, 'grad_norm': 1.766176700592041, 'learning_rate': 2.7660130718954247e-06, 'epoch': 4.63}\n",
      "{'loss': 0.3488, 'grad_norm': 25.915781021118164, 'learning_rate': 2.7555555555555555e-06, 'epoch': 4.67}\n",
      "{'loss': 0.2626, 'grad_norm': 11.152560234069824, 'learning_rate': 2.7450980392156863e-06, 'epoch': 4.71}\n",
      "{'loss': 0.1847, 'grad_norm': 10.250554084777832, 'learning_rate': 2.734640522875817e-06, 'epoch': 4.75}\n",
      "{'loss': 0.166, 'grad_norm': 14.197460174560547, 'learning_rate': 2.7241830065359475e-06, 'epoch': 4.78}\n",
      "{'loss': 0.234, 'grad_norm': 2.9897501468658447, 'learning_rate': 2.7137254901960783e-06, 'epoch': 4.82}\n",
      "{'loss': 0.2324, 'grad_norm': 3.7985527515411377, 'learning_rate': 2.703267973856209e-06, 'epoch': 4.86}\n",
      "{'loss': 0.1626, 'grad_norm': 23.878023147583008, 'learning_rate': 2.69281045751634e-06, 'epoch': 4.9}\n",
      "{'loss': 0.2084, 'grad_norm': 9.065423011779785, 'learning_rate': 2.6823529411764702e-06, 'epoch': 4.94}\n",
      "{'loss': 0.2605, 'grad_norm': 17.593448638916016, 'learning_rate': 2.671895424836601e-06, 'epoch': 4.98}\n"
     ]
    },
    {
     "data": {
      "application/vnd.jupyter.widget-view+json": {
       "model_id": "2a0d5d4790d049e3a6bcc0a2f04d20b0",
       "version_major": 2,
       "version_minor": 0
      },
      "text/plain": [
       "  0%|          | 0/73 [00:00<?, ?it/s]"
      ]
     },
     "metadata": {},
     "output_type": "display_data"
    },
    {
     "name": "stdout",
     "output_type": "stream",
     "text": [
      "{'eval_loss': 0.2013339102268219, 'eval_accuracy': 0.9201716738197425, 'eval_runtime': 173.7223, 'eval_samples_per_second': 6.706, 'eval_steps_per_second': 0.42, 'epoch': 5.0}\n",
      "{'loss': 0.1526, 'grad_norm': 24.68008041381836, 'learning_rate': 2.661437908496732e-06, 'epoch': 5.02}\n",
      "{'loss': 0.2785, 'grad_norm': 11.892131805419922, 'learning_rate': 2.6509803921568626e-06, 'epoch': 5.06}\n",
      "{'loss': 0.153, 'grad_norm': 10.179633140563965, 'learning_rate': 2.6405228758169934e-06, 'epoch': 5.1}\n",
      "{'loss': 0.2072, 'grad_norm': 10.348719596862793, 'learning_rate': 2.630065359477124e-06, 'epoch': 5.14}\n",
      "{'loss': 0.2089, 'grad_norm': 17.510812759399414, 'learning_rate': 2.619607843137255e-06, 'epoch': 5.18}\n",
      "{'loss': 0.2862, 'grad_norm': 32.28323745727539, 'learning_rate': 2.6091503267973858e-06, 'epoch': 5.22}\n",
      "{'loss': 0.2473, 'grad_norm': 14.37722110748291, 'learning_rate': 2.598692810457516e-06, 'epoch': 5.25}\n",
      "{'loss': 0.1857, 'grad_norm': 5.4232378005981445, 'learning_rate': 2.588235294117647e-06, 'epoch': 5.29}\n",
      "{'loss': 0.1852, 'grad_norm': 3.979198694229126, 'learning_rate': 2.5777777777777777e-06, 'epoch': 5.33}\n",
      "{'loss': 0.2119, 'grad_norm': 12.22574520111084, 'learning_rate': 2.5673202614379085e-06, 'epoch': 5.37}\n",
      "{'loss': 0.1482, 'grad_norm': 32.36642837524414, 'learning_rate': 2.556862745098039e-06, 'epoch': 5.41}\n",
      "{'loss': 0.123, 'grad_norm': 4.848677635192871, 'learning_rate': 2.5464052287581697e-06, 'epoch': 5.45}\n",
      "{'loss': 0.2097, 'grad_norm': 28.599740982055664, 'learning_rate': 2.5359477124183005e-06, 'epoch': 5.49}\n",
      "{'loss': 0.3003, 'grad_norm': 31.325965881347656, 'learning_rate': 2.5254901960784312e-06, 'epoch': 5.53}\n",
      "{'loss': 0.2085, 'grad_norm': 8.47508716583252, 'learning_rate': 2.515032679738562e-06, 'epoch': 5.57}\n",
      "{'loss': 0.2412, 'grad_norm': 11.016202926635742, 'learning_rate': 2.504575163398693e-06, 'epoch': 5.61}\n",
      "{'loss': 0.1529, 'grad_norm': 41.192867279052734, 'learning_rate': 2.4941176470588236e-06, 'epoch': 5.65}\n",
      "{'loss': 0.2665, 'grad_norm': 13.657700538635254, 'learning_rate': 2.483660130718954e-06, 'epoch': 5.69}\n",
      "{'loss': 0.1191, 'grad_norm': 7.032543659210205, 'learning_rate': 2.4732026143790848e-06, 'epoch': 5.73}\n",
      "{'loss': 0.1952, 'grad_norm': 73.73587799072266, 'learning_rate': 2.4627450980392156e-06, 'epoch': 5.76}\n",
      "{'loss': 0.1516, 'grad_norm': 17.358356475830078, 'learning_rate': 2.4522875816993464e-06, 'epoch': 5.8}\n",
      "{'loss': 0.3123, 'grad_norm': 11.45467472076416, 'learning_rate': 2.441830065359477e-06, 'epoch': 5.84}\n",
      "{'loss': 0.1974, 'grad_norm': 41.5416374206543, 'learning_rate': 2.4313725490196075e-06, 'epoch': 5.88}\n",
      "{'loss': 0.1861, 'grad_norm': 16.57121467590332, 'learning_rate': 2.4209150326797383e-06, 'epoch': 5.92}\n",
      "{'loss': 0.1878, 'grad_norm': 1.5545018911361694, 'learning_rate': 2.410457516339869e-06, 'epoch': 5.96}\n",
      "{'loss': 0.2777, 'grad_norm': 15.798834800720215, 'learning_rate': 2.4e-06, 'epoch': 6.0}\n"
     ]
    },
    {
     "data": {
      "application/vnd.jupyter.widget-view+json": {
       "model_id": "253c93e8130d4f799a6c03ab271c1ad9",
       "version_major": 2,
       "version_minor": 0
      },
      "text/plain": [
       "  0%|          | 0/73 [00:00<?, ?it/s]"
      ]
     },
     "metadata": {},
     "output_type": "display_data"
    },
    {
     "name": "stdout",
     "output_type": "stream",
     "text": [
      "{'eval_loss': 0.1890980452299118, 'eval_accuracy': 0.927038626609442, 'eval_runtime': 173.0074, 'eval_samples_per_second': 6.734, 'eval_steps_per_second': 0.422, 'epoch': 6.0}\n",
      "{'loss': 0.1905, 'grad_norm': 9.21054458618164, 'learning_rate': 2.3895424836601307e-06, 'epoch': 6.04}\n",
      "{'loss': 0.1918, 'grad_norm': 5.767477512359619, 'learning_rate': 2.3790849673202615e-06, 'epoch': 6.08}\n",
      "{'loss': 0.1513, 'grad_norm': 29.399259567260742, 'learning_rate': 2.3686274509803923e-06, 'epoch': 6.12}\n",
      "{'loss': 0.0793, 'grad_norm': 9.706868171691895, 'learning_rate': 2.3581699346405226e-06, 'epoch': 6.16}\n",
      "{'loss': 0.1973, 'grad_norm': 13.061738014221191, 'learning_rate': 2.3477124183006534e-06, 'epoch': 6.2}\n",
      "{'loss': 0.1188, 'grad_norm': 19.511974334716797, 'learning_rate': 2.3372549019607842e-06, 'epoch': 6.24}\n",
      "{'loss': 0.1601, 'grad_norm': 2.9338784217834473, 'learning_rate': 2.326797385620915e-06, 'epoch': 6.27}\n",
      "{'loss': 0.2011, 'grad_norm': 110.47612762451172, 'learning_rate': 2.316339869281046e-06, 'epoch': 6.31}\n",
      "{'loss': 0.3314, 'grad_norm': 0.488842248916626, 'learning_rate': 2.305882352941176e-06, 'epoch': 6.35}\n",
      "{'loss': 0.1491, 'grad_norm': 42.12141799926758, 'learning_rate': 2.295424836601307e-06, 'epoch': 6.39}\n",
      "{'loss': 0.2176, 'grad_norm': 6.613351821899414, 'learning_rate': 2.2849673202614377e-06, 'epoch': 6.43}\n",
      "{'loss': 0.2234, 'grad_norm': 51.909523010253906, 'learning_rate': 2.2745098039215685e-06, 'epoch': 6.47}\n",
      "{'loss': 0.2592, 'grad_norm': 17.167987823486328, 'learning_rate': 2.2640522875816993e-06, 'epoch': 6.51}\n",
      "{'loss': 0.1488, 'grad_norm': 8.417425155639648, 'learning_rate': 2.25359477124183e-06, 'epoch': 6.55}\n",
      "{'loss': 0.1513, 'grad_norm': 15.100839614868164, 'learning_rate': 2.243137254901961e-06, 'epoch': 6.59}\n",
      "{'loss': 0.2111, 'grad_norm': 22.23766326904297, 'learning_rate': 2.2326797385620913e-06, 'epoch': 6.63}\n",
      "{'loss': 0.1348, 'grad_norm': 44.44377517700195, 'learning_rate': 2.222222222222222e-06, 'epoch': 6.67}\n",
      "{'loss': 0.1278, 'grad_norm': 6.08219051361084, 'learning_rate': 2.211764705882353e-06, 'epoch': 6.71}\n",
      "{'loss': 0.227, 'grad_norm': 29.037649154663086, 'learning_rate': 2.2013071895424837e-06, 'epoch': 6.75}\n",
      "{'loss': 0.2383, 'grad_norm': 12.575081825256348, 'learning_rate': 2.1908496732026144e-06, 'epoch': 6.78}\n",
      "{'loss': 0.2031, 'grad_norm': 16.300125122070312, 'learning_rate': 2.180392156862745e-06, 'epoch': 6.82}\n",
      "{'loss': 0.2255, 'grad_norm': 20.981279373168945, 'learning_rate': 2.1699346405228756e-06, 'epoch': 6.86}\n",
      "{'loss': 0.2619, 'grad_norm': 12.876975059509277, 'learning_rate': 2.1594771241830064e-06, 'epoch': 6.9}\n",
      "{'loss': 0.216, 'grad_norm': 27.967544555664062, 'learning_rate': 2.149019607843137e-06, 'epoch': 6.94}\n",
      "{'loss': 0.2152, 'grad_norm': 12.74806022644043, 'learning_rate': 2.138562091503268e-06, 'epoch': 6.98}\n"
     ]
    },
    {
     "data": {
      "application/vnd.jupyter.widget-view+json": {
       "model_id": "d7bf5ac76072459c9f157593ca9e7e0a",
       "version_major": 2,
       "version_minor": 0
      },
      "text/plain": [
       "  0%|          | 0/73 [00:00<?, ?it/s]"
      ]
     },
     "metadata": {},
     "output_type": "display_data"
    },
    {
     "name": "stdout",
     "output_type": "stream",
     "text": [
      "{'eval_loss': 0.20688769221305847, 'eval_accuracy': 0.9167381974248927, 'eval_runtime': 173.9126, 'eval_samples_per_second': 6.699, 'eval_steps_per_second': 0.42, 'epoch': 7.0}\n",
      "{'loss': 0.3348, 'grad_norm': 45.089256286621094, 'learning_rate': 2.1281045751633988e-06, 'epoch': 7.02}\n",
      "{'loss': 0.2477, 'grad_norm': 30.357824325561523, 'learning_rate': 2.117647058823529e-06, 'epoch': 7.06}\n",
      "{'loss': 0.2128, 'grad_norm': 22.115581512451172, 'learning_rate': 2.10718954248366e-06, 'epoch': 7.1}\n",
      "{'loss': 0.168, 'grad_norm': 42.2343864440918, 'learning_rate': 2.0967320261437907e-06, 'epoch': 7.14}\n",
      "{'loss': 0.1488, 'grad_norm': 15.824294090270996, 'learning_rate': 2.0862745098039215e-06, 'epoch': 7.18}\n",
      "{'loss': 0.1761, 'grad_norm': 16.50252342224121, 'learning_rate': 2.0758169934640523e-06, 'epoch': 7.22}\n",
      "{'loss': 0.2273, 'grad_norm': 25.550832748413086, 'learning_rate': 2.065359477124183e-06, 'epoch': 7.25}\n",
      "{'loss': 0.1694, 'grad_norm': 9.370136260986328, 'learning_rate': 2.0549019607843135e-06, 'epoch': 7.29}\n",
      "{'loss': 0.2044, 'grad_norm': 8.304574012756348, 'learning_rate': 2.0444444444444443e-06, 'epoch': 7.33}\n",
      "{'loss': 0.2001, 'grad_norm': 15.683759689331055, 'learning_rate': 2.033986928104575e-06, 'epoch': 7.37}\n",
      "{'loss': 0.1702, 'grad_norm': 13.260965347290039, 'learning_rate': 2.023529411764706e-06, 'epoch': 7.41}\n",
      "{'loss': 0.188, 'grad_norm': 2.115058660507202, 'learning_rate': 2.0130718954248366e-06, 'epoch': 7.45}\n",
      "{'loss': 0.19, 'grad_norm': 29.42633819580078, 'learning_rate': 2.0026143790849674e-06, 'epoch': 7.49}\n",
      "{'loss': 0.1131, 'grad_norm': 3.856503963470459, 'learning_rate': 1.992156862745098e-06, 'epoch': 7.53}\n",
      "{'loss': 0.0848, 'grad_norm': 22.389507293701172, 'learning_rate': 1.9816993464052286e-06, 'epoch': 7.57}\n",
      "{'loss': 0.1678, 'grad_norm': 47.439544677734375, 'learning_rate': 1.9712418300653594e-06, 'epoch': 7.61}\n",
      "{'loss': 0.2052, 'grad_norm': 10.791540145874023, 'learning_rate': 1.96078431372549e-06, 'epoch': 7.65}\n",
      "{'loss': 0.1375, 'grad_norm': 75.31485748291016, 'learning_rate': 1.950326797385621e-06, 'epoch': 7.69}\n",
      "{'loss': 0.1966, 'grad_norm': 23.521347045898438, 'learning_rate': 1.9398692810457517e-06, 'epoch': 7.73}\n",
      "{'loss': 0.2487, 'grad_norm': 28.675376892089844, 'learning_rate': 1.929411764705882e-06, 'epoch': 7.76}\n",
      "{'loss': 0.1977, 'grad_norm': 22.148290634155273, 'learning_rate': 1.918954248366013e-06, 'epoch': 7.8}\n",
      "{'loss': 0.1405, 'grad_norm': 11.336265563964844, 'learning_rate': 1.9084967320261437e-06, 'epoch': 7.84}\n",
      "{'loss': 0.3408, 'grad_norm': 26.39375114440918, 'learning_rate': 1.8980392156862743e-06, 'epoch': 7.88}\n",
      "{'loss': 0.154, 'grad_norm': 16.5461483001709, 'learning_rate': 1.887581699346405e-06, 'epoch': 7.92}\n",
      "{'loss': 0.2177, 'grad_norm': 2.9844305515289307, 'learning_rate': 1.8771241830065359e-06, 'epoch': 7.96}\n",
      "{'loss': 0.1555, 'grad_norm': 32.39078140258789, 'learning_rate': 1.8666666666666667e-06, 'epoch': 8.0}\n"
     ]
    },
    {
     "data": {
      "application/vnd.jupyter.widget-view+json": {
       "model_id": "07f1b31424874c2caefb2b51f5f98507",
       "version_major": 2,
       "version_minor": 0
      },
      "text/plain": [
       "  0%|          | 0/73 [00:00<?, ?it/s]"
      ]
     },
     "metadata": {},
     "output_type": "display_data"
    },
    {
     "name": "stdout",
     "output_type": "stream",
     "text": [
      "{'eval_loss': 0.18939606845378876, 'eval_accuracy': 0.934763948497854, 'eval_runtime': 176.4509, 'eval_samples_per_second': 6.602, 'eval_steps_per_second': 0.414, 'epoch': 8.0}\n",
      "{'loss': 0.24, 'grad_norm': 5.828797340393066, 'learning_rate': 1.8562091503267974e-06, 'epoch': 8.04}\n",
      "{'loss': 0.1517, 'grad_norm': 8.457097053527832, 'learning_rate': 1.845751633986928e-06, 'epoch': 8.08}\n",
      "{'loss': 0.0856, 'grad_norm': 1.0516471862792969, 'learning_rate': 1.8352941176470586e-06, 'epoch': 8.12}\n",
      "{'loss': 0.1758, 'grad_norm': 12.280799865722656, 'learning_rate': 1.8248366013071894e-06, 'epoch': 8.16}\n",
      "{'loss': 0.0824, 'grad_norm': 3.064483404159546, 'learning_rate': 1.8143790849673202e-06, 'epoch': 8.2}\n",
      "{'loss': 0.1372, 'grad_norm': 17.69049644470215, 'learning_rate': 1.803921568627451e-06, 'epoch': 8.24}\n",
      "{'loss': 0.2963, 'grad_norm': 10.441651344299316, 'learning_rate': 1.7934640522875818e-06, 'epoch': 8.27}\n",
      "{'loss': 0.1867, 'grad_norm': 43.7600212097168, 'learning_rate': 1.7830065359477123e-06, 'epoch': 8.31}\n",
      "{'loss': 0.1669, 'grad_norm': 21.90232276916504, 'learning_rate': 1.772549019607843e-06, 'epoch': 8.35}\n",
      "{'loss': 0.1251, 'grad_norm': 16.739389419555664, 'learning_rate': 1.7620915032679737e-06, 'epoch': 8.39}\n",
      "{'loss': 0.1809, 'grad_norm': 3.50532865524292, 'learning_rate': 1.7516339869281045e-06, 'epoch': 8.43}\n",
      "{'loss': 0.1846, 'grad_norm': 24.990476608276367, 'learning_rate': 1.7411764705882353e-06, 'epoch': 8.47}\n",
      "{'loss': 0.3744, 'grad_norm': 40.82590103149414, 'learning_rate': 1.730718954248366e-06, 'epoch': 8.51}\n",
      "{'loss': 0.1475, 'grad_norm': 25.859756469726562, 'learning_rate': 1.7202614379084967e-06, 'epoch': 8.55}\n",
      "{'loss': 0.2324, 'grad_norm': 16.262086868286133, 'learning_rate': 1.7098039215686273e-06, 'epoch': 8.59}\n",
      "{'loss': 0.1019, 'grad_norm': 26.95335578918457, 'learning_rate': 1.699346405228758e-06, 'epoch': 8.63}\n",
      "{'loss': 0.1679, 'grad_norm': 64.30133819580078, 'learning_rate': 1.6888888888888888e-06, 'epoch': 8.67}\n",
      "{'loss': 0.1808, 'grad_norm': 21.24112319946289, 'learning_rate': 1.6784313725490196e-06, 'epoch': 8.71}\n",
      "{'loss': 0.1176, 'grad_norm': 20.00185775756836, 'learning_rate': 1.6679738562091504e-06, 'epoch': 8.75}\n",
      "{'loss': 0.1725, 'grad_norm': 11.875143051147461, 'learning_rate': 1.657516339869281e-06, 'epoch': 8.78}\n",
      "{'loss': 0.0979, 'grad_norm': 6.2849555015563965, 'learning_rate': 1.6470588235294116e-06, 'epoch': 8.82}\n",
      "{'loss': 0.1474, 'grad_norm': 18.681507110595703, 'learning_rate': 1.6366013071895424e-06, 'epoch': 8.86}\n",
      "{'loss': 0.2333, 'grad_norm': 28.413663864135742, 'learning_rate': 1.6261437908496732e-06, 'epoch': 8.9}\n",
      "{'loss': 0.206, 'grad_norm': 4.756711006164551, 'learning_rate': 1.615686274509804e-06, 'epoch': 8.94}\n",
      "{'loss': 0.1845, 'grad_norm': 17.024967193603516, 'learning_rate': 1.6052287581699347e-06, 'epoch': 8.98}\n"
     ]
    },
    {
     "data": {
      "application/vnd.jupyter.widget-view+json": {
       "model_id": "e261acbcea674c36bc95ecbeaf865b17",
       "version_major": 2,
       "version_minor": 0
      },
      "text/plain": [
       "  0%|          | 0/73 [00:00<?, ?it/s]"
      ]
     },
     "metadata": {},
     "output_type": "display_data"
    },
    {
     "name": "stdout",
     "output_type": "stream",
     "text": [
      "{'eval_loss': 0.19551870226860046, 'eval_accuracy': 0.9313304721030042, 'eval_runtime': 178.3785, 'eval_samples_per_second': 6.531, 'eval_steps_per_second': 0.409, 'epoch': 9.0}\n",
      "{'loss': 0.2643, 'grad_norm': 0.5015349984169006, 'learning_rate': 1.5947712418300653e-06, 'epoch': 9.02}\n",
      "{'loss': 0.1287, 'grad_norm': 27.827131271362305, 'learning_rate': 1.584313725490196e-06, 'epoch': 9.06}\n",
      "{'loss': 0.2494, 'grad_norm': 27.059717178344727, 'learning_rate': 1.5738562091503267e-06, 'epoch': 9.1}\n",
      "{'loss': 0.1579, 'grad_norm': 63.75535583496094, 'learning_rate': 1.5633986928104575e-06, 'epoch': 9.14}\n",
      "{'loss': 0.0746, 'grad_norm': 11.734855651855469, 'learning_rate': 1.5529411764705883e-06, 'epoch': 9.18}\n",
      "{'loss': 0.1533, 'grad_norm': 33.630393981933594, 'learning_rate': 1.5424836601307189e-06, 'epoch': 9.22}\n",
      "{'loss': 0.1702, 'grad_norm': 16.898588180541992, 'learning_rate': 1.5320261437908496e-06, 'epoch': 9.25}\n",
      "{'loss': 0.155, 'grad_norm': 10.35288143157959, 'learning_rate': 1.5215686274509802e-06, 'epoch': 9.29}\n",
      "{'loss': 0.1688, 'grad_norm': 5.047182083129883, 'learning_rate': 1.511111111111111e-06, 'epoch': 9.33}\n",
      "{'loss': 0.1825, 'grad_norm': 9.178777694702148, 'learning_rate': 1.5006535947712418e-06, 'epoch': 9.37}\n",
      "{'loss': 0.2031, 'grad_norm': 54.002471923828125, 'learning_rate': 1.4901960784313726e-06, 'epoch': 9.41}\n",
      "{'loss': 0.151, 'grad_norm': 33.4690055847168, 'learning_rate': 1.4797385620915032e-06, 'epoch': 9.45}\n",
      "{'loss': 0.282, 'grad_norm': 59.47553253173828, 'learning_rate': 1.469281045751634e-06, 'epoch': 9.49}\n",
      "{'loss': 0.0686, 'grad_norm': 11.292551040649414, 'learning_rate': 1.4588235294117646e-06, 'epoch': 9.53}\n",
      "{'loss': 0.2484, 'grad_norm': 4.314623832702637, 'learning_rate': 1.4483660130718953e-06, 'epoch': 9.57}\n",
      "{'loss': 0.3118, 'grad_norm': 14.459885597229004, 'learning_rate': 1.4379084967320261e-06, 'epoch': 9.61}\n",
      "{'loss': 0.2702, 'grad_norm': 20.317598342895508, 'learning_rate': 1.427450980392157e-06, 'epoch': 9.65}\n",
      "{'loss': 0.1384, 'grad_norm': 6.03445291519165, 'learning_rate': 1.4169934640522875e-06, 'epoch': 9.69}\n",
      "{'loss': 0.156, 'grad_norm': 36.17991638183594, 'learning_rate': 1.4065359477124183e-06, 'epoch': 9.73}\n",
      "{'loss': 0.1265, 'grad_norm': 5.026159286499023, 'learning_rate': 1.3960784313725489e-06, 'epoch': 9.76}\n",
      "{'loss': 0.1278, 'grad_norm': 24.00934600830078, 'learning_rate': 1.3856209150326797e-06, 'epoch': 9.8}\n",
      "{'loss': 0.1314, 'grad_norm': 10.478981018066406, 'learning_rate': 1.3751633986928105e-06, 'epoch': 9.84}\n",
      "{'loss': 0.1414, 'grad_norm': 3.4408342838287354, 'learning_rate': 1.3647058823529413e-06, 'epoch': 9.88}\n",
      "{'loss': 0.1255, 'grad_norm': 9.132777214050293, 'learning_rate': 1.3542483660130718e-06, 'epoch': 9.92}\n",
      "{'loss': 0.2285, 'grad_norm': 36.38626480102539, 'learning_rate': 1.3437908496732026e-06, 'epoch': 9.96}\n",
      "{'loss': 0.2105, 'grad_norm': 8.541797637939453, 'learning_rate': 1.3333333333333332e-06, 'epoch': 10.0}\n"
     ]
    },
    {
     "data": {
      "application/vnd.jupyter.widget-view+json": {
       "model_id": "2370a474bb9d41a3b19e79ae603cd696",
       "version_major": 2,
       "version_minor": 0
      },
      "text/plain": [
       "  0%|          | 0/73 [00:00<?, ?it/s]"
      ]
     },
     "metadata": {},
     "output_type": "display_data"
    },
    {
     "name": "stdout",
     "output_type": "stream",
     "text": [
      "{'eval_loss': 0.201002299785614, 'eval_accuracy': 0.936480686695279, 'eval_runtime': 179.2001, 'eval_samples_per_second': 6.501, 'eval_steps_per_second': 0.407, 'epoch': 10.0}\n",
      "{'loss': 0.1635, 'grad_norm': 70.19966125488281, 'learning_rate': 1.322875816993464e-06, 'epoch': 10.04}\n",
      "{'loss': 0.3613, 'grad_norm': 35.549468994140625, 'learning_rate': 1.3124183006535948e-06, 'epoch': 10.08}\n",
      "{'loss': 0.2414, 'grad_norm': 2.1722872257232666, 'learning_rate': 1.3019607843137254e-06, 'epoch': 10.12}\n",
      "{'loss': 0.091, 'grad_norm': 16.084609985351562, 'learning_rate': 1.2915032679738562e-06, 'epoch': 10.16}\n",
      "{'loss': 0.0604, 'grad_norm': 8.946029663085938, 'learning_rate': 1.2810457516339867e-06, 'epoch': 10.2}\n",
      "{'loss': 0.2004, 'grad_norm': 92.22409057617188, 'learning_rate': 1.2705882352941175e-06, 'epoch': 10.24}\n",
      "{'loss': 0.085, 'grad_norm': 1.236768364906311, 'learning_rate': 1.2601307189542483e-06, 'epoch': 10.27}\n",
      "{'loss': 0.2273, 'grad_norm': 17.48619270324707, 'learning_rate': 1.2496732026143791e-06, 'epoch': 10.31}\n",
      "{'loss': 0.1214, 'grad_norm': 60.8242301940918, 'learning_rate': 1.2392156862745097e-06, 'epoch': 10.35}\n",
      "{'loss': 0.3055, 'grad_norm': 108.50476837158203, 'learning_rate': 1.2287581699346405e-06, 'epoch': 10.39}\n",
      "{'loss': 0.1519, 'grad_norm': 16.37511444091797, 'learning_rate': 1.218300653594771e-06, 'epoch': 10.43}\n",
      "{'loss': 0.1353, 'grad_norm': 39.98873519897461, 'learning_rate': 1.2078431372549019e-06, 'epoch': 10.47}\n",
      "{'loss': 0.326, 'grad_norm': 19.791135787963867, 'learning_rate': 1.1973856209150326e-06, 'epoch': 10.51}\n",
      "{'loss': 0.1414, 'grad_norm': 22.880634307861328, 'learning_rate': 1.1869281045751634e-06, 'epoch': 10.55}\n",
      "{'loss': 0.2551, 'grad_norm': 34.14873123168945, 'learning_rate': 1.176470588235294e-06, 'epoch': 10.59}\n",
      "{'loss': 0.2551, 'grad_norm': 88.14348602294922, 'learning_rate': 1.1660130718954248e-06, 'epoch': 10.63}\n",
      "{'loss': 0.2158, 'grad_norm': 42.8300895690918, 'learning_rate': 1.1555555555555554e-06, 'epoch': 10.67}\n",
      "{'loss': 0.1519, 'grad_norm': 38.66292953491211, 'learning_rate': 1.1450980392156862e-06, 'epoch': 10.71}\n",
      "{'loss': 0.133, 'grad_norm': 2.8179759979248047, 'learning_rate': 1.134640522875817e-06, 'epoch': 10.75}\n",
      "{'loss': 0.141, 'grad_norm': 29.223655700683594, 'learning_rate': 1.1241830065359478e-06, 'epoch': 10.78}\n",
      "{'loss': 0.2656, 'grad_norm': 14.754018783569336, 'learning_rate': 1.1137254901960783e-06, 'epoch': 10.82}\n",
      "{'loss': 0.2368, 'grad_norm': 39.919063568115234, 'learning_rate': 1.1032679738562091e-06, 'epoch': 10.86}\n",
      "{'loss': 0.1861, 'grad_norm': 14.9749174118042, 'learning_rate': 1.0928104575163397e-06, 'epoch': 10.9}\n",
      "{'loss': 0.1445, 'grad_norm': 5.676146030426025, 'learning_rate': 1.0823529411764705e-06, 'epoch': 10.94}\n",
      "{'loss': 0.1712, 'grad_norm': 9.770829200744629, 'learning_rate': 1.0718954248366013e-06, 'epoch': 10.98}\n"
     ]
    },
    {
     "data": {
      "application/vnd.jupyter.widget-view+json": {
       "model_id": "160524fb4dee4fae9bad3acc63e964bb",
       "version_major": 2,
       "version_minor": 0
      },
      "text/plain": [
       "  0%|          | 0/73 [00:00<?, ?it/s]"
      ]
     },
     "metadata": {},
     "output_type": "display_data"
    },
    {
     "name": "stdout",
     "output_type": "stream",
     "text": [
      "{'eval_loss': 0.2166920155286789, 'eval_accuracy': 0.9339055793991416, 'eval_runtime': 179.5407, 'eval_samples_per_second': 6.489, 'eval_steps_per_second': 0.407, 'epoch': 11.0}\n",
      "{'loss': 0.0839, 'grad_norm': 16.2960205078125, 'learning_rate': 1.061437908496732e-06, 'epoch': 11.02}\n",
      "{'loss': 0.0575, 'grad_norm': 11.0881929397583, 'learning_rate': 1.0509803921568627e-06, 'epoch': 11.06}\n",
      "{'loss': 0.1321, 'grad_norm': 92.45496368408203, 'learning_rate': 1.0405228758169935e-06, 'epoch': 11.1}\n",
      "{'loss': 0.1811, 'grad_norm': 33.560585021972656, 'learning_rate': 1.030065359477124e-06, 'epoch': 11.14}\n",
      "{'loss': 0.1623, 'grad_norm': 47.79589080810547, 'learning_rate': 1.0196078431372548e-06, 'epoch': 11.18}\n",
      "{'loss': 0.1927, 'grad_norm': 21.562644958496094, 'learning_rate': 1.0091503267973856e-06, 'epoch': 11.22}\n",
      "{'loss': 0.1292, 'grad_norm': 20.521638870239258, 'learning_rate': 9.986928104575162e-07, 'epoch': 11.25}\n",
      "{'loss': 0.2115, 'grad_norm': 11.966313362121582, 'learning_rate': 9.88235294117647e-07, 'epoch': 11.29}\n",
      "{'loss': 0.1033, 'grad_norm': 23.69925880432129, 'learning_rate': 9.777777777777778e-07, 'epoch': 11.33}\n",
      "{'loss': 0.1505, 'grad_norm': 3.475531816482544, 'learning_rate': 9.673202614379084e-07, 'epoch': 11.37}\n",
      "{'loss': 0.2088, 'grad_norm': 22.01557159423828, 'learning_rate': 9.568627450980392e-07, 'epoch': 11.41}\n",
      "{'loss': 0.1237, 'grad_norm': 21.959152221679688, 'learning_rate': 9.464052287581698e-07, 'epoch': 11.45}\n",
      "{'loss': 0.2566, 'grad_norm': 0.4446796774864197, 'learning_rate': 9.359477124183006e-07, 'epoch': 11.49}\n",
      "{'loss': 0.1083, 'grad_norm': 41.34370803833008, 'learning_rate': 9.254901960784314e-07, 'epoch': 11.53}\n",
      "{'loss': 0.2494, 'grad_norm': 8.121896743774414, 'learning_rate': 9.15032679738562e-07, 'epoch': 11.57}\n",
      "{'loss': 0.0767, 'grad_norm': 63.803871154785156, 'learning_rate': 9.045751633986928e-07, 'epoch': 11.61}\n",
      "{'loss': 0.2366, 'grad_norm': 27.06170082092285, 'learning_rate': 8.941176470588236e-07, 'epoch': 11.65}\n",
      "{'loss': 0.0977, 'grad_norm': 25.636642456054688, 'learning_rate': 8.836601307189542e-07, 'epoch': 11.69}\n",
      "{'loss': 0.2248, 'grad_norm': 0.43619778752326965, 'learning_rate': 8.73202614379085e-07, 'epoch': 11.73}\n",
      "{'loss': 0.1893, 'grad_norm': 0.23198576271533966, 'learning_rate': 8.627450980392156e-07, 'epoch': 11.76}\n",
      "{'loss': 0.1828, 'grad_norm': 6.8683342933654785, 'learning_rate': 8.522875816993463e-07, 'epoch': 11.8}\n",
      "{'loss': 0.1174, 'grad_norm': 5.0202717781066895, 'learning_rate': 8.418300653594771e-07, 'epoch': 11.84}\n",
      "{'loss': 0.3264, 'grad_norm': 42.75700378417969, 'learning_rate': 8.313725490196078e-07, 'epoch': 11.88}\n",
      "{'loss': 0.2996, 'grad_norm': 52.481971740722656, 'learning_rate': 8.209150326797385e-07, 'epoch': 11.92}\n",
      "{'loss': 0.231, 'grad_norm': 34.930870056152344, 'learning_rate': 8.104575163398693e-07, 'epoch': 11.96}\n",
      "{'loss': 0.1546, 'grad_norm': 10.45518970489502, 'learning_rate': 8e-07, 'epoch': 12.0}\n"
     ]
    },
    {
     "data": {
      "application/vnd.jupyter.widget-view+json": {
       "model_id": "c5dc6826ed5d42ffb2015bf86b06f90b",
       "version_major": 2,
       "version_minor": 0
      },
      "text/plain": [
       "  0%|          | 0/73 [00:00<?, ?it/s]"
      ]
     },
     "metadata": {},
     "output_type": "display_data"
    },
    {
     "name": "stdout",
     "output_type": "stream",
     "text": [
      "{'eval_loss': 0.21931400895118713, 'eval_accuracy': 0.936480686695279, 'eval_runtime': 179.1485, 'eval_samples_per_second': 6.503, 'eval_steps_per_second': 0.407, 'epoch': 12.0}\n",
      "{'loss': 0.1633, 'grad_norm': 12.932236671447754, 'learning_rate': 7.895424836601306e-07, 'epoch': 12.04}\n",
      "{'loss': 0.1787, 'grad_norm': 33.9129524230957, 'learning_rate': 7.790849673202614e-07, 'epoch': 12.08}\n",
      "{'loss': 0.0743, 'grad_norm': 40.722164154052734, 'learning_rate': 7.686274509803921e-07, 'epoch': 12.12}\n",
      "{'loss': 0.1596, 'grad_norm': 26.881332397460938, 'learning_rate': 7.581699346405228e-07, 'epoch': 12.16}\n",
      "{'loss': 0.1615, 'grad_norm': 0.3181571960449219, 'learning_rate': 7.477124183006536e-07, 'epoch': 12.2}\n",
      "{'loss': 0.1485, 'grad_norm': 0.9654801487922668, 'learning_rate': 7.372549019607843e-07, 'epoch': 12.24}\n",
      "{'loss': 0.2435, 'grad_norm': 52.502227783203125, 'learning_rate': 7.26797385620915e-07, 'epoch': 12.27}\n",
      "{'loss': 0.1498, 'grad_norm': 36.79524230957031, 'learning_rate': 7.163398692810458e-07, 'epoch': 12.31}\n",
      "{'loss': 0.1358, 'grad_norm': 9.109745979309082, 'learning_rate': 7.058823529411765e-07, 'epoch': 12.35}\n",
      "{'loss': 0.1848, 'grad_norm': 19.21080780029297, 'learning_rate': 6.954248366013071e-07, 'epoch': 12.39}\n",
      "{'loss': 0.2405, 'grad_norm': 4.268808841705322, 'learning_rate': 6.849673202614379e-07, 'epoch': 12.43}\n",
      "{'loss': 0.1661, 'grad_norm': 54.17274856567383, 'learning_rate': 6.745098039215686e-07, 'epoch': 12.47}\n",
      "{'loss': 0.1262, 'grad_norm': 0.8373214602470398, 'learning_rate': 6.640522875816993e-07, 'epoch': 12.51}\n",
      "{'loss': 0.1056, 'grad_norm': 4.191946029663086, 'learning_rate': 6.535947712418301e-07, 'epoch': 12.55}\n",
      "{'loss': 0.0772, 'grad_norm': 23.64788055419922, 'learning_rate': 6.431372549019608e-07, 'epoch': 12.59}\n",
      "{'loss': 0.2125, 'grad_norm': 7.9114298820495605, 'learning_rate': 6.326797385620915e-07, 'epoch': 12.63}\n",
      "{'loss': 0.0963, 'grad_norm': 13.667378425598145, 'learning_rate': 6.222222222222223e-07, 'epoch': 12.67}\n",
      "{'loss': 0.1544, 'grad_norm': 86.24412536621094, 'learning_rate': 6.117647058823529e-07, 'epoch': 12.71}\n",
      "{'loss': 0.1516, 'grad_norm': 1.0520099401474, 'learning_rate': 6.013071895424836e-07, 'epoch': 12.75}\n",
      "{'loss': 0.0849, 'grad_norm': 39.62348937988281, 'learning_rate': 5.908496732026144e-07, 'epoch': 12.78}\n",
      "{'loss': 0.1228, 'grad_norm': 0.38905295729637146, 'learning_rate': 5.803921568627451e-07, 'epoch': 12.82}\n",
      "{'loss': 0.1473, 'grad_norm': 60.773033142089844, 'learning_rate': 5.699346405228758e-07, 'epoch': 12.86}\n",
      "{'loss': 0.2941, 'grad_norm': 45.885536193847656, 'learning_rate': 5.594771241830065e-07, 'epoch': 12.9}\n",
      "{'loss': 0.1706, 'grad_norm': 25.114044189453125, 'learning_rate': 5.490196078431373e-07, 'epoch': 12.94}\n",
      "{'loss': 0.1936, 'grad_norm': 14.30785846710205, 'learning_rate': 5.38562091503268e-07, 'epoch': 12.98}\n"
     ]
    },
    {
     "data": {
      "application/vnd.jupyter.widget-view+json": {
       "model_id": "dd0980aad380405fb06b3ff818296c9b",
       "version_major": 2,
       "version_minor": 0
      },
      "text/plain": [
       "  0%|          | 0/73 [00:00<?, ?it/s]"
      ]
     },
     "metadata": {},
     "output_type": "display_data"
    },
    {
     "name": "stdout",
     "output_type": "stream",
     "text": [
      "{'eval_loss': 0.21930508315563202, 'eval_accuracy': 0.9407725321888412, 'eval_runtime': 179.8599, 'eval_samples_per_second': 6.477, 'eval_steps_per_second': 0.406, 'epoch': 13.0}\n",
      "{'loss': 0.2113, 'grad_norm': 1.5805141925811768, 'learning_rate': 5.281045751633986e-07, 'epoch': 13.02}\n",
      "{'loss': 0.1123, 'grad_norm': 10.298863410949707, 'learning_rate': 5.176470588235294e-07, 'epoch': 13.06}\n",
      "{'loss': 0.1216, 'grad_norm': 16.241456985473633, 'learning_rate': 5.071895424836601e-07, 'epoch': 13.1}\n",
      "{'loss': 0.1847, 'grad_norm': 24.810436248779297, 'learning_rate': 4.967320261437908e-07, 'epoch': 13.14}\n",
      "{'loss': 0.0873, 'grad_norm': 19.310667037963867, 'learning_rate': 4.862745098039216e-07, 'epoch': 13.18}\n",
      "{'loss': 0.1235, 'grad_norm': 18.36367416381836, 'learning_rate': 4.758169934640522e-07, 'epoch': 13.22}\n",
      "{'loss': 0.1489, 'grad_norm': 83.51899719238281, 'learning_rate': 4.65359477124183e-07, 'epoch': 13.25}\n",
      "{'loss': 0.2251, 'grad_norm': 32.3670654296875, 'learning_rate': 4.549019607843137e-07, 'epoch': 13.29}\n",
      "{'loss': 0.1426, 'grad_norm': 9.358945846557617, 'learning_rate': 4.444444444444444e-07, 'epoch': 13.33}\n",
      "{'loss': 0.2111, 'grad_norm': 56.225547790527344, 'learning_rate': 4.339869281045752e-07, 'epoch': 13.37}\n",
      "{'loss': 0.097, 'grad_norm': 36.67212677001953, 'learning_rate': 4.2352941176470586e-07, 'epoch': 13.41}\n",
      "{'loss': 0.1246, 'grad_norm': 25.401315689086914, 'learning_rate': 4.1307189542483655e-07, 'epoch': 13.45}\n",
      "{'loss': 0.0715, 'grad_norm': 2.0926718711853027, 'learning_rate': 4.0261437908496734e-07, 'epoch': 13.49}\n",
      "{'loss': 0.1287, 'grad_norm': 36.7338981628418, 'learning_rate': 3.92156862745098e-07, 'epoch': 13.53}\n",
      "{'loss': 0.3169, 'grad_norm': 42.351844787597656, 'learning_rate': 3.816993464052287e-07, 'epoch': 13.57}\n",
      "{'loss': 0.1687, 'grad_norm': 54.52128601074219, 'learning_rate': 3.712418300653595e-07, 'epoch': 13.61}\n",
      "{'loss': 0.2167, 'grad_norm': 8.375733375549316, 'learning_rate': 3.607843137254902e-07, 'epoch': 13.65}\n",
      "{'loss': 0.1948, 'grad_norm': 1.1050260066986084, 'learning_rate': 3.5032679738562087e-07, 'epoch': 13.69}\n",
      "{'loss': 0.1045, 'grad_norm': 5.937323570251465, 'learning_rate': 3.398692810457516e-07, 'epoch': 13.73}\n",
      "{'loss': 0.1541, 'grad_norm': 14.662620544433594, 'learning_rate': 3.2941176470588235e-07, 'epoch': 13.76}\n",
      "{'loss': 0.1211, 'grad_norm': 107.70360565185547, 'learning_rate': 3.1895424836601303e-07, 'epoch': 13.8}\n",
      "{'loss': 0.2065, 'grad_norm': 6.456738471984863, 'learning_rate': 3.0849673202614377e-07, 'epoch': 13.84}\n",
      "{'loss': 0.2932, 'grad_norm': 89.97293090820312, 'learning_rate': 2.980392156862745e-07, 'epoch': 13.88}\n",
      "{'loss': 0.13, 'grad_norm': 1.1963400840759277, 'learning_rate': 2.875816993464052e-07, 'epoch': 13.92}\n",
      "{'loss': 0.0697, 'grad_norm': 0.8304877281188965, 'learning_rate': 2.7712418300653593e-07, 'epoch': 13.96}\n",
      "{'loss': 0.1677, 'grad_norm': 49.2969856262207, 'learning_rate': 2.6666666666666667e-07, 'epoch': 14.0}\n"
     ]
    },
    {
     "data": {
      "application/vnd.jupyter.widget-view+json": {
       "model_id": "51d789883c054793aab1d7223c895b5c",
       "version_major": 2,
       "version_minor": 0
      },
      "text/plain": [
       "  0%|          | 0/73 [00:00<?, ?it/s]"
      ]
     },
     "metadata": {},
     "output_type": "display_data"
    },
    {
     "name": "stdout",
     "output_type": "stream",
     "text": [
      "{'eval_loss': 0.23749525845050812, 'eval_accuracy': 0.9356223175965666, 'eval_runtime': 181.017, 'eval_samples_per_second': 6.436, 'eval_steps_per_second': 0.403, 'epoch': 14.0}\n",
      "{'loss': 0.1755, 'grad_norm': 13.70283317565918, 'learning_rate': 2.5620915032679736e-07, 'epoch': 14.04}\n",
      "{'loss': 0.1464, 'grad_norm': 47.662940979003906, 'learning_rate': 2.457516339869281e-07, 'epoch': 14.08}\n",
      "{'loss': 0.0998, 'grad_norm': 3.9633285999298096, 'learning_rate': 2.352941176470588e-07, 'epoch': 14.12}\n",
      "{'loss': 0.1944, 'grad_norm': 41.443214416503906, 'learning_rate': 2.2483660130718955e-07, 'epoch': 14.16}\n",
      "{'loss': 0.1429, 'grad_norm': 85.75756072998047, 'learning_rate': 2.1437908496732023e-07, 'epoch': 14.2}\n",
      "{'loss': 0.159, 'grad_norm': 3.4543466567993164, 'learning_rate': 2.0392156862745097e-07, 'epoch': 14.24}\n",
      "{'loss': 0.2513, 'grad_norm': 4.192806243896484, 'learning_rate': 1.934640522875817e-07, 'epoch': 14.27}\n",
      "{'loss': 0.1592, 'grad_norm': 101.54142761230469, 'learning_rate': 1.830065359477124e-07, 'epoch': 14.31}\n",
      "{'loss': 0.1761, 'grad_norm': 34.24021911621094, 'learning_rate': 1.7254901960784313e-07, 'epoch': 14.35}\n",
      "{'loss': 0.1176, 'grad_norm': 5.890820026397705, 'learning_rate': 1.6209150326797385e-07, 'epoch': 14.39}\n",
      "{'loss': 0.124, 'grad_norm': 1.2587244510650635, 'learning_rate': 1.5163398692810456e-07, 'epoch': 14.43}\n",
      "{'loss': 0.1736, 'grad_norm': 11.893034934997559, 'learning_rate': 1.411764705882353e-07, 'epoch': 14.47}\n",
      "{'loss': 0.1019, 'grad_norm': 59.66194152832031, 'learning_rate': 1.30718954248366e-07, 'epoch': 14.51}\n",
      "{'loss': 0.2303, 'grad_norm': 62.27507019042969, 'learning_rate': 1.2026143790849672e-07, 'epoch': 14.55}\n",
      "{'loss': 0.0953, 'grad_norm': 10.234586715698242, 'learning_rate': 1.0980392156862744e-07, 'epoch': 14.59}\n",
      "{'loss': 0.1231, 'grad_norm': 2.047557830810547, 'learning_rate': 9.934640522875816e-08, 'epoch': 14.63}\n",
      "{'loss': 0.0829, 'grad_norm': 12.335963249206543, 'learning_rate': 8.888888888888888e-08, 'epoch': 14.67}\n",
      "{'loss': 0.2368, 'grad_norm': 160.85629272460938, 'learning_rate': 7.843137254901961e-08, 'epoch': 14.71}\n",
      "{'loss': 0.1396, 'grad_norm': 7.875673770904541, 'learning_rate': 6.797385620915032e-08, 'epoch': 14.75}\n",
      "{'loss': 0.1154, 'grad_norm': 4.546895503997803, 'learning_rate': 5.751633986928104e-08, 'epoch': 14.78}\n",
      "{'loss': 0.1819, 'grad_norm': 18.582717895507812, 'learning_rate': 4.705882352941176e-08, 'epoch': 14.82}\n",
      "{'loss': 0.1484, 'grad_norm': 36.825592041015625, 'learning_rate': 3.660130718954248e-08, 'epoch': 14.86}\n",
      "{'loss': 0.1226, 'grad_norm': 3.40098237991333, 'learning_rate': 2.6143790849673203e-08, 'epoch': 14.9}\n",
      "{'loss': 0.1121, 'grad_norm': 84.65242004394531, 'learning_rate': 1.5686274509803922e-08, 'epoch': 14.94}\n",
      "{'loss': 0.2649, 'grad_norm': 31.467388153076172, 'learning_rate': 5.22875816993464e-09, 'epoch': 14.98}\n"
     ]
    },
    {
     "data": {
      "application/vnd.jupyter.widget-view+json": {
       "model_id": "5f4db957c9754ad09318437c7ed1259c",
       "version_major": 2,
       "version_minor": 0
      },
      "text/plain": [
       "  0%|          | 0/73 [00:00<?, ?it/s]"
      ]
     },
     "metadata": {},
     "output_type": "display_data"
    },
    {
     "name": "stdout",
     "output_type": "stream",
     "text": [
      "{'eval_loss': 0.2497621476650238, 'eval_accuracy': 0.9339055793991416, 'eval_runtime': 169.7735, 'eval_samples_per_second': 6.862, 'eval_steps_per_second': 0.43, 'epoch': 15.0}\n",
      "{'train_runtime': 22380.228, 'train_samples_per_second': 2.733, 'train_steps_per_second': 0.171, 'train_loss': 0.20743973994371936, 'epoch': 15.0}\n"
     ]
    },
    {
     "data": {
      "application/vnd.jupyter.widget-view+json": {
       "model_id": "93e402db3aa54e47848a7fcf22d124b3",
       "version_major": 2,
       "version_minor": 0
      },
      "text/plain": [
       "  0%|          | 0/37 [00:00<?, ?it/s]"
      ]
     },
     "metadata": {},
     "output_type": "display_data"
    },
    {
     "name": "stdout",
     "output_type": "stream",
     "text": [
      "Test Results: {'eval_loss': 0.20613574981689453, 'eval_accuracy': 0.936426116838488, 'eval_runtime': 86.1279, 'eval_samples_per_second': 6.757, 'eval_steps_per_second': 0.43, 'epoch': 15.0}\n"
     ]
    }
   ],
   "source": [
    "\n",
    "trainer = Trainer(\n",
    "    model=model,\n",
    "    args=training_args,\n",
    "    train_dataset=dataset[\"train\"],\n",
    "    eval_dataset=dataset[\"validation\"],\n",
    "    tokenizer=None,\n",
    "    compute_metrics=compute_metrics,\n",
    "    callbacks=[early_stopping],\n",
    ")\n",
    "\n",
    "trainer.train()\n",
    "results = trainer.evaluate(dataset[\"test\"])\n",
    "print(\"Test Results:\", results)\n",
    "\n"
   ]
  },
  {
   "cell_type": "code",
   "execution_count": 11,
   "metadata": {},
   "outputs": [],
   "source": [
    "torch.save(model.state_dict(), 'model_parameters_1201.pth')"
   ]
  },
  {
   "cell_type": "code",
   "execution_count": 12,
   "metadata": {},
   "outputs": [
    {
     "name": "stderr",
     "output_type": "stream",
     "text": [
      "C:\\Users\\19811\\AppData\\Local\\Packages\\PythonSoftwareFoundation.Python.3.11_qbz5n2kfra8p0\\LocalCache\\local-packages\\Python311\\site-packages\\transformers\\training_args.py:1568: FutureWarning: `evaluation_strategy` is deprecated and will be removed in version 4.46 of 🤗 Transformers. Use `eval_strategy` instead\n",
      "  warnings.warn(\n",
      "C:\\Users\\19811\\AppData\\Local\\Temp\\ipykernel_20636\\2839116516.py:20: FutureWarning: `tokenizer` is deprecated and will be removed in version 5.0.0 for `Trainer.__init__`. Use `processing_class` instead.\n",
      "  trainer = Trainer(\n"
     ]
    },
    {
     "data": {
      "application/vnd.jupyter.widget-view+json": {
       "model_id": "0224525b5ed847d9b19883e1c5f49c6d",
       "version_major": 2,
       "version_minor": 0
      },
      "text/plain": [
       "  0%|          | 0/5100 [00:00<?, ?it/s]"
      ]
     },
     "metadata": {},
     "output_type": "display_data"
    },
    {
     "name": "stdout",
     "output_type": "stream",
     "text": [
      "{'loss': 0.0962, 'grad_norm': 0.6237013339996338, 'learning_rate': 4.990196078431373e-09, 'epoch': 0.04}\n",
      "{'loss': 0.0526, 'grad_norm': 1.2592545747756958, 'learning_rate': 4.980392156862745e-09, 'epoch': 0.08}\n",
      "{'loss': 0.1246, 'grad_norm': 12.886646270751953, 'learning_rate': 4.970588235294118e-09, 'epoch': 0.12}\n",
      "{'loss': 0.1764, 'grad_norm': 1.2968604564666748, 'learning_rate': 4.96078431372549e-09, 'epoch': 0.16}\n",
      "{'loss': 0.1424, 'grad_norm': 20.541128158569336, 'learning_rate': 4.950980392156863e-09, 'epoch': 0.2}\n",
      "{'loss': 0.0992, 'grad_norm': 22.400251388549805, 'learning_rate': 4.941176470588235e-09, 'epoch': 0.24}\n",
      "{'loss': 0.1788, 'grad_norm': 6.979392051696777, 'learning_rate': 4.931372549019608e-09, 'epoch': 0.27}\n",
      "{'loss': 0.1596, 'grad_norm': 13.072405815124512, 'learning_rate': 4.92156862745098e-09, 'epoch': 0.31}\n",
      "{'loss': 0.0989, 'grad_norm': 3.2910754680633545, 'learning_rate': 4.9117647058823525e-09, 'epoch': 0.35}\n",
      "{'loss': 0.1727, 'grad_norm': 70.84709930419922, 'learning_rate': 4.9019607843137254e-09, 'epoch': 0.39}\n",
      "{'loss': 0.1054, 'grad_norm': 7.850571155548096, 'learning_rate': 4.8921568627450976e-09, 'epoch': 0.43}\n",
      "{'loss': 0.1332, 'grad_norm': 25.50099754333496, 'learning_rate': 4.8823529411764705e-09, 'epoch': 0.47}\n",
      "{'loss': 0.103, 'grad_norm': 0.4593088626861572, 'learning_rate': 4.8725490196078435e-09, 'epoch': 0.51}\n",
      "{'loss': 0.2314, 'grad_norm': 3.390794277191162, 'learning_rate': 4.8627450980392156e-09, 'epoch': 0.55}\n",
      "{'loss': 0.0508, 'grad_norm': 0.5019153952598572, 'learning_rate': 4.8529411764705885e-09, 'epoch': 0.59}\n",
      "{'loss': 0.1733, 'grad_norm': 4.9470744132995605, 'learning_rate': 4.843137254901961e-09, 'epoch': 0.63}\n",
      "{'loss': 0.1049, 'grad_norm': 8.914793014526367, 'learning_rate': 4.833333333333334e-09, 'epoch': 0.67}\n",
      "{'loss': 0.1763, 'grad_norm': 54.01051330566406, 'learning_rate': 4.823529411764706e-09, 'epoch': 0.71}\n",
      "{'loss': 0.2128, 'grad_norm': 37.398826599121094, 'learning_rate': 4.813725490196079e-09, 'epoch': 0.75}\n",
      "{'loss': 0.2292, 'grad_norm': 71.5578842163086, 'learning_rate': 4.803921568627452e-09, 'epoch': 0.78}\n",
      "{'loss': 0.2261, 'grad_norm': 31.75364112854004, 'learning_rate': 4.794117647058824e-09, 'epoch': 0.82}\n",
      "{'loss': 0.1161, 'grad_norm': 57.05998992919922, 'learning_rate': 4.784313725490197e-09, 'epoch': 0.86}\n",
      "{'loss': 0.1756, 'grad_norm': 0.3418413996696472, 'learning_rate': 4.774509803921569e-09, 'epoch': 0.9}\n",
      "{'loss': 0.1482, 'grad_norm': 41.968238830566406, 'learning_rate': 4.764705882352941e-09, 'epoch': 0.94}\n",
      "{'loss': 0.2343, 'grad_norm': 25.093647003173828, 'learning_rate': 4.754901960784314e-09, 'epoch': 0.98}\n"
     ]
    },
    {
     "data": {
      "application/vnd.jupyter.widget-view+json": {
       "model_id": "342d4ab1cf5846769d5da256f8371032",
       "version_major": 2,
       "version_minor": 0
      },
      "text/plain": [
       "  0%|          | 0/73 [00:00<?, ?it/s]"
      ]
     },
     "metadata": {},
     "output_type": "display_data"
    },
    {
     "name": "stdout",
     "output_type": "stream",
     "text": [
      "{'eval_loss': 0.2209848314523697, 'eval_accuracy': 0.9381974248927039, 'eval_runtime': 174.8566, 'eval_samples_per_second': 6.663, 'eval_steps_per_second': 0.417, 'epoch': 1.0}\n",
      "{'loss': 0.159, 'grad_norm': 50.63440704345703, 'learning_rate': 4.745098039215686e-09, 'epoch': 1.02}\n",
      "{'loss': 0.0831, 'grad_norm': 2.2748358249664307, 'learning_rate': 4.735294117647059e-09, 'epoch': 1.06}\n",
      "{'loss': 0.1749, 'grad_norm': 82.53803253173828, 'learning_rate': 4.725490196078431e-09, 'epoch': 1.1}\n",
      "{'loss': 0.1076, 'grad_norm': 23.359214782714844, 'learning_rate': 4.715686274509804e-09, 'epoch': 1.14}\n",
      "{'loss': 0.1487, 'grad_norm': 4.227215766906738, 'learning_rate': 4.705882352941176e-09, 'epoch': 1.18}\n",
      "{'loss': 0.1612, 'grad_norm': 41.28520202636719, 'learning_rate': 4.696078431372549e-09, 'epoch': 1.22}\n",
      "{'loss': 0.1064, 'grad_norm': 28.58900260925293, 'learning_rate': 4.686274509803922e-09, 'epoch': 1.25}\n",
      "{'loss': 0.1697, 'grad_norm': 4.768855571746826, 'learning_rate': 4.676470588235294e-09, 'epoch': 1.29}\n",
      "{'loss': 0.089, 'grad_norm': 17.670215606689453, 'learning_rate': 4.666666666666667e-09, 'epoch': 1.33}\n",
      "{'loss': 0.1869, 'grad_norm': 46.54154968261719, 'learning_rate': 4.656862745098039e-09, 'epoch': 1.37}\n",
      "{'loss': 0.2503, 'grad_norm': 0.407964289188385, 'learning_rate': 4.647058823529412e-09, 'epoch': 1.41}\n",
      "{'loss': 0.1558, 'grad_norm': 38.36847686767578, 'learning_rate': 4.637254901960784e-09, 'epoch': 1.45}\n",
      "{'loss': 0.0868, 'grad_norm': 23.0231876373291, 'learning_rate': 4.627450980392157e-09, 'epoch': 1.49}\n",
      "{'loss': 0.1309, 'grad_norm': 54.30998611450195, 'learning_rate': 4.617647058823529e-09, 'epoch': 1.53}\n",
      "{'loss': 0.1228, 'grad_norm': 9.211044311523438, 'learning_rate': 4.6078431372549015e-09, 'epoch': 1.57}\n",
      "{'loss': 0.2757, 'grad_norm': 45.964420318603516, 'learning_rate': 4.5980392156862744e-09, 'epoch': 1.61}\n",
      "{'loss': 0.1491, 'grad_norm': 25.915300369262695, 'learning_rate': 4.5882352941176465e-09, 'epoch': 1.65}\n",
      "{'loss': 0.0875, 'grad_norm': 28.66284942626953, 'learning_rate': 4.5784313725490195e-09, 'epoch': 1.69}\n",
      "{'loss': 0.1502, 'grad_norm': 6.863690376281738, 'learning_rate': 4.5686274509803924e-09, 'epoch': 1.73}\n",
      "{'loss': 0.1879, 'grad_norm': 38.67856979370117, 'learning_rate': 4.5588235294117646e-09, 'epoch': 1.76}\n",
      "{'loss': 0.2254, 'grad_norm': 68.11888122558594, 'learning_rate': 4.5490196078431375e-09, 'epoch': 1.8}\n",
      "{'loss': 0.1286, 'grad_norm': 0.457297682762146, 'learning_rate': 4.53921568627451e-09, 'epoch': 1.84}\n",
      "{'loss': 0.2071, 'grad_norm': 89.8651123046875, 'learning_rate': 4.5294117647058826e-09, 'epoch': 1.88}\n",
      "{'loss': 0.1599, 'grad_norm': 0.7027348279953003, 'learning_rate': 4.519607843137255e-09, 'epoch': 1.92}\n",
      "{'loss': 0.1377, 'grad_norm': 49.11161422729492, 'learning_rate': 4.509803921568628e-09, 'epoch': 1.96}\n",
      "{'loss': 0.0116, 'grad_norm': 8.566183090209961, 'learning_rate': 4.500000000000001e-09, 'epoch': 2.0}\n"
     ]
    },
    {
     "data": {
      "application/vnd.jupyter.widget-view+json": {
       "model_id": "aafc5ec4a7014090b9abbd182af23042",
       "version_major": 2,
       "version_minor": 0
      },
      "text/plain": [
       "  0%|          | 0/73 [00:00<?, ?it/s]"
      ]
     },
     "metadata": {},
     "output_type": "display_data"
    },
    {
     "name": "stdout",
     "output_type": "stream",
     "text": [
      "{'eval_loss': 0.2229243665933609, 'eval_accuracy': 0.936480686695279, 'eval_runtime': 170.6073, 'eval_samples_per_second': 6.829, 'eval_steps_per_second': 0.428, 'epoch': 2.0}\n",
      "{'loss': 0.1077, 'grad_norm': 0.7562034130096436, 'learning_rate': 4.490196078431373e-09, 'epoch': 2.04}\n",
      "{'loss': 0.1432, 'grad_norm': 25.7589111328125, 'learning_rate': 4.480392156862746e-09, 'epoch': 2.08}\n",
      "{'loss': 0.1019, 'grad_norm': 15.096132278442383, 'learning_rate': 4.470588235294118e-09, 'epoch': 2.12}\n",
      "{'loss': 0.1917, 'grad_norm': 29.30374526977539, 'learning_rate': 4.460784313725491e-09, 'epoch': 2.16}\n",
      "{'loss': 0.0972, 'grad_norm': 6.981141090393066, 'learning_rate': 4.450980392156863e-09, 'epoch': 2.2}\n",
      "{'loss': 0.1724, 'grad_norm': 19.163679122924805, 'learning_rate': 4.441176470588235e-09, 'epoch': 2.24}\n",
      "{'loss': 0.091, 'grad_norm': 19.702045440673828, 'learning_rate': 4.431372549019608e-09, 'epoch': 2.27}\n",
      "{'loss': 0.1063, 'grad_norm': 21.878149032592773, 'learning_rate': 4.42156862745098e-09, 'epoch': 2.31}\n",
      "{'loss': 0.2519, 'grad_norm': 6.0826334953308105, 'learning_rate': 4.411764705882353e-09, 'epoch': 2.35}\n",
      "{'loss': 0.186, 'grad_norm': 19.804153442382812, 'learning_rate': 4.401960784313725e-09, 'epoch': 2.39}\n",
      "{'loss': 0.2159, 'grad_norm': 31.164037704467773, 'learning_rate': 4.392156862745098e-09, 'epoch': 2.43}\n",
      "{'loss': 0.1613, 'grad_norm': 13.35457992553711, 'learning_rate': 4.382352941176471e-09, 'epoch': 2.47}\n",
      "{'loss': 0.1432, 'grad_norm': 79.13923645019531, 'learning_rate': 4.372549019607843e-09, 'epoch': 2.51}\n",
      "{'loss': 0.0642, 'grad_norm': 2.954220771789551, 'learning_rate': 4.362745098039216e-09, 'epoch': 2.55}\n",
      "{'loss': 0.3066, 'grad_norm': 24.55042839050293, 'learning_rate': 4.352941176470588e-09, 'epoch': 2.59}\n",
      "{'loss': 0.1388, 'grad_norm': 42.031375885009766, 'learning_rate': 4.343137254901961e-09, 'epoch': 2.63}\n",
      "{'loss': 0.1366, 'grad_norm': 38.00927734375, 'learning_rate': 4.333333333333333e-09, 'epoch': 2.67}\n",
      "{'loss': 0.1524, 'grad_norm': 111.6719970703125, 'learning_rate': 4.323529411764706e-09, 'epoch': 2.71}\n",
      "{'loss': 0.1229, 'grad_norm': 12.444109916687012, 'learning_rate': 4.313725490196078e-09, 'epoch': 2.75}\n",
      "{'loss': 0.1896, 'grad_norm': 2.7685322761535645, 'learning_rate': 4.303921568627451e-09, 'epoch': 2.78}\n",
      "{'loss': 0.088, 'grad_norm': 15.399872779846191, 'learning_rate': 4.294117647058823e-09, 'epoch': 2.82}\n",
      "{'loss': 0.0771, 'grad_norm': 21.403902053833008, 'learning_rate': 4.284313725490196e-09, 'epoch': 2.86}\n",
      "{'loss': 0.1087, 'grad_norm': 7.610869407653809, 'learning_rate': 4.2745098039215685e-09, 'epoch': 2.9}\n",
      "{'loss': 0.1459, 'grad_norm': 64.14311981201172, 'learning_rate': 4.264705882352941e-09, 'epoch': 2.94}\n",
      "{'loss': 0.1707, 'grad_norm': 1.4125020503997803, 'learning_rate': 4.2549019607843135e-09, 'epoch': 2.98}\n"
     ]
    },
    {
     "data": {
      "application/vnd.jupyter.widget-view+json": {
       "model_id": "ec369b23af6f43dca1aa863b082f822e",
       "version_major": 2,
       "version_minor": 0
      },
      "text/plain": [
       "  0%|          | 0/73 [00:00<?, ?it/s]"
      ]
     },
     "metadata": {},
     "output_type": "display_data"
    },
    {
     "name": "stdout",
     "output_type": "stream",
     "text": [
      "{'eval_loss': 0.2239675670862198, 'eval_accuracy': 0.9356223175965666, 'eval_runtime': 172.7223, 'eval_samples_per_second': 6.745, 'eval_steps_per_second': 0.423, 'epoch': 3.0}\n",
      "{'loss': 0.0867, 'grad_norm': 22.529979705810547, 'learning_rate': 4.2450980392156865e-09, 'epoch': 3.02}\n",
      "{'loss': 0.1713, 'grad_norm': 11.340468406677246, 'learning_rate': 4.235294117647059e-09, 'epoch': 3.06}\n",
      "{'loss': 0.0787, 'grad_norm': 15.864761352539062, 'learning_rate': 4.2254901960784315e-09, 'epoch': 3.1}\n",
      "{'loss': 0.1989, 'grad_norm': 47.87004470825195, 'learning_rate': 4.215686274509804e-09, 'epoch': 3.14}\n",
      "{'loss': 0.1534, 'grad_norm': 58.8902473449707, 'learning_rate': 4.205882352941177e-09, 'epoch': 3.18}\n",
      "{'loss': 0.1157, 'grad_norm': 30.273406982421875, 'learning_rate': 4.1960784313725496e-09, 'epoch': 3.22}\n",
      "{'loss': 0.1348, 'grad_norm': 23.036636352539062, 'learning_rate': 4.186274509803922e-09, 'epoch': 3.25}\n",
      "{'loss': 0.1351, 'grad_norm': 0.27133795619010925, 'learning_rate': 4.176470588235295e-09, 'epoch': 3.29}\n",
      "{'loss': 0.1579, 'grad_norm': 41.17185592651367, 'learning_rate': 4.166666666666667e-09, 'epoch': 3.33}\n",
      "{'loss': 0.2746, 'grad_norm': 65.9720458984375, 'learning_rate': 4.15686274509804e-09, 'epoch': 3.37}\n",
      "{'loss': 0.1236, 'grad_norm': 12.449725151062012, 'learning_rate': 4.147058823529412e-09, 'epoch': 3.41}\n",
      "{'loss': 0.1288, 'grad_norm': 113.34861755371094, 'learning_rate': 4.137254901960784e-09, 'epoch': 3.45}\n",
      "{'loss': 0.1653, 'grad_norm': 22.379295349121094, 'learning_rate': 4.127450980392157e-09, 'epoch': 3.49}\n",
      "{'loss': 0.2282, 'grad_norm': 4.257469177246094, 'learning_rate': 4.117647058823529e-09, 'epoch': 3.53}\n",
      "{'loss': 0.0792, 'grad_norm': 3.3151051998138428, 'learning_rate': 4.107843137254902e-09, 'epoch': 3.57}\n",
      "{'loss': 0.1074, 'grad_norm': 25.909700393676758, 'learning_rate': 4.098039215686274e-09, 'epoch': 3.61}\n",
      "{'loss': 0.1235, 'grad_norm': 3.0286760330200195, 'learning_rate': 4.088235294117647e-09, 'epoch': 3.65}\n",
      "{'loss': 0.297, 'grad_norm': 13.527831077575684, 'learning_rate': 4.07843137254902e-09, 'epoch': 3.69}\n",
      "{'loss': 0.0859, 'grad_norm': 44.55844497680664, 'learning_rate': 4.068627450980392e-09, 'epoch': 3.73}\n",
      "{'loss': 0.1183, 'grad_norm': 58.31126022338867, 'learning_rate': 4.058823529411765e-09, 'epoch': 3.76}\n",
      "{'loss': 0.2245, 'grad_norm': 14.091140747070312, 'learning_rate': 4.049019607843137e-09, 'epoch': 3.8}\n",
      "{'loss': 0.0765, 'grad_norm': 50.7479362487793, 'learning_rate': 4.03921568627451e-09, 'epoch': 3.84}\n",
      "{'loss': 0.0775, 'grad_norm': 31.012866973876953, 'learning_rate': 4.029411764705882e-09, 'epoch': 3.88}\n",
      "{'loss': 0.2347, 'grad_norm': 114.10283660888672, 'learning_rate': 4.019607843137255e-09, 'epoch': 3.92}\n",
      "{'loss': 0.0745, 'grad_norm': 70.02661895751953, 'learning_rate': 4.009803921568628e-09, 'epoch': 3.96}\n",
      "{'loss': 0.1244, 'grad_norm': 5.312351226806641, 'learning_rate': 4e-09, 'epoch': 4.0}\n"
     ]
    },
    {
     "data": {
      "application/vnd.jupyter.widget-view+json": {
       "model_id": "7d995ecb57e04be7902117ea7f348a97",
       "version_major": 2,
       "version_minor": 0
      },
      "text/plain": [
       "  0%|          | 0/73 [00:00<?, ?it/s]"
      ]
     },
     "metadata": {},
     "output_type": "display_data"
    },
    {
     "name": "stdout",
     "output_type": "stream",
     "text": [
      "{'eval_loss': 0.2247777283191681, 'eval_accuracy': 0.9356223175965666, 'eval_runtime': 174.3097, 'eval_samples_per_second': 6.684, 'eval_steps_per_second': 0.419, 'epoch': 4.0}\n",
      "{'train_runtime': 6085.9954, 'train_samples_per_second': 13.398, 'train_steps_per_second': 0.838, 'train_loss': 0.1472910403694008, 'epoch': 4.0}\n"
     ]
    },
    {
     "data": {
      "application/vnd.jupyter.widget-view+json": {
       "model_id": "7970f32a0e2e4cec9c510bfbca383dcc",
       "version_major": 2,
       "version_minor": 0
      },
      "text/plain": [
       "  0%|          | 0/37 [00:00<?, ?it/s]"
      ]
     },
     "metadata": {},
     "output_type": "display_data"
    },
    {
     "name": "stdout",
     "output_type": "stream",
     "text": [
      "Test Results: {'eval_loss': 0.19924920797348022, 'eval_accuracy': 0.9415807560137457, 'eval_runtime': 88.2956, 'eval_samples_per_second': 6.591, 'eval_steps_per_second': 0.419, 'epoch': 4.0}\n"
     ]
    }
   ],
   "source": [
    "training_args = TrainingArguments(\n",
    "    output_dir=\"./vit_model_1201\",\n",
    "    evaluation_strategy=\"epoch\",\n",
    "    save_strategy=\"epoch\",\n",
    "    logging_dir=\"./logs\",\n",
    "    logging_steps=10,\n",
    "    per_device_train_batch_size=16,\n",
    "    per_device_eval_batch_size=16,\n",
    "    num_train_epochs=20,\n",
    "    learning_rate=5e-9,\n",
    "    weight_decay=0.01,\n",
    "    save_total_limit=2,\n",
    "    remove_unused_columns=False,\n",
    "    load_best_model_at_end=True,\n",
    "    metric_for_best_model=\"accuracy\",\n",
    "    push_to_hub=False\n",
    ")\n",
    "\n",
    "\n",
    "trainer = Trainer(\n",
    "    model=model,\n",
    "    args=training_args,\n",
    "    train_dataset=dataset[\"train\"],\n",
    "    eval_dataset=dataset[\"validation\"],\n",
    "    tokenizer=None,\n",
    "    compute_metrics=compute_metrics,\n",
    "    callbacks=[early_stopping],\n",
    ")\n",
    "\n",
    "trainer.train()\n",
    "results = trainer.evaluate(dataset[\"test\"])\n",
    "print(\"Test Results:\", results)"
   ]
  },
  {
   "cell_type": "code",
   "execution_count": 13,
   "metadata": {},
   "outputs": [],
   "source": [
    "torch.save(model.state_dict(), 'model_parameters_1202.pth')"
   ]
  },
  {
   "cell_type": "code",
   "execution_count": null,
   "metadata": {},
   "outputs": [],
   "source": []
  }
 ],
 "metadata": {
  "kernelspec": {
   "display_name": "Python 3",
   "language": "python",
   "name": "python3"
  },
  "language_info": {
   "codemirror_mode": {
    "name": "ipython",
    "version": 3
   },
   "file_extension": ".py",
   "mimetype": "text/x-python",
   "name": "python",
   "nbconvert_exporter": "python",
   "pygments_lexer": "ipython3",
   "version": "3.11.9"
  }
 },
 "nbformat": 4,
 "nbformat_minor": 2
}
