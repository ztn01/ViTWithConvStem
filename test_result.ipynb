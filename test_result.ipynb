{
 "cells": [
  {
   "cell_type": "code",
   "execution_count": 24,
   "metadata": {},
   "outputs": [
    {
     "name": "stdout",
     "output_type": "stream",
     "text": [
      "DatasetDict({\n",
      "    train: Dataset({\n",
      "        features: ['labels', 'pixel_values'],\n",
      "        num_rows: 4077\n",
      "    })\n",
      "    validation: Dataset({\n",
      "        features: ['labels', 'pixel_values'],\n",
      "        num_rows: 1165\n",
      "    })\n",
      "    test: Dataset({\n",
      "        features: ['labels', 'pixel_values'],\n",
      "        num_rows: 582\n",
      "    })\n",
      "})\n"
     ]
    }
   ],
   "source": [
    "import torch\n",
    "import torch.nn as nn\n",
    "import accelerate\n",
    "from torch.utils.data import DataLoader\n",
    "from torchvision.transforms import (\n",
    "    Compose, Resize, ToTensor, Normalize\n",
    ")\n",
    "from transformers import ViTModel,ViTConfig, ViTForImageClassification, Trainer, TrainingArguments\n",
    "from datasets import DatasetDict\n",
    "dataset = DatasetDict.load_from_disk(\"./chest_xray_clasnsificatio\")\n",
    "\n",
    "image_size = 224\n",
    "transforms = Compose([\n",
    "    Resize((image_size, image_size)),\n",
    "    ToTensor(),\n",
    "    Normalize(mean=[0.5, 0.5, 0.5], std=[0.5, 0.5, 0.5]) \n",
    "])\n",
    "\n",
    "def preprocess_data(example):\n",
    "    example['pixel_values'] = transforms(example['image'])\n",
    "    return example\n",
    "\n",
    "dataset = dataset.map(preprocess_data, batched=False)\n",
    "\n",
    "dataset = dataset.remove_columns([\"image_file_path\", \"image\"])\n",
    "\n",
    "print(dataset)"
   ]
  },
  {
   "cell_type": "code",
   "execution_count": null,
   "metadata": {},
   "outputs": [],
   "source": [
    "class ConvStem(nn.Module):\n",
    "    def __init__(self, in_channels, out_channels, kernel_size=7, stride=2, padding=3, output_size=None):\n",
    "        super(ConvStem, self).__init__()\n",
    "        self.conv1 = nn.Conv2d(in_channels, out_channels, kernel_size, stride, padding)\n",
    "        self.bn1 = nn.BatchNorm2d(out_channels)\n",
    "        self.relu = nn.ReLU()\n",
    "\n",
    "        self.conv2 = nn.Conv2d(out_channels, out_channels, kernel_size=3, stride=1, padding=1)\n",
    "        self.bn2 = nn.BatchNorm2d(out_channels)\n",
    "\n",
    "        self.pool = nn.MaxPool2d(kernel_size=3, stride=2, padding=1)\n",
    "        self.output_size = output_size  \n",
    "\n",
    "    def forward(self, x):\n",
    "        x = self.conv1(x)\n",
    "        x = self.bn1(x)\n",
    "        x = self.relu(x)\n",
    "\n",
    "        x = self.conv2(x)\n",
    "        x = self.bn2(x)\n",
    "        x = self.relu(x)\n",
    "        \n",
    "        x = self.pool(x)\n",
    "\n",
    "        if self.output_size:\n",
    "            x = nn.functional.interpolate(x, size=self.output_size, mode='bilinear', align_corners=False)\n",
    "        return x\n",
    "\n",
    "\n",
    "class ViTWithConvStem(nn.Module):\n",
    "    def __init__(self, config, conv_out_channels=64):\n",
    "        super().__init__()\n",
    "        patch_size = config.patch_size\n",
    "        image_size = config.image_size\n",
    "\n",
    "        aligned_size = (image_size // patch_size) * patch_size\n",
    "\n",
    "        self.conv_stem = ConvStem(\n",
    "            in_channels=config.num_channels,\n",
    "            out_channels=conv_out_channels,\n",
    "            kernel_size=7,\n",
    "            stride=2,\n",
    "            padding=3,\n",
    "            output_size=(aligned_size, aligned_size), \n",
    "        )\n",
    "        self.vit = ViTForImageClassification(config)\n",
    "\n",
    "    def forward(self, pixel_values, labels=None):\n",
    "        # Pass through ConvStem\n",
    "        x = self.conv_stem(pixel_values)\n",
    "\n",
    "        batch_size, channels, height, width = x.shape\n",
    "        patch_size = self.vit.config.patch_size\n",
    "\n",
    "        x = x.unfold(2, patch_size, patch_size).unfold(3, patch_size, patch_size)\n",
    "        x = x.permute(0, 2, 3, 1, 4, 5).contiguous()\n",
    "        x = x.view(batch_size, -1, patch_size * patch_size * channels)\n",
    "\n",
    "        outputs = self.vit(pixel_values=pixel_values, labels=labels)\n",
    "        return outputs\n",
    "\n",
    "\n",
    "config = ViTConfig(\n",
    "    image_size=224,\n",
    "    num_channels=3,\n",
    "    patch_size=16,\n",
    "    hidden_size=768,\n",
    "    num_hidden_layers=12,\n",
    "    num_attention_heads=12,\n",
    "    intermediate_size=3072,\n",
    "    num_labels=2\n",
    ")\n",
    "\n",
    "\n",
    "model = ViTWithConvStem(config)"
   ]
  },
  {
   "cell_type": "code",
   "execution_count": 26,
   "metadata": {},
   "outputs": [
    {
     "name": "stderr",
     "output_type": "stream",
     "text": [
      "C:\\Users\\19811\\AppData\\Local\\Temp\\ipykernel_33104\\1299705689.py:1: FutureWarning: You are using `torch.load` with `weights_only=False` (the current default value), which uses the default pickle module implicitly. It is possible to construct malicious pickle data which will execute arbitrary code during unpickling (See https://github.com/pytorch/pytorch/blob/main/SECURITY.md#untrusted-models for more details). In a future release, the default value for `weights_only` will be flipped to `True`. This limits the functions that could be executed during unpickling. Arbitrary objects will no longer be allowed to be loaded via this mode unless they are explicitly allowlisted by the user via `torch.serialization.add_safe_globals`. We recommend you start setting `weights_only=True` for any use case where you don't have full control of the loaded file. Please open an issue on GitHub for any issues related to this experimental feature.\n",
      "  model.load_state_dict(torch.load('model_parameters_1202.pth'))\n"
     ]
    },
    {
     "data": {
      "text/plain": [
       "<All keys matched successfully>"
      ]
     },
     "execution_count": 26,
     "metadata": {},
     "output_type": "execute_result"
    }
   ],
   "source": [
    "model.load_state_dict(torch.load('model_parameters_1202.pth'))"
   ]
  },
  {
   "cell_type": "code",
   "execution_count": 27,
   "metadata": {},
   "outputs": [
    {
     "data": {
      "text/plain": [
       "<bound method Module.eval of ViTWithConvStem(\n",
       "  (conv_stem): ConvStem(\n",
       "    (conv1): Conv2d(3, 64, kernel_size=(7, 7), stride=(2, 2), padding=(3, 3))\n",
       "    (bn1): BatchNorm2d(64, eps=1e-05, momentum=0.1, affine=True, track_running_stats=True)\n",
       "    (relu): ReLU()\n",
       "    (conv2): Conv2d(64, 64, kernel_size=(3, 3), stride=(1, 1), padding=(1, 1))\n",
       "    (bn2): BatchNorm2d(64, eps=1e-05, momentum=0.1, affine=True, track_running_stats=True)\n",
       "    (pool): MaxPool2d(kernel_size=3, stride=2, padding=1, dilation=1, ceil_mode=False)\n",
       "  )\n",
       "  (vit): ViTForImageClassification(\n",
       "    (vit): ViTModel(\n",
       "      (embeddings): ViTEmbeddings(\n",
       "        (patch_embeddings): ViTPatchEmbeddings(\n",
       "          (projection): Conv2d(3, 768, kernel_size=(16, 16), stride=(16, 16))\n",
       "        )\n",
       "        (dropout): Dropout(p=0.0, inplace=False)\n",
       "      )\n",
       "      (encoder): ViTEncoder(\n",
       "        (layer): ModuleList(\n",
       "          (0-11): 12 x ViTLayer(\n",
       "            (attention): ViTSdpaAttention(\n",
       "              (attention): ViTSdpaSelfAttention(\n",
       "                (query): Linear(in_features=768, out_features=768, bias=True)\n",
       "                (key): Linear(in_features=768, out_features=768, bias=True)\n",
       "                (value): Linear(in_features=768, out_features=768, bias=True)\n",
       "                (dropout): Dropout(p=0.0, inplace=False)\n",
       "              )\n",
       "              (output): ViTSelfOutput(\n",
       "                (dense): Linear(in_features=768, out_features=768, bias=True)\n",
       "                (dropout): Dropout(p=0.0, inplace=False)\n",
       "              )\n",
       "            )\n",
       "            (intermediate): ViTIntermediate(\n",
       "              (dense): Linear(in_features=768, out_features=3072, bias=True)\n",
       "              (intermediate_act_fn): GELUActivation()\n",
       "            )\n",
       "            (output): ViTOutput(\n",
       "              (dense): Linear(in_features=3072, out_features=768, bias=True)\n",
       "              (dropout): Dropout(p=0.0, inplace=False)\n",
       "            )\n",
       "            (layernorm_before): LayerNorm((768,), eps=1e-12, elementwise_affine=True)\n",
       "            (layernorm_after): LayerNorm((768,), eps=1e-12, elementwise_affine=True)\n",
       "          )\n",
       "        )\n",
       "      )\n",
       "      (layernorm): LayerNorm((768,), eps=1e-12, elementwise_affine=True)\n",
       "    )\n",
       "    (classifier): Linear(in_features=768, out_features=2, bias=True)\n",
       "  )\n",
       ")>"
      ]
     },
     "execution_count": 27,
     "metadata": {},
     "output_type": "execute_result"
    }
   ],
   "source": [
    "model.eval"
   ]
  },
  {
   "cell_type": "code",
   "execution_count": 17,
   "metadata": {},
   "outputs": [
    {
     "name": "stderr",
     "output_type": "stream",
     "text": [
      "C:\\Users\\19811\\AppData\\Local\\Packages\\PythonSoftwareFoundation.Python.3.11_qbz5n2kfra8p0\\LocalCache\\local-packages\\Python311\\site-packages\\transformers\\training_args.py:1568: FutureWarning: `evaluation_strategy` is deprecated and will be removed in version 4.46 of 🤗 Transformers. Use `eval_strategy` instead\n",
      "  warnings.warn(\n",
      "C:\\Users\\19811\\AppData\\Local\\Temp\\ipykernel_33104\\2483562209.py:28: FutureWarning: `tokenizer` is deprecated and will be removed in version 5.0.0 for `Trainer.__init__`. Use `processing_class` instead.\n",
      "  trainer = Trainer(\n"
     ]
    }
   ],
   "source": [
    "training_args = TrainingArguments(\n",
    "    output_dir=\"./vit_model_1203_1\",\n",
    "    evaluation_strategy=\"epoch\",\n",
    "    save_strategy=\"epoch\",\n",
    "    logging_dir=\"./logs\",\n",
    "    logging_steps=10,\n",
    "    per_device_train_batch_size=16,\n",
    "    per_device_eval_batch_size=16,\n",
    "    num_train_epochs=5,\n",
    "    learning_rate=5e-5,\n",
    "    weight_decay=0.01,\n",
    "    save_total_limit=2,\n",
    "    remove_unused_columns=False,\n",
    "    load_best_model_at_end=True,\n",
    "    metric_for_best_model=\"accuracy\",\n",
    "    push_to_hub=False\n",
    ")\n",
    "\n",
    "from evaluate import load\n",
    "\n",
    "metric = load(\"accuracy\")\n",
    "\n",
    "def compute_metrics(eval_pred):\n",
    "    logits, labels = eval_pred\n",
    "    predictions = torch.argmax(torch.tensor(logits), dim=-1)\n",
    "    return metric.compute(predictions=predictions.numpy(), references=labels)\n",
    "\n",
    "trainer = Trainer(\n",
    "    model=model,\n",
    "    args=training_args,\n",
    "    train_dataset=dataset[\"train\"],\n",
    "    eval_dataset=dataset[\"validation\"],\n",
    "    tokenizer=None,\n",
    "    compute_metrics=compute_metrics\n",
    ")"
   ]
  },
  {
   "cell_type": "code",
   "execution_count": 18,
   "metadata": {},
   "outputs": [
    {
     "data": {
      "application/vnd.jupyter.widget-view+json": {
       "model_id": "a2ff00b9789b4872b61504086a82470c",
       "version_major": 2,
       "version_minor": 0
      },
      "text/plain": [
       "  0%|          | 0/37 [00:00<?, ?it/s]"
      ]
     },
     "metadata": {},
     "output_type": "display_data"
    },
    {
     "name": "stderr",
     "output_type": "stream",
     "text": [
      "\u001b[34m\u001b[1mwandb\u001b[0m: \u001b[33mWARNING\u001b[0m The `run_name` is currently set to the same value as `TrainingArguments.output_dir`. If this was not intended, please specify a different run name by setting the `TrainingArguments.run_name` parameter.\n",
      "wandb: Using wandb-core as the SDK backend. Please refer to https://wandb.me/wandb-core for more information.\n",
      "wandb: Currently logged in as: tzeng5 (tzeng5-nc-state-university). Use `wandb login --relogin` to force relogin\n"
     ]
    },
    {
     "data": {
      "text/html": [
       "Tracking run with wandb version 0.18.5"
      ],
      "text/plain": [
       "<IPython.core.display.HTML object>"
      ]
     },
     "metadata": {},
     "output_type": "display_data"
    },
    {
     "data": {
      "text/html": [
       "Run data is saved locally in <code>c:\\Users\\19811\\Desktop\\Master\\ECE592\\proj2\\wandb\\run-20241204_005256-t39yb2xt</code>"
      ],
      "text/plain": [
       "<IPython.core.display.HTML object>"
      ]
     },
     "metadata": {},
     "output_type": "display_data"
    },
    {
     "data": {
      "text/html": [
       "Syncing run <strong><a href='https://wandb.ai/tzeng5-nc-state-university/huggingface/runs/t39yb2xt' target=\"_blank\">./vit_model_1203_1</a></strong> to <a href='https://wandb.ai/tzeng5-nc-state-university/huggingface' target=\"_blank\">Weights & Biases</a> (<a href='https://wandb.me/run' target=\"_blank\">docs</a>)<br/>"
      ],
      "text/plain": [
       "<IPython.core.display.HTML object>"
      ]
     },
     "metadata": {},
     "output_type": "display_data"
    },
    {
     "data": {
      "text/html": [
       " View project at <a href='https://wandb.ai/tzeng5-nc-state-university/huggingface' target=\"_blank\">https://wandb.ai/tzeng5-nc-state-university/huggingface</a>"
      ],
      "text/plain": [
       "<IPython.core.display.HTML object>"
      ]
     },
     "metadata": {},
     "output_type": "display_data"
    },
    {
     "data": {
      "text/html": [
       " View run at <a href='https://wandb.ai/tzeng5-nc-state-university/huggingface/runs/t39yb2xt' target=\"_blank\">https://wandb.ai/tzeng5-nc-state-university/huggingface/runs/t39yb2xt</a>"
      ],
      "text/plain": [
       "<IPython.core.display.HTML object>"
      ]
     },
     "metadata": {},
     "output_type": "display_data"
    },
    {
     "name": "stdout",
     "output_type": "stream",
     "text": [
      "Test Results: {'eval_loss': 0.19924920797348022, 'eval_model_preparation_time': 0.0022, 'eval_accuracy': 0.9415807560137457, 'eval_runtime': 92.6813, 'eval_samples_per_second': 6.28, 'eval_steps_per_second': 0.399}\n"
     ]
    }
   ],
   "source": [
    "results = trainer.evaluate(dataset[\"test\"])\n",
    "print(\"Test Results:\", results)"
   ]
  },
  {
   "cell_type": "code",
   "execution_count": null,
   "metadata": {},
   "outputs": [
    {
     "data": {
      "image/png": "[encoded data removed]",
      "text/plain": [
       "<Figure size 640x480 with 1 Axes>"
      ]
     },
     "metadata": {},
     "output_type": "display_data"
    }
   ],
   "source": [
    "import torch\n",
    "import numpy as np\n",
    "from sklearn.metrics import roc_auc_score, roc_curve\n",
    "import matplotlib.pyplot as plt\n",
    "\n",
    "\n",
    "\n",
    "test_dataset = dataset[\"test\"]\n",
    "logits, labels = [], []\n",
    "\n",
    "for i in range(len(test_dataset)):\n",
    "    inputs = torch.tensor(test_dataset[i][\"pixel_values\"]).unsqueeze(0)\n",
    "    with torch.no_grad():\n",
    "        output = model(inputs)\n",
    "    logits.append(output.logits.squeeze(0).numpy())\n",
    "    labels.append(test_dataset[i][\"labels\"])\n",
    "\n",
    "logits = np.array(logits)\n",
    "labels = np.array(labels)\n",
    "\n",
    "\n",
    "\n",
    "probs = torch.sigmoid(torch.tensor(logits)).numpy().flatten()\n",
    "\n",
    "fpr, tpr, thresholds = roc_curve(labels, probs)\n",
    "roc_auc = roc_auc_score(labels, probs)\n",
    "\n",
    "plt.figure()\n",
    "plt.plot(fpr, tpr, label=f'ROC curve (area = {roc_auc:.2f})')\n",
    "plt.plot([0, 1], [0, 1], 'k--') \n",
    "plt.xlim([0.0, 1.0])\n",
    "plt.ylim([0.0, 1.05])\n",
    "plt.xlabel('False Positive Rate')\n",
    "plt.ylabel('True Positive Rate')\n",
    "plt.title('Receiver Operating Characteristic')\n",
    "plt.legend(loc=\"lower right\")\n",
    "plt.show()"
   ]
  },
  {
   "cell_type": "code",
   "execution_count": null,
   "metadata": {},
   "outputs": [
    {
     "name": "stdout",
     "output_type": "stream",
     "text": [
      "F1 Score: 0.96\n",
      "Accuracy: 0.94\n",
      "Precision: 0.94\n",
      "Recall: 0.98\n",
      "\n",
      "Confusion Matrix:\n",
      "[[145  26]\n",
      " [  8 403]]\n",
      "\n",
      "Classification Report:\n",
      "              precision    recall  f1-score   support\n",
      "\n",
      "           0       0.95      0.85      0.90       171\n",
      "           1       0.94      0.98      0.96       411\n",
      "\n",
      "    accuracy                           0.94       582\n",
      "   macro avg       0.94      0.91      0.93       582\n",
      "weighted avg       0.94      0.94      0.94       582\n",
      "\n"
     ]
    }
   ],
   "source": [
    "logits, labels = [], []\n",
    "\n",
    "for i in range(len(test_dataset)):\n",
    "    inputs = torch.tensor(test_dataset[i][\"pixel_values\"]).unsqueeze(0)\n",
    "    with torch.no_grad():\n",
    "        output = model(inputs)\n",
    "    logits.append(output.logits.squeeze(0).numpy())  \n",
    "    labels.append(test_dataset[i][\"labels\"])    \n",
    "\n",
    "logits = np.array(logits)\n",
    "labels = np.array(labels)\n",
    "\n",
    "if logits.shape[0] != labels.shape[0]:\n",
    "    print(f\"Error: logits samples ({logits.shape[0]}) and labels samples ({labels.shape[0]}) do not match.\")\n",
    "    exit()\n",
    "\n",
    "\n",
    "predicted_probs = torch.sigmoid(torch.tensor(logits)).numpy().flatten()\n",
    "predicted_labels = (predicted_probs >= 0.5).astype(int)\n",
    "\n",
    "\n",
    "assert len(predicted_labels) == len(labels), \"Predicted labels and true labels lengths do not match.\"\n",
    "\n",
    "\n",
    "from sklearn.metrics import f1_score, accuracy_score, precision_score, recall_score, confusion_matrix, classification_report\n",
    "\n",
    "f1 = f1_score(labels, predicted_labels, average='binary')\n",
    "accuracy = accuracy_score(labels, predicted_labels)\n",
    "precision = precision_score(labels, predicted_labels, average='binary')\n",
    "recall = recall_score(labels, predicted_labels, average='binary')\n",
    "conf_matrix = confusion_matrix(labels, predicted_labels)\n",
    "\n",
    "print(f\"F1 Score: {f1:.2f}\")\n",
    "print(f\"Accuracy: {accuracy:.2f}\")\n",
    "print(f\"Precision: {precision:.2f}\")\n",
    "print(f\"Recall: {recall:.2f}\")\n",
    "print(\"\\nConfusion Matrix:\")\n",
    "print(conf_matrix)\n",
    "print(\"\\nClassification Report:\")\n",
    "print(classification_report(labels, predicted_labels))\n"
   ]
  },
  {
   "cell_type": "code",
   "execution_count": 9,
   "metadata": {},
   "outputs": [],
   "source": [
    "from transformers import ViTForImageClassification\n",
    "\n",
    "model0 = ViTForImageClassification.from_pretrained(\"./vit_model\")"
   ]
  },
  {
   "cell_type": "code",
   "execution_count": null,
   "metadata": {},
   "outputs": [
    {
     "data": {
      "image/png": "[encoded data removed]",
      "text/plain": [
       "<Figure size 640x480 with 1 Axes>"
      ]
     },
     "metadata": {},
     "output_type": "display_data"
    }
   ],
   "source": [
    "test_dataset = dataset[\"test\"]\n",
    "logits, labels = [], []\n",
    "\n",
    "for i in range(len(test_dataset)):\n",
    "    inputs = torch.tensor(test_dataset[i][\"pixel_values\"]).unsqueeze(0)\n",
    "    with torch.no_grad():\n",
    "        output = model0(inputs)\n",
    "    logits.append(output.logits.squeeze(0).numpy())\n",
    "    labels.append(test_dataset[i][\"labels\"])\n",
    "\n",
    "logits = np.array(logits)\n",
    "labels = np.array(labels)\n",
    "\n",
    "probs = torch.sigmoid(torch.tensor(logits)).numpy().flatten()\n",
    "\n",
    "fpr, tpr, thresholds = roc_curve(labels, probs)\n",
    "roc_auc = roc_auc_score(labels, probs)\n",
    "\n",
    "plt.figure()\n",
    "plt.plot(fpr, tpr, label=f'ROC curve (area = {roc_auc:.2f})')\n",
    "plt.plot([0, 1], [0, 1], 'k--') \n",
    "plt.xlim([0.0, 1.0])\n",
    "plt.ylim([0.0, 1.05])\n",
    "plt.xlabel('False Positive Rate')\n",
    "plt.ylabel('True Positive Rate')\n",
    "plt.title('Receiver Operating Characteristic')\n",
    "plt.legend(loc=\"lower right\")\n",
    "plt.show()"
   ]
  },
  {
   "cell_type": "code",
   "execution_count": 11,
   "metadata": {},
   "outputs": [
    {
     "name": "stdout",
     "output_type": "stream",
     "text": [
      "F1 Score: 0.96\n",
      "Accuracy: 0.94\n",
      "Precision: 0.94\n",
      "Recall: 0.98\n",
      "\n",
      "Confusion Matrix:\n",
      "[[145  26]\n",
      " [  8 403]]\n",
      "\n",
      "Classification Report:\n",
      "              precision    recall  f1-score   support\n",
      "\n",
      "           0       0.95      0.85      0.90       171\n",
      "           1       0.94      0.98      0.96       411\n",
      "\n",
      "    accuracy                           0.94       582\n",
      "   macro avg       0.94      0.91      0.93       582\n",
      "weighted avg       0.94      0.94      0.94       582\n",
      "\n"
     ]
    }
   ],
   "source": [
    "\n",
    "f1 = f1_score(labels, predicted_labels, average='binary')\n",
    "accuracy = accuracy_score(labels, predicted_labels)\n",
    "precision = precision_score(labels, predicted_labels, average='binary')\n",
    "recall = recall_score(labels, predicted_labels, average='binary')\n",
    "conf_matrix = confusion_matrix(labels, predicted_labels)\n",
    "\n",
    "print(f\"F1 Score: {f1:.2f}\")\n",
    "print(f\"Accuracy: {accuracy:.2f}\")\n",
    "print(f\"Precision: {precision:.2f}\")\n",
    "print(f\"Recall: {recall:.2f}\")\n",
    "print(\"\\nConfusion Matrix:\")\n",
    "print(conf_matrix)\n",
    "print(\"\\nClassification Report:\")\n",
    "print(classification_report(labels, predicted_labels))\n"
   ]
  },
  {
   "cell_type": "code",
   "execution_count": null,
   "metadata": {},
   "outputs": [],
   "source": []
  }
 ],
 "metadata": {
  "kernelspec": {
   "display_name": "Python 3",
   "language": "python",
   "name": "python3"
  },
  "language_info": {
   "codemirror_mode": {
    "name": "ipython",
    "version": 3
   },
   "file_extension": ".py",
   "mimetype": "text/x-python",
   "name": "python",
   "nbconvert_exporter": "python",
   "pygments_lexer": "ipython3",
   "version": "3.11.9"
  }
 },
 "nbformat": 4,
 "nbformat_minor": 2
}
